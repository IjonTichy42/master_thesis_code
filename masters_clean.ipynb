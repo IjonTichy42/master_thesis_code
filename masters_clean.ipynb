{
  "nbformat": 4,
  "nbformat_minor": 0,
  "metadata": {
    "colab": {
      "name": "masters_clean.ipynb",
      "provenance": [],
      "collapsed_sections": [],
      "authorship_tag": "ABX9TyN4sL/BIdr5tXdRFaj/s0gM"
    },
    "kernelspec": {
      "name": "python3",
      "display_name": "Python 3"
    },
    "language_info": {
      "name": "python"
    },
    "accelerator": "GPU"
  },
  "cells": [
    {
      "cell_type": "markdown",
      "source": [
        "**Installing dependencies**"
      ],
      "metadata": {
        "id": "fI4VJkKgfSVC"
      }
    },
    {
      "cell_type": "code",
      "execution_count": null,
      "metadata": {
        "colab": {
          "base_uri": "https://localhost:8080/",
          "height": 783
        },
        "id": "_SFFGWZ_ag5g",
        "outputId": "8a77d9e4-31f2-42ae-e4a7-66078343da52"
      },
      "outputs": [
        {
          "output_type": "stream",
          "name": "stdout",
          "text": [
            "Collecting socceraction==1.1.1\n",
            "  Downloading socceraction-1.1.1-py3-none-any.whl (75 kB)\n",
            "\u001b[K     |████████████████████████████████| 75 kB 1.9 MB/s \n",
            "\u001b[?25hRequirement already satisfied: scikit-learn in /usr/local/lib/python3.7/dist-packages (from socceraction==1.1.1) (1.0.1)\n",
            "Collecting pandera>=0.6.1\n",
            "  Downloading pandera-0.8.0-py3-none-any.whl (186 kB)\n",
            "\u001b[K     |████████████████████████████████| 186 kB 16.0 MB/s \n",
            "\u001b[?25hRequirement already satisfied: requests in /usr/local/lib/python3.7/dist-packages (from socceraction==1.1.1) (2.23.0)\n",
            "Requirement already satisfied: lxml in /usr/local/lib/python3.7/dist-packages (from socceraction==1.1.1) (4.2.6)\n",
            "Requirement already satisfied: tqdm in /usr/local/lib/python3.7/dist-packages (from socceraction==1.1.1) (4.62.3)\n",
            "Requirement already satisfied: packaging>=20.0 in /usr/local/lib/python3.7/dist-packages (from socceraction==1.1.1) (21.3)\n",
            "Requirement already satisfied: cython in /usr/local/lib/python3.7/dist-packages (from socceraction==1.1.1) (0.29.24)\n",
            "Requirement already satisfied: pandas>=1.1.0 in /usr/local/lib/python3.7/dist-packages (from socceraction==1.1.1) (1.1.5)\n",
            "Collecting unidecode\n",
            "  Downloading Unidecode-1.3.2-py3-none-any.whl (235 kB)\n",
            "\u001b[K     |████████████████████████████████| 235 kB 38.7 MB/s \n",
            "\u001b[?25hRequirement already satisfied: pyparsing!=3.0.5,>=2.0.2 in /usr/local/lib/python3.7/dist-packages (from packaging>=20.0->socceraction==1.1.1) (3.0.6)\n",
            "Requirement already satisfied: numpy>=1.15.4 in /usr/local/lib/python3.7/dist-packages (from pandas>=1.1.0->socceraction==1.1.1) (1.19.5)\n",
            "Requirement already satisfied: python-dateutil>=2.7.3 in /usr/local/lib/python3.7/dist-packages (from pandas>=1.1.0->socceraction==1.1.1) (2.8.2)\n",
            "Requirement already satisfied: pytz>=2017.2 in /usr/local/lib/python3.7/dist-packages (from pandas>=1.1.0->socceraction==1.1.1) (2018.9)\n",
            "Requirement already satisfied: typing-extensions>=3.7.4.3 in /usr/local/lib/python3.7/dist-packages (from pandera>=0.6.1->socceraction==1.1.1) (3.10.0.2)\n",
            "Requirement already satisfied: pyarrow in /usr/local/lib/python3.7/dist-packages (from pandera>=0.6.1->socceraction==1.1.1) (3.0.0)\n",
            "Collecting typing-inspect>=0.6.0\n",
            "  Downloading typing_inspect-0.7.1-py3-none-any.whl (8.4 kB)\n",
            "Collecting pandas-stubs\n",
            "  Downloading pandas_stubs-1.2.0.39-py3-none-any.whl (161 kB)\n",
            "\u001b[K     |████████████████████████████████| 161 kB 34.8 MB/s \n",
            "\u001b[?25hRequirement already satisfied: wrapt in /usr/local/lib/python3.7/dist-packages (from pandera>=0.6.1->socceraction==1.1.1) (1.13.3)\n",
            "Requirement already satisfied: six>=1.5 in /usr/local/lib/python3.7/dist-packages (from python-dateutil>=2.7.3->pandas>=1.1.0->socceraction==1.1.1) (1.15.0)\n",
            "Collecting mypy-extensions>=0.3.0\n",
            "  Downloading mypy_extensions-0.4.3-py2.py3-none-any.whl (4.5 kB)\n",
            "Requirement already satisfied: urllib3!=1.25.0,!=1.25.1,<1.26,>=1.21.1 in /usr/local/lib/python3.7/dist-packages (from requests->socceraction==1.1.1) (1.24.3)\n",
            "Requirement already satisfied: chardet<4,>=3.0.2 in /usr/local/lib/python3.7/dist-packages (from requests->socceraction==1.1.1) (3.0.4)\n",
            "Requirement already satisfied: certifi>=2017.4.17 in /usr/local/lib/python3.7/dist-packages (from requests->socceraction==1.1.1) (2021.10.8)\n",
            "Requirement already satisfied: idna<3,>=2.5 in /usr/local/lib/python3.7/dist-packages (from requests->socceraction==1.1.1) (2.10)\n",
            "Requirement already satisfied: joblib>=0.11 in /usr/local/lib/python3.7/dist-packages (from scikit-learn->socceraction==1.1.1) (1.1.0)\n",
            "Requirement already satisfied: scipy>=1.1.0 in /usr/local/lib/python3.7/dist-packages (from scikit-learn->socceraction==1.1.1) (1.4.1)\n",
            "Requirement already satisfied: threadpoolctl>=2.0.0 in /usr/local/lib/python3.7/dist-packages (from scikit-learn->socceraction==1.1.1) (3.0.0)\n",
            "Installing collected packages: mypy-extensions, typing-inspect, pandas-stubs, unidecode, pandera, socceraction\n",
            "Successfully installed mypy-extensions-0.4.3 pandas-stubs-1.2.0.39 pandera-0.8.0 socceraction-1.1.1 typing-inspect-0.7.1 unidecode-1.3.2\n"
          ]
        },
        {
          "output_type": "display_data",
          "data": {
            "application/vnd.colab-display-data+json": {
              "pip_warning": {
                "packages": [
                  "pandas"
                ]
              }
            }
          },
          "metadata": {}
        }
      ],
      "source": [
        "%pip install socceraction==1.1.1"
      ]
    },
    {
      "cell_type": "code",
      "source": [
        "%pip install scipy==1.7.1"
      ],
      "metadata": {
        "colab": {
          "base_uri": "https://localhost:8080/",
          "height": 307
        },
        "id": "vCp7vkzZu2fO",
        "outputId": "16339531-4027-4425-a983-d7c00f4253bb"
      },
      "execution_count": null,
      "outputs": [
        {
          "output_type": "stream",
          "name": "stdout",
          "text": [
            "Collecting scipy==1.7.1\n",
            "  Downloading scipy-1.7.1-cp37-cp37m-manylinux_2_5_x86_64.manylinux1_x86_64.whl (28.5 MB)\n",
            "\u001b[K     |████████████████████████████████| 28.5 MB 2.6 MB/s \n",
            "\u001b[?25hRequirement already satisfied: numpy<1.23.0,>=1.16.5 in /usr/local/lib/python3.7/dist-packages (from scipy==1.7.1) (1.19.5)\n",
            "Installing collected packages: scipy\n",
            "  Attempting uninstall: scipy\n",
            "    Found existing installation: scipy 1.4.1\n",
            "    Uninstalling scipy-1.4.1:\n",
            "      Successfully uninstalled scipy-1.4.1\n",
            "\u001b[31mERROR: pip's dependency resolver does not currently take into account all the packages that are installed. This behaviour is the source of the following dependency conflicts.\n",
            "albumentations 0.1.12 requires imgaug<0.2.7,>=0.2.5, but you have imgaug 0.2.9 which is incompatible.\u001b[0m\n",
            "Successfully installed scipy-1.7.1\n"
          ]
        },
        {
          "output_type": "display_data",
          "data": {
            "application/vnd.colab-display-data+json": {
              "pip_warning": {
                "packages": [
                  "scipy"
                ]
              }
            }
          },
          "metadata": {}
        }
      ]
    },
    {
      "cell_type": "code",
      "source": [
        "import numpy as np\n",
        "import pandas as pd\n",
        "from glob import glob\n",
        "from sklearn.preprocessing import OneHotEncoder\n",
        "from socceraction.data.statsbomb import StatsBombLoader\n",
        "import socceraction.spadl as spadl\n",
        "import socceraction.xthreat as xthreat\n",
        "import socceraction.vaep as vaep\n",
        "import matplotlib.pyplot as plt\n",
        "from sklearn.model_selection import train_test_split\n",
        "import pickle\n",
        "import sklearn\n",
        "import os\n",
        "import torch\n",
        "from torch import nn\n",
        "from torch.utils.data import DataLoader\n",
        "from torchvision import datasets, transforms"
      ],
      "metadata": {
        "id": "pFEkw_5nb2J-"
      },
      "execution_count": null,
      "outputs": []
    },
    {
      "cell_type": "code",
      "source": [
        "from google.colab import drive\n",
        "drive.mount('/content/drive')"
      ],
      "metadata": {
        "colab": {
          "base_uri": "https://localhost:8080/"
        },
        "id": "mYYnDmUWccKI",
        "outputId": "ba6b6482-995f-41d1-8876-44429840994a"
      },
      "execution_count": null,
      "outputs": [
        {
          "output_type": "stream",
          "name": "stdout",
          "text": [
            "Mounted at /content/drive\n"
          ]
        }
      ]
    },
    {
      "cell_type": "markdown",
      "source": [
        "**Get match ids**"
      ],
      "metadata": {
        "id": "gCH5SzQtfcOb"
      }
    },
    {
      "cell_type": "code",
      "source": [
        "competitions = pd.read_json(\"./drive/MyDrive/master/open-data/data/competitions.json\")\n",
        "competitions = competitions.loc[~competitions['country_name'].isin([\"Europe\", \"International\"])]\n",
        "competitions_f = competitions.loc[competitions['competition_gender'] == \"female\"]\n",
        "competitions_m = competitions.loc[competitions['competition_gender'] == \"male\"]"
      ],
      "metadata": {
        "id": "0VcSQBAUd-rH"
      },
      "execution_count": null,
      "outputs": []
    },
    {
      "cell_type": "code",
      "source": [
        "competition_ids = set(competitions.competition_id)\n",
        "competition_f_ids = set(competitions_f.competition_id)\n",
        "competition_m_ids = set(competitions_m.competition_id)"
      ],
      "metadata": {
        "id": "Ao-GMwQleEGs"
      },
      "execution_count": null,
      "outputs": []
    },
    {
      "cell_type": "code",
      "source": [
        "matches_f = None\n",
        "for c_id in competition_f_ids:\n",
        "    for matches_json in glob(\"./drive/MyDrive/master/open-data/data/matches/\" + str(c_id) + \"/*.json\"):\n",
        "        if matches_f is None:\n",
        "            matches_f = pd.read_json(matches_json)\n",
        "        else:\n",
        "            new_matches = pd.read_json(matches_json)\n",
        "            matches_f = pd.concat([matches_f, new_matches], ignore_index=True)\n",
        "\n",
        "matches_m = None\n",
        "for c_id in competition_m_ids:\n",
        "    for matches_json in glob(\"./drive/MyDrive/master/open-data/data/matches/\" + str(c_id) + \"/*.json\"):\n",
        "        if matches_m is None:\n",
        "            matches_m = pd.read_json(matches_json)\n",
        "        else:\n",
        "            new_matches = pd.read_json(matches_json)\n",
        "            matches_m = pd.concat([matches_m, new_matches], ignore_index=True)\n",
        "\n",
        "match_ids_f = matches_f.match_id\n",
        "match_ids_m = matches_m.match_id"
      ],
      "metadata": {
        "id": "qpNqHQ2JeLm1"
      },
      "execution_count": null,
      "outputs": []
    },
    {
      "cell_type": "markdown",
      "source": [
        "**Convert to SPADL**"
      ],
      "metadata": {
        "id": "t2vySgPOfgs6"
      }
    },
    {
      "cell_type": "code",
      "source": [
        "loader = StatsBombLoader(\"./drive/MyDrive/master/open-data/data\", \"local\")"
      ],
      "metadata": {
        "id": "A4oUAcbWe1Wg"
      },
      "execution_count": null,
      "outputs": []
    },
    {
      "cell_type": "code",
      "source": [
        "def transformer(matches, match_ids, loader):\n",
        "    actions = []\n",
        "    actiontypes = spadl.actiontypes_df()\n",
        "    actiontypes_dict = actiontypes.to_dict()['type_name']\n",
        "    for m_id in match_ids:\n",
        "        match_events = loader.events(game_id=m_id)\n",
        "        home_team_id = matches[matches[\"match_id\"] == m_id][\"home_team\"].iloc[0][\"home_team_id\"]\n",
        "        match_actions = spadl.statsbomb.convert_to_actions(match_events, home_team_id)\n",
        "        match_actions[\"type_name\"] = match_actions[\"type_id\"].map(actiontypes_dict)\n",
        "        time_spent = [0]\n",
        "        for i in range(1, len(match_actions)):\n",
        "            time_spent.append(match_actions.iloc[i]['time_seconds'] - match_actions.iloc[i - 1]['time_seconds'])\n",
        "        match_actions['time_spent'] = time_spent\n",
        "        actions.append(match_actions)\n",
        "    actions_dataframe = pd.concat(actions)\n",
        "    props_list = [\"start_x\", \"start_y\", \"end_x\", \"end_y\", \"type_name\", \"result_id\", \"bodypart_id\"]\n",
        "    props_list.append(\"time_spent\")\n",
        "    X = actions_dataframe[props_list].copy()\n",
        "    return X\n",
        "\n"
      ],
      "metadata": {
        "id": "QDLLIZAUe369"
      },
      "execution_count": null,
      "outputs": []
    },
    {
      "cell_type": "markdown",
      "source": [
        "**Split**"
      ],
      "metadata": {
        "id": "tTK-47wffnCq"
      }
    },
    {
      "cell_type": "code",
      "source": [
        "ids_f_train, ids_f_test = train_test_split(match_ids_f, test_size=0.2, random_state=1)\n",
        "ids_f_train, ids_f_val = train_test_split(match_ids_f, test_size=0.25, random_state=1)\n",
        "\n",
        "ids_m_train, ids_m_test = train_test_split(match_ids_m, test_size=0.2, random_state=1)\n",
        "ids_m_train, ids_m_val = train_test_split(match_ids_m, test_size=0.25, random_state=1)"
      ],
      "metadata": {
        "id": "VoGt8qnhoEdk"
      },
      "execution_count": null,
      "outputs": []
    },
    {
      "cell_type": "code",
      "source": [
        "X_f_train = transformer(matches_f, ids_f_train, loader)\n"
      ],
      "metadata": {
        "id": "_c9DsrK8pMPo"
      },
      "execution_count": null,
      "outputs": []
    },
    {
      "cell_type": "code",
      "source": [
        "X_f_test = transformer(matches_f, ids_f_test, loader)"
      ],
      "metadata": {
        "id": "F8u5XuV8lkIG"
      },
      "execution_count": null,
      "outputs": []
    },
    {
      "cell_type": "code",
      "source": [
        "X_f_val = transformer(matches_f, ids_f_val, loader)"
      ],
      "metadata": {
        "id": "OK-dmYeIl3Tk"
      },
      "execution_count": null,
      "outputs": []
    },
    {
      "cell_type": "code",
      "source": [
        "X_m_train = transformer(matches_m, ids_m_train, loader)"
      ],
      "metadata": {
        "id": "HiJrAWUGl4jm"
      },
      "execution_count": null,
      "outputs": []
    },
    {
      "cell_type": "code",
      "source": [
        "X_m_test = transformer(matches_m, ids_m_test, loader)"
      ],
      "metadata": {
        "id": "8OA4vizrmMBA"
      },
      "execution_count": null,
      "outputs": []
    },
    {
      "cell_type": "code",
      "source": [
        "X_m_val = transformer(matches_m, ids_m_val, loader)"
      ],
      "metadata": {
        "id": "q0WIaUY1mNGu"
      },
      "execution_count": null,
      "outputs": []
    },
    {
      "cell_type": "code",
      "source": [
        "X_f_train.to_csv('./drive/MyDrive/master/dumps/X_f_train.csv', index=False)\n",
        "X_f_test.to_csv('./drive/MyDrive/master/dumps/X_f_test.csv', index=False)\n",
        "X_f_val.to_csv('./drive/MyDrive/master/dumps/X_f_val.csv', index=False)\n",
        "X_m_train.to_csv('./drive/MyDrive/master/dumps/X_m_train.csv', index=False)\n",
        "X_m_test.to_csv('./drive/MyDrive/master/dumps/X_m_test.csv', index=False)\n",
        "X_m_val.to_csv('./drive/MyDrive/master/dumps/X_m_val.csv', index=False)\n"
      ],
      "metadata": {
        "id": "WUATZbDj5JgY"
      },
      "execution_count": null,
      "outputs": []
    },
    {
      "cell_type": "code",
      "source": [
        "X_f_train = pd.read_csv('./drive/MyDrive/master/dumps/X_f_train.csv')\n",
        "X_f_test = pd.read_csv('./drive/MyDrive/master/dumps/X_f_test.csv')\n",
        "X_f_val = pd.read_csv('./drive/MyDrive/master/dumps/X_f_val.csv')\n",
        "X_m_train = pd.read_csv('./drive/MyDrive/master/dumps/X_m_train.csv')\n",
        "X_m_test = pd.read_csv('./drive/MyDrive/master/dumps/X_m_test.csv')\n",
        "X_m_val = pd.read_csv('./drive/MyDrive/master/dumps/X_m_val.csv')"
      ],
      "metadata": {
        "id": "a1QbdHAMPz_f"
      },
      "execution_count": null,
      "outputs": []
    },
    {
      "cell_type": "code",
      "source": [
        "X_f_train.shape[0]"
      ],
      "metadata": {
        "colab": {
          "base_uri": "https://localhost:8080/"
        },
        "id": "hGvrKcNIX9wh",
        "outputId": "1a4b6551-994d-4003-c912-6557182d5029"
      },
      "execution_count": null,
      "outputs": [
        {
          "output_type": "execute_result",
          "data": {
            "text/plain": [
              "523142"
            ]
          },
          "metadata": {},
          "execution_count": 12
        }
      ]
    },
    {
      "cell_type": "code",
      "source": [
        "X_f_train[X_f_train[\"type_name\"] == \"pass\"][X_f_train[\"result_id\"] == 1].shape[0]"
      ],
      "metadata": {
        "colab": {
          "base_uri": "https://localhost:8080/"
        },
        "id": "dHzTDqlWNe0c",
        "outputId": "ad5d54cc-f9cf-4764-ccba-537efed8d7ff"
      },
      "execution_count": null,
      "outputs": [
        {
          "output_type": "stream",
          "name": "stderr",
          "text": [
            "/usr/local/lib/python3.7/dist-packages/ipykernel_launcher.py:1: UserWarning: Boolean Series key will be reindexed to match DataFrame index.\n",
            "  \"\"\"Entry point for launching an IPython kernel.\n"
          ]
        },
        {
          "output_type": "execute_result",
          "data": {
            "text/plain": [
              "162594"
            ]
          },
          "metadata": {},
          "execution_count": 31
        }
      ]
    },
    {
      "cell_type": "code",
      "source": [
        "X_f_test.shape[0]"
      ],
      "metadata": {
        "colab": {
          "base_uri": "https://localhost:8080/"
        },
        "id": "L7-cFu_FYCfP",
        "outputId": "fb5ecb37-2d3f-4b2c-aa17-7cfd5afaab23"
      },
      "execution_count": null,
      "outputs": [
        {
          "output_type": "execute_result",
          "data": {
            "text/plain": [
              "138288"
            ]
          },
          "metadata": {},
          "execution_count": 9
        }
      ]
    },
    {
      "cell_type": "code",
      "source": [
        "X_f_test[X_f_test[\"type_name\"] == \"pass\"][X_f_test[\"result_id\"] == 1].shape[0]"
      ],
      "metadata": {
        "colab": {
          "base_uri": "https://localhost:8080/"
        },
        "id": "SR5H9-DwOJi3",
        "outputId": "e3ee3180-7446-4bbe-df64-78b8ee981fa2"
      },
      "execution_count": null,
      "outputs": [
        {
          "output_type": "stream",
          "name": "stderr",
          "text": [
            "/usr/local/lib/python3.7/dist-packages/ipykernel_launcher.py:1: UserWarning: Boolean Series key will be reindexed to match DataFrame index.\n",
            "  \"\"\"Entry point for launching an IPython kernel.\n"
          ]
        },
        {
          "output_type": "execute_result",
          "data": {
            "text/plain": [
              "42320"
            ]
          },
          "metadata": {},
          "execution_count": 40
        }
      ]
    },
    {
      "cell_type": "code",
      "source": [
        "X_f_val.shape[0]"
      ],
      "metadata": {
        "colab": {
          "base_uri": "https://localhost:8080/"
        },
        "id": "dPZ03cONYC0g",
        "outputId": "f781f793-d680-4e04-a479-42005331b52d"
      },
      "execution_count": null,
      "outputs": [
        {
          "output_type": "execute_result",
          "data": {
            "text/plain": [
              "171546"
            ]
          },
          "metadata": {},
          "execution_count": 10
        }
      ]
    },
    {
      "cell_type": "code",
      "source": [
        "X_f_val[X_f_val[\"type_name\"] == \"pass\"][X_f_val[\"result_id\"] == 1].shape[0]"
      ],
      "metadata": {
        "colab": {
          "base_uri": "https://localhost:8080/"
        },
        "id": "auz0QMEdPsZK",
        "outputId": "c1964f4f-91ad-4c89-c5c1-32b1893b3b3c"
      },
      "execution_count": null,
      "outputs": [
        {
          "output_type": "stream",
          "name": "stderr",
          "text": [
            "/usr/local/lib/python3.7/dist-packages/ipykernel_launcher.py:1: UserWarning: Boolean Series key will be reindexed to match DataFrame index.\n",
            "  \"\"\"Entry point for launching an IPython kernel.\n"
          ]
        },
        {
          "output_type": "execute_result",
          "data": {
            "text/plain": [
              "52641"
            ]
          },
          "metadata": {},
          "execution_count": 34
        }
      ]
    },
    {
      "cell_type": "code",
      "source": [
        "X_m_train.shape[0]"
      ],
      "metadata": {
        "colab": {
          "base_uri": "https://localhost:8080/"
        },
        "id": "ksveEalLYDDJ",
        "outputId": "f906e4f7-7534-4618-80e1-6f6c5fe8d4dc"
      },
      "execution_count": null,
      "outputs": [
        {
          "output_type": "execute_result",
          "data": {
            "text/plain": [
              "914148"
            ]
          },
          "metadata": {},
          "execution_count": 11
        }
      ]
    },
    {
      "cell_type": "code",
      "source": [
        "X_m_train[X_m_train[\"type_name\"] == \"pass\"].shape[0]"
      ],
      "metadata": {
        "colab": {
          "base_uri": "https://localhost:8080/"
        },
        "id": "4WeD4muIMdaS",
        "outputId": "2e1a11c4-e0d7-4a5c-8e77-65017446e79e"
      },
      "execution_count": null,
      "outputs": [
        {
          "output_type": "execute_result",
          "data": {
            "text/plain": [
              "387044"
            ]
          },
          "metadata": {},
          "execution_count": 32
        }
      ]
    },
    {
      "cell_type": "code",
      "source": [
        "X_m_test.shape[0]"
      ],
      "metadata": {
        "colab": {
          "base_uri": "https://localhost:8080/"
        },
        "id": "PcCaqK4PYDKs",
        "outputId": "556de629-ea91-4e1d-fc83-8896d30e213f"
      },
      "execution_count": null,
      "outputs": [
        {
          "output_type": "execute_result",
          "data": {
            "text/plain": [
              "246435"
            ]
          },
          "metadata": {},
          "execution_count": 12
        }
      ]
    },
    {
      "cell_type": "code",
      "source": [
        "X_m_test[X_m_test[\"type_name\"] == \"pass\"][X_m_test[\"result_id\"] == 1].shape[0]"
      ],
      "metadata": {
        "colab": {
          "base_uri": "https://localhost:8080/"
        },
        "id": "nNEIQVV6Qx2F",
        "outputId": "57ac5a3f-0f9a-45aa-cc0f-dd6f2e2e3ad6"
      },
      "execution_count": null,
      "outputs": [
        {
          "output_type": "stream",
          "name": "stderr",
          "text": [
            "/usr/local/lib/python3.7/dist-packages/ipykernel_launcher.py:1: UserWarning: Boolean Series key will be reindexed to match DataFrame index.\n",
            "  \"\"\"Entry point for launching an IPython kernel.\n"
          ]
        },
        {
          "output_type": "execute_result",
          "data": {
            "text/plain": [
              "87476"
            ]
          },
          "metadata": {},
          "execution_count": 43
        }
      ]
    },
    {
      "cell_type": "code",
      "source": [
        "X_m_val.shape[0]"
      ],
      "metadata": {
        "colab": {
          "base_uri": "https://localhost:8080/"
        },
        "id": "bKTmdzz-YDQF",
        "outputId": "c8d004f9-875a-4da8-fbdf-7e12690cb469"
      },
      "execution_count": null,
      "outputs": [
        {
          "output_type": "execute_result",
          "data": {
            "text/plain": [
              "305432"
            ]
          },
          "metadata": {},
          "execution_count": 13
        }
      ]
    },
    {
      "cell_type": "code",
      "source": [
        "X_m_val[X_m_val[\"type_name\"] == \"pass\"].shape[0]"
      ],
      "metadata": {
        "colab": {
          "base_uri": "https://localhost:8080/"
        },
        "id": "02BmLrT_QHfh",
        "outputId": "aa378951-64bc-47d5-ecb0-52b9ac60fb76"
      },
      "execution_count": null,
      "outputs": [
        {
          "output_type": "execute_result",
          "data": {
            "text/plain": [
              "129326"
            ]
          },
          "metadata": {},
          "execution_count": 37
        }
      ]
    },
    {
      "cell_type": "markdown",
      "source": [
        "**Get Y depending on n actions before goal**"
      ],
      "metadata": {
        "id": "kTdOysDyfr7K"
      }
    },
    {
      "cell_type": "code",
      "source": [
        "def get_y(matches, match_ids, n):\n",
        "    scores = []\n",
        "    concedes = []\n",
        "    actiontypes = spadl.actiontypes_df()\n",
        "    actiontypes_dict = actiontypes.to_dict()['type_name']\n",
        "    for m_id in match_ids:\n",
        "        match_events = loader.events(game_id=m_id)\n",
        "        home_team_id = matches[matches[\"match_id\"] == m_id][\"home_team\"].iloc[0][\"home_team_id\"]\n",
        "        match_actions = spadl.statsbomb.convert_to_actions(match_events, home_team_id)\n",
        "        match_actions[\"type_name\"] = match_actions[\"type_id\"].map(actiontypes_dict)\n",
        "        match_scores = vaep.labels.scores(match_actions, nr_actions=n)\n",
        "        match_concedes = vaep.labels.concedes(match_actions, nr_actions=n)\n",
        "        scores.append(match_scores)\n",
        "        concedes.append(match_concedes)\n",
        "    scores_dataframe = pd.concat(scores)\n",
        "    concedes_dataframe = pd.concat(concedes)\n",
        "    return (scores_dataframe, concedes_dataframe)\n",
        "\n"
      ],
      "metadata": {
        "id": "GBd9fEHTqyVo"
      },
      "execution_count": null,
      "outputs": []
    },
    {
      "cell_type": "code",
      "source": [
        "for n in range(5, 13):\n",
        "    y_score_f_train, y_concede_f_train = get_y(matches_f, ids_f_train, n)\n",
        "    y_score_f_test, y_concede_f_test = get_y(matches_f, ids_f_test, n)\n",
        "    y_score_f_val, y_concede_f_val = get_y(matches_f, ids_f_val, n)\n",
        "    y_score_m_train, y_concede_m_train = get_y(matches_m, ids_m_train, n)\n",
        "    y_score_m_test, y_concede_m_test = get_y(matches_m, ids_m_test, n)\n",
        "    y_score_m_val, y_concede_m_val = get_y(matches_m, ids_m_val, n)\n",
        "\n",
        "    y_score_f_train.to_csv('./drive/MyDrive/master/dumps/y_score_f_train_' + str(n) + '.csv', index=False)\n",
        "    y_concede_f_train.to_csv('./drive/MyDrive/master/dumps/y_concede_f_train_' + str(n) + '.csv', index=False)\n",
        "    y_score_f_test.to_csv('./drive/MyDrive/master/dumps/y_score_f_test_' + str(n) + '.csv', index=False)\n",
        "    y_concede_f_test.to_csv('./drive/MyDrive/master/dumps/y_concede_f_test_' + str(n) + '.csv', index=False)\n",
        "    y_score_f_val.to_csv('./drive/MyDrive/master/dumps/y_score_f_val_' + str(n) + '.csv', index=False)\n",
        "    y_concede_f_val.to_csv('./drive/MyDrive/master/dumps/y_concede_f_val_' + str(n) + '.csv', index=False)\n",
        "    y_score_m_train.to_csv('./drive/MyDrive/master/dumps/y_score_m_train_' + str(n) + '.csv', index=False)\n",
        "    y_concede_m_train.to_csv('./drive/MyDrive/master/dumps/y_concede_m_train_' + str(n) + '.csv', index=False)\n",
        "    y_score_m_test.to_csv('./drive/MyDrive/master/dumps/y_score_m_test_' + str(n) + '.csv', index=False)\n",
        "    y_concede_m_test.to_csv('./drive/MyDrive/master/dumps/y_concede_m_test_' + str(n) + '.csv', index=False)\n",
        "    y_score_m_val.to_csv('./drive/MyDrive/master/dumps/y_score_m_val_' + str(n) + '.csv', index=False)\n",
        "    y_concede_m_val.to_csv('./drive/MyDrive/master/dumps/y_concede_m_val_' + str(n) + '.csv', index=False)"
      ],
      "metadata": {
        "id": "KTZiSgw0-yLD"
      },
      "execution_count": null,
      "outputs": []
    },
    {
      "cell_type": "markdown",
      "source": [
        "**Common train dataset**"
      ],
      "metadata": {
        "id": "DtVCJkvWfyfH"
      }
    },
    {
      "cell_type": "code",
      "source": [
        "X = pd.concat([X_m_train, X_f_train, X_m_test, X_f_test, X_m_val, X_f_val])"
      ],
      "metadata": {
        "id": "c0VIg-dtABWZ"
      },
      "execution_count": null,
      "outputs": []
    },
    {
      "cell_type": "code",
      "source": [
        "X[\"type_name\"].value_counts()"
      ],
      "metadata": {
        "colab": {
          "base_uri": "https://localhost:8080/"
        },
        "id": "0qvAP_94AMF0",
        "outputId": "404df7f5-7184-4372-a47b-5cc53bdadde0"
      },
      "execution_count": null,
      "outputs": [
        {
          "output_type": "execute_result",
          "data": {
            "text/plain": [
              "pass                962274\n",
              "dribble             946431\n",
              "throw_in             50201\n",
              "clearance            49908\n",
              "take_on              45405\n",
              "tackle               43727\n",
              "bad_touch            30824\n",
              "foul                 30560\n",
              "shot                 25636\n",
              "interception         22557\n",
              "cross                21068\n",
              "goalkick             17281\n",
              "freekick_short       16002\n",
              "freekick_crossed     12901\n",
              "corner_crossed        7558\n",
              "keeper_save           6876\n",
              "keeper_claim          3802\n",
              "corner_short          2895\n",
              "shot_freekick         1590\n",
              "keeper_punch          1173\n",
              "shot_penalty           322\n",
              "Name: type_name, dtype: int64"
            ]
          },
          "metadata": {},
          "execution_count": 69
        }
      ]
    },
    {
      "cell_type": "code",
      "source": [
        "X_train = pd.concat([X_f_train, X_m_train])"
      ],
      "metadata": {
        "id": "Yu-hM-YOYV6y"
      },
      "execution_count": null,
      "outputs": []
    },
    {
      "cell_type": "code",
      "source": [
        "time_spent_categories = pd.qcut(X_train[\"time_spent\"], 10, duplicates='drop')"
      ],
      "metadata": {
        "id": "lqhZU2ldZBlR"
      },
      "execution_count": null,
      "outputs": []
    },
    {
      "cell_type": "code",
      "source": [
        "time_intervals = time_spent_categories.explode().unique()"
      ],
      "metadata": {
        "id": "nEh0CpCgbQrr"
      },
      "execution_count": null,
      "outputs": []
    },
    {
      "cell_type": "code",
      "source": [
        "time_intervals = sorted(time_intervals)"
      ],
      "metadata": {
        "id": "bjBToNiaDEjU"
      },
      "execution_count": null,
      "outputs": []
    },
    {
      "cell_type": "code",
      "source": [
        "time_intervals"
      ],
      "metadata": {
        "colab": {
          "base_uri": "https://localhost:8080/"
        },
        "id": "wIDuEAUgDn_o",
        "outputId": "6a09c4c0-ecc8-46d2-f767-8532d1766381"
      },
      "execution_count": null,
      "outputs": [
        {
          "output_type": "execute_result",
          "data": {
            "text/plain": [
              "[Interval(-3270.001, 0.0, closed='right'),\n",
              " Interval(0.0, 1.0, closed='right'),\n",
              " Interval(1.0, 2.0, closed='right'),\n",
              " Interval(2.0, 3.0, closed='right'),\n",
              " Interval(3.0, 4.0, closed='right'),\n",
              " Interval(4.0, 637.0, closed='right')]"
            ]
          },
          "metadata": {},
          "execution_count": 19
        }
      ]
    },
    {
      "cell_type": "code",
      "source": [
        "def classify_time(X):\n",
        "    criteria = [\n",
        "        X[\"time_spent\"] <= time_intervals[0].right,\n",
        "        X[\"time_spent\"].between(time_intervals[1].left + .000001, time_intervals[1].right),\n",
        "        X[\"time_spent\"].between(time_intervals[2].left + .000001, time_intervals[2].right),\n",
        "        X[\"time_spent\"].between(time_intervals[3].left + .000001, time_intervals[3].right),\n",
        "        X[\"time_spent\"].between(time_intervals[4].left + .000001, time_intervals[4].right),\n",
        "        X[\"time_spent\"] > time_intervals[5].left + .000001\n",
        "    ]\n",
        "    values = [1, 2, 3, 4, 5, 6]\n",
        "    time_interval = np.select(criteria, values)\n",
        "    return time_interval"
      ],
      "metadata": {
        "id": "nJiI15ZLGVHM"
      },
      "execution_count": null,
      "outputs": []
    },
    {
      "cell_type": "code",
      "source": [
        "X_train['time_interval'] = classify_time(X_train)"
      ],
      "metadata": {
        "id": "kH0cmgGmc8JQ"
      },
      "execution_count": null,
      "outputs": []
    },
    {
      "cell_type": "code",
      "source": [
        "# encoder = OneHotEncoder()\n",
        "# encoder.fit(X_train[[\"type_name\", \"result_id\", \"bodypart_id\", \"time_interval\"]])\n",
        "# with open('./drive/MyDrive/master/dumps/encoder.csv', \"wb\") as f: \n",
        "#     pickle.dump(encoder, f)"
      ],
      "metadata": {
        "id": "8cjShzxlIMm7"
      },
      "execution_count": null,
      "outputs": []
    },
    {
      "cell_type": "code",
      "source": [
        "encoder_file = open('./drive/MyDrive/master/dumps/encoder.csv', 'rb')\n",
        "encoder = pickle.load(encoder_file) \n",
        "encoder_file.close()"
      ],
      "metadata": {
        "id": "mTyo2eIyQgl0"
      },
      "execution_count": null,
      "outputs": []
    },
    {
      "cell_type": "code",
      "source": [
        "X_m_train['time_interval'] = classify_time(X_m_train)\n",
        "X_m_train.drop(\"time_spent\", axis=1, inplace=True)\n",
        "X_m_train_enc = encoder.transform(X_m_train[[\"type_name\", \"result_id\", \"bodypart_id\", \"time_interval\"]])\n",
        "X_m_train_final = X_m_train.drop([\"type_name\", \"result_id\", \"bodypart_id\", \"time_interval\"], axis=1).join(pd.DataFrame.sparse.from_spmatrix(X_m_train_enc)).to_numpy()"
      ],
      "metadata": {
        "id": "nnF89EXN7LAw"
      },
      "execution_count": null,
      "outputs": []
    },
    {
      "cell_type": "code",
      "source": [
        "n_x = X_m_train_final.shape[1]"
      ],
      "metadata": {
        "id": "Jhc6X8P6J84F"
      },
      "execution_count": null,
      "outputs": []
    },
    {
      "cell_type": "markdown",
      "source": [
        "**Neural Network**"
      ],
      "metadata": {
        "id": "p-p9cGk7gBws"
      }
    },
    {
      "cell_type": "code",
      "source": [
        "class NeuralNetwork(nn.Module):\n",
        "    def __init__(self, n_x):\n",
        "        super(NeuralNetwork, self).__init__()\n",
        "        self.linear_stack = nn.Sequential(\n",
        "            nn.Linear(n_x, 20),\n",
        "            nn.ReLU(),\n",
        "            nn.Linear(20, 10),\n",
        "            nn.ReLU(),\n",
        "            nn.Linear(10, 1),\n",
        "            nn.Sigmoid()\n",
        "        )\n",
        "\n",
        "    def forward(self, x):\n",
        "        logits = self.linear_stack(x)\n",
        "        return logits"
      ],
      "metadata": {
        "id": "X3iQiGbmI-y-"
      },
      "execution_count": null,
      "outputs": []
    },
    {
      "cell_type": "code",
      "source": [
        "device = 'cuda' if torch.cuda.is_available() else 'cpu'\n",
        "print(f'Using {device} device')"
      ],
      "metadata": {
        "colab": {
          "base_uri": "https://localhost:8080/"
        },
        "id": "Mo21_sWkOAfu",
        "outputId": "c4a6a291-e9f4-4ca1-e074-8f64fca776db"
      },
      "execution_count": null,
      "outputs": [
        {
          "output_type": "stream",
          "name": "stdout",
          "text": [
            "Using cuda device\n"
          ]
        }
      ]
    },
    {
      "cell_type": "markdown",
      "source": [
        "**Train model**"
      ],
      "metadata": {
        "id": "fxSrtitNgOoW"
      }
    },
    {
      "cell_type": "code",
      "source": [
        "criterion = torch.nn.BCELoss()"
      ],
      "metadata": {
        "id": "1YiNk67HOHBr"
      },
      "execution_count": null,
      "outputs": []
    },
    {
      "cell_type": "code",
      "source": [
        "for n in range(5, 13):\n",
        "    y_m_score_train = pd.read_csv('./drive/MyDrive/master/dumps/y_score_m_train_' + str(n) + '.csv')\n",
        "    y_m_concede_train = pd.read_csv('./drive/MyDrive/master/dumps/y_concede_m_train_' + str(n) + '.csv')\n",
        "\n",
        "    y_score_train = y_m_score_train.astype(int).to_numpy()\n",
        "    y_concede_train = y_m_concede_train.astype(int).to_numpy()\n",
        "\n",
        "    x_torch = torch.from_numpy(X_m_train_final).type(torch.FloatTensor).to(device)\n",
        "    y_torch = torch.from_numpy(y_score_train).type(torch.FloatTensor).reshape(-1, 1).to(device)\n",
        "\n",
        "    model = NeuralNetwork(n_x).to(device)\n",
        "    optimizer=torch.optim.SGD(model.parameters(),lr=0.01)\n",
        "\n",
        "    number_of_epochs=3500\n",
        "    all_loss = []\n",
        "    print(\"Learning. n =\", n)\n",
        "    for epoch in range(number_of_epochs):\n",
        "        y_prediction=model(x_torch)\n",
        "        loss=criterion(y_prediction,y_torch)\n",
        "        loss.backward()\n",
        "        all_loss.append(loss.item())\n",
        "        optimizer.step()\n",
        "        optimizer.zero_grad()\n",
        "        if (epoch+1)%500 == 0:\n",
        "            print('epoch:', epoch+1, ', loss=',loss.item())\n",
        "\n",
        "    plt.figure()\n",
        "    plt.plot(all_loss)\n",
        "    plt.show()\n",
        "\n",
        "    model_save_name = 'score_model_y_m' + str(n) + '.pt'\n",
        "    path = F\"./drive/MyDrive/master/models/{model_save_name}\"\n",
        "    torch.save(model.state_dict(), path)\n",
        "\n",
        "\n",
        "    x_torch = torch.from_numpy(X_m_train_final).type(torch.FloatTensor).to(device)\n",
        "    y_torch = torch.from_numpy(y_concede_train).type(torch.FloatTensor).reshape(-1, 1).to(device)\n",
        "\n",
        "    model = NeuralNetwork(n_x).to(device)\n",
        "    optimizer=torch.optim.SGD(model.parameters(),lr=0.0075)\n",
        "\n",
        "\n",
        "    all_loss = []\n",
        "    for epoch in range(number_of_epochs):\n",
        "        y_prediction=model(x_torch)\n",
        "        loss=criterion(y_prediction,y_torch)\n",
        "        loss.backward()\n",
        "        all_loss.append(loss.item())\n",
        "        optimizer.step()\n",
        "        optimizer.zero_grad()\n",
        "        if (epoch+1)%500 == 0:\n",
        "            print('epoch:', epoch+1, ', loss=',loss.item())\n",
        "\n",
        "    plt.figure()\n",
        "    plt.plot(all_loss)\n",
        "    plt.show()\n",
        "\n",
        "    model_save_name = 'concede_model_y_m' + str(n) + '.pt'\n",
        "    path = F\"./drive/MyDrive/master/models/{model_save_name}\"\n",
        "    torch.save(model.state_dict(), path)\n"
      ],
      "metadata": {
        "colab": {
          "base_uri": "https://localhost:8080/",
          "height": 1000
        },
        "id": "yuYD0lMG65Bi",
        "outputId": "85dfa4cf-0445-422a-cc39-520e84b3a20e"
      },
      "execution_count": null,
      "outputs": [
        {
          "output_type": "stream",
          "name": "stdout",
          "text": [
            "Learning. n = 5\n",
            "epoch: 500 , loss= 0.05545318126678467\n",
            "epoch: 1000 , loss= 0.05479312688112259\n",
            "epoch: 1500 , loss= 0.05419360473752022\n",
            "epoch: 2000 , loss= 0.053561680018901825\n",
            "epoch: 2500 , loss= 0.05287698656320572\n",
            "epoch: 3000 , loss= 0.05216982215642929\n",
            "epoch: 3500 , loss= 0.05149304121732712\n"
          ]
        },
        {
          "output_type": "display_data",
          "data": {
            "image/png": "[encoded data removed]",
            "text/plain": [
              "<Figure size 432x288 with 1 Axes>"
            ]
          },
          "metadata": {
            "needs_background": "light"
          }
        },
        {
          "output_type": "stream",
          "name": "stdout",
          "text": [
            "epoch: 500 , loss= 0.010556463152170181\n",
            "epoch: 1000 , loss= 0.010418955236673355\n",
            "epoch: 1500 , loss= 0.01036449521780014\n",
            "epoch: 2000 , loss= 0.01032208651304245\n",
            "epoch: 2500 , loss= 0.0102879349142313\n",
            "epoch: 3000 , loss= 0.010257096961140633\n",
            "epoch: 3500 , loss= 0.010228528641164303\n"
          ]
        },
        {
          "output_type": "display_data",
          "data": {
            "image/png": "[encoded data removed]",
            "text/plain": [
              "<Figure size 432x288 with 1 Axes>"
            ]
          },
          "metadata": {
            "needs_background": "light"
          }
        },
        {
          "output_type": "stream",
          "name": "stdout",
          "text": [
            "Learning. n = 6\n",
            "epoch: 500 , loss= 0.059052348136901855\n",
            "epoch: 1000 , loss= 0.05799339711666107\n",
            "epoch: 1500 , loss= 0.05714740604162216\n",
            "epoch: 2000 , loss= 0.05640147998929024\n",
            "epoch: 2500 , loss= 0.0557003989815712\n",
            "epoch: 3000 , loss= 0.05501669645309448\n",
            "epoch: 3500 , loss= 0.054358676075935364\n"
          ]
        },
        {
          "output_type": "display_data",
          "data": {
            "image/png": "[encoded data removed]",
            "text/plain": [
              "<Figure size 432x288 with 1 Axes>"
            ]
          },
          "metadata": {
            "needs_background": "light"
          }
        },
        {
          "output_type": "stream",
          "name": "stdout",
          "text": [
            "epoch: 500 , loss= 0.012756478041410446\n",
            "epoch: 1000 , loss= 0.012624953873455524\n",
            "epoch: 1500 , loss= 0.01255402434617281\n",
            "epoch: 2000 , loss= 0.012494300492107868\n",
            "epoch: 2500 , loss= 0.012440033257007599\n",
            "epoch: 3000 , loss= 0.012387913651764393\n",
            "epoch: 3500 , loss= 0.012335170060396194\n"
          ]
        },
        {
          "output_type": "display_data",
          "data": {
            "image/png": "[encoded data removed]",
            "text/plain": [
              "<Figure size 432x288 with 1 Axes>"
            ]
          },
          "metadata": {
            "needs_background": "light"
          }
        },
        {
          "output_type": "stream",
          "name": "stdout",
          "text": [
            "Learning. n = 7\n",
            "epoch: 500 , loss= 0.07161940634250641\n",
            "epoch: 1000 , loss= 0.07010776549577713\n",
            "epoch: 1500 , loss= 0.06895753741264343\n",
            "epoch: 2000 , loss= 0.06793045252561569\n",
            "epoch: 2500 , loss= 0.06695296615362167\n",
            "epoch: 3000 , loss= 0.0659988522529602\n",
            "epoch: 3500 , loss= 0.06506466120481491\n"
          ]
        },
        {
          "output_type": "display_data",
          "data": {
            "image/png": "[encoded data removed]",
            "text/plain": [
              "<Figure size 432x288 with 1 Axes>"
            ]
          },
          "metadata": {
            "needs_background": "light"
          }
        },
        {
          "output_type": "stream",
          "name": "stdout",
          "text": [
            "epoch: 500 , loss= 0.01687667891383171\n",
            "epoch: 1000 , loss= 0.015944786369800568\n",
            "epoch: 1500 , loss= 0.0155711704865098\n",
            "epoch: 2000 , loss= 0.01537247747182846\n",
            "epoch: 2500 , loss= 0.015243285335600376\n",
            "epoch: 3000 , loss= 0.01514536701142788\n",
            "epoch: 3500 , loss= 0.015063103288412094\n"
          ]
        },
        {
          "output_type": "display_data",
          "data": {
            "image/png": "[encoded data removed]",
            "text/plain": [
              "<Figure size 432x288 with 1 Axes>"
            ]
          },
          "metadata": {
            "needs_background": "light"
          }
        },
        {
          "output_type": "stream",
          "name": "stdout",
          "text": [
            "Learning. n = 8\n",
            "epoch: 500 , loss= 0.0732002779841423\n",
            "epoch: 1000 , loss= 0.07218087464570999\n",
            "epoch: 1500 , loss= 0.07111130654811859\n",
            "epoch: 2000 , loss= 0.07003437727689743\n",
            "epoch: 2500 , loss= 0.06917110830545425\n",
            "epoch: 3000 , loss= 0.06839844584465027\n",
            "epoch: 3500 , loss= 0.0676591545343399\n"
          ]
        },
        {
          "output_type": "display_data",
          "data": {
            "image/png": "[encoded data removed]",
            "text/plain": [
              "<Figure size 432x288 with 1 Axes>"
            ]
          },
          "metadata": {
            "needs_background": "light"
          }
        },
        {
          "output_type": "stream",
          "name": "stdout",
          "text": [
            "epoch: 500 , loss= 0.017468875274062157\n",
            "epoch: 1000 , loss= 0.017025882378220558\n",
            "epoch: 1500 , loss= 0.016809623688459396\n",
            "epoch: 2000 , loss= 0.016676202416419983\n",
            "epoch: 2500 , loss= 0.016570648178458214\n",
            "epoch: 3000 , loss= 0.016484126448631287\n",
            "epoch: 3500 , loss= 0.01640898548066616\n"
          ]
        },
        {
          "output_type": "display_data",
          "data": {
            "image/png": "[encoded data removed]",
            "text/plain": [
              "<Figure size 432x288 with 1 Axes>"
            ]
          },
          "metadata": {
            "needs_background": "light"
          }
        },
        {
          "output_type": "stream",
          "name": "stdout",
          "text": [
            "Learning. n = 9\n",
            "epoch: 500 , loss= 0.08175892382860184\n",
            "epoch: 1000 , loss= 0.080449678003788\n",
            "epoch: 1500 , loss= 0.07934415340423584\n",
            "epoch: 2000 , loss= 0.07834021002054214\n",
            "epoch: 2500 , loss= 0.07735619693994522\n",
            "epoch: 3000 , loss= 0.07609925419092178\n",
            "epoch: 3500 , loss= 0.07520145922899246\n"
          ]
        },
        {
          "output_type": "display_data",
          "data": {
            "image/png": "[encoded data removed]",
            "text/plain": [
              "<Figure size 432x288 with 1 Axes>"
            ]
          },
          "metadata": {
            "needs_background": "light"
          }
        },
        {
          "output_type": "stream",
          "name": "stdout",
          "text": [
            "epoch: 500 , loss= 0.02071128971874714\n",
            "epoch: 1000 , loss= 0.0204823836684227\n",
            "epoch: 1500 , loss= 0.020317748188972473\n",
            "epoch: 2000 , loss= 0.020187225192785263\n",
            "epoch: 2500 , loss= 0.020077478140592575\n",
            "epoch: 3000 , loss= 0.019989386200904846\n",
            "epoch: 3500 , loss= 0.019909586757421494\n"
          ]
        },
        {
          "output_type": "display_data",
          "data": {
            "image/png": "[encoded data removed]",
            "text/plain": [
              "<Figure size 432x288 with 1 Axes>"
            ]
          },
          "metadata": {
            "needs_background": "light"
          }
        },
        {
          "output_type": "stream",
          "name": "stdout",
          "text": [
            "Learning. n = 10\n",
            "epoch: 500 , loss= 0.08788936585187912\n",
            "epoch: 1000 , loss= 0.0860690101981163\n",
            "epoch: 1500 , loss= 0.08454324305057526\n",
            "epoch: 2000 , loss= 0.08345449715852737\n",
            "epoch: 2500 , loss= 0.0823960155248642\n",
            "epoch: 3000 , loss= 0.08135755360126495\n",
            "epoch: 3500 , loss= 0.0803394764661789\n"
          ]
        },
        {
          "output_type": "display_data",
          "data": {
            "image/png": "[encoded data removed]",
            "text/plain": [
              "<Figure size 432x288 with 1 Axes>"
            ]
          },
          "metadata": {
            "needs_background": "light"
          }
        },
        {
          "output_type": "stream",
          "name": "stdout",
          "text": [
            "epoch: 500 , loss= 0.022832300513982773\n",
            "epoch: 1000 , loss= 0.022595331072807312\n",
            "epoch: 1500 , loss= 0.022429030388593674\n",
            "epoch: 2000 , loss= 0.022297440096735954\n",
            "epoch: 2500 , loss= 0.02218491956591606\n",
            "epoch: 3000 , loss= 0.02208573743700981\n",
            "epoch: 3500 , loss= 0.021998682990670204\n"
          ]
        },
        {
          "output_type": "display_data",
          "data": {
            "image/png": "[encoded data removed]",
            "text/plain": [
              "<Figure size 432x288 with 1 Axes>"
            ]
          },
          "metadata": {
            "needs_background": "light"
          }
        },
        {
          "output_type": "stream",
          "name": "stdout",
          "text": [
            "Learning. n = 11\n",
            "epoch: 500 , loss= 0.09628625959157944\n",
            "epoch: 1000 , loss= 0.09451527893543243\n",
            "epoch: 1500 , loss= 0.09311352670192719\n",
            "epoch: 2000 , loss= 0.09190232306718826\n",
            "epoch: 2500 , loss= 0.0908002257347107\n",
            "epoch: 3000 , loss= 0.08976719528436661\n",
            "epoch: 3500 , loss= 0.08879991620779037\n"
          ]
        },
        {
          "output_type": "display_data",
          "data": {
            "image/png": "[encoded data removed]",
            "text/plain": [
              "<Figure size 432x288 with 1 Axes>"
            ]
          },
          "metadata": {
            "needs_background": "light"
          }
        },
        {
          "output_type": "stream",
          "name": "stdout",
          "text": [
            "epoch: 500 , loss= 0.026267115026712418\n",
            "epoch: 1000 , loss= 0.025529224425554276\n",
            "epoch: 1500 , loss= 0.02515942044556141\n",
            "epoch: 2000 , loss= 0.024915006011724472\n",
            "epoch: 2500 , loss= 0.024712301790714264\n",
            "epoch: 3000 , loss= 0.024550430476665497\n",
            "epoch: 3500 , loss= 0.02442164719104767\n"
          ]
        },
        {
          "output_type": "display_data",
          "data": {
            "image/png": "[encoded data removed]",
            "text/plain": [
              "<Figure size 432x288 with 1 Axes>"
            ]
          },
          "metadata": {
            "needs_background": "light"
          }
        },
        {
          "output_type": "stream",
          "name": "stdout",
          "text": [
            "Learning. n = 12\n",
            "epoch: 500 , loss= 0.0972633957862854\n",
            "epoch: 1000 , loss= 0.09575723856687546\n",
            "epoch: 1500 , loss= 0.09424982219934464\n",
            "epoch: 2000 , loss= 0.09276256710290909\n",
            "epoch: 2500 , loss= 0.09101343154907227\n",
            "epoch: 3000 , loss= 0.0893099382519722\n",
            "epoch: 3500 , loss= 0.08807547390460968\n"
          ]
        },
        {
          "output_type": "display_data",
          "data": {
            "image/png": "[encoded data removed]",
            "text/plain": [
              "<Figure size 432x288 with 1 Axes>"
            ]
          },
          "metadata": {
            "needs_background": "light"
          }
        },
        {
          "output_type": "stream",
          "name": "stdout",
          "text": [
            "epoch: 500 , loss= 0.0301780104637146\n",
            "epoch: 1000 , loss= 0.029880136251449585\n",
            "epoch: 1500 , loss= 0.029660746455192566\n",
            "epoch: 2000 , loss= 0.029468610882759094\n",
            "epoch: 2500 , loss= 0.029280418530106544\n",
            "epoch: 3000 , loss= 0.02904297411441803\n",
            "epoch: 3500 , loss= 0.02876834012567997\n"
          ]
        },
        {
          "output_type": "display_data",
          "data": {
            "image/png": "[encoded data removed]",
            "text/plain": [
              "<Figure size 432x288 with 1 Axes>"
            ]
          },
          "metadata": {
            "needs_background": "light"
          }
        }
      ]
    },
    {
      "cell_type": "markdown",
      "source": [
        "**Improve validation**"
      ],
      "metadata": {
        "id": "5mC1jyiijUvZ"
      }
    },
    {
      "cell_type": "code",
      "source": [
        "n_x = 40\n",
        "model = NeuralNetwork(n_x).to(device)\n",
        "\n",
        "\n",
        "for n in range(5, 13):\n",
        "\n",
        "    t = 0\n",
        "    t_n = 0\n",
        "    c = 0\n",
        "    murder_by_numbers = 0\n",
        "\n",
        "    model_load_name = 'score_model_y_m' + str(n) + '.pt'\n",
        "    path = F\"./drive/MyDrive/master/models/{model_load_name}\"\n",
        "    model.load_state_dict(torch.load(path))\n",
        "\n",
        "    for match_id in ids_m_val:\n",
        "        match = matches_m[matches_m[\"match_id\"] == match_id]\n",
        "        home_score = match.iloc[0][\"home_score\"]\n",
        "        away_score = match.iloc[0][\"away_score\"]\n",
        "        if home_score != away_score:\n",
        "            c += 1\n",
        "            home_team_id = match[\"home_team\"].iloc[0][\"home_team_id\"]\n",
        "            away_team_id = match[\"away_team\"].iloc[0][\"away_team_id\"]\n",
        "            match_to_rate = transformer(matches_m, [match_id], loader)\n",
        "            match_to_rate['time_interval'] = classify_time(match_to_rate)\n",
        "            match_to_rate.drop(\"time_spent\", axis=1, inplace=True)\n",
        "            match_to_rate_enc = encoder.transform(match_to_rate[[\"type_name\", \"result_id\", \"bodypart_id\", \"time_interval\"]])\n",
        "            match_to_rate = match_to_rate.drop([\"type_name\", \"result_id\", \"bodypart_id\", \"time_interval\"], axis=1).join(pd.DataFrame.sparse.from_spmatrix(match_to_rate_enc)).to_numpy()\n",
        "            df_teams = loader.teams(match_id)\n",
        "            df_players = loader.players(match_id)\n",
        "            df_events = loader.events(match_id)\n",
        "            df_actions = spadl.statsbomb.convert_to_actions(df_events, home_team_id=home_team_id)\n",
        "            df_actions = (\n",
        "                spadl.add_names(df_actions)\n",
        "                .merge(loader.teams(game_id=match_id))\n",
        "                .merge(loader.players(game_id=match_id))\n",
        "            )\n",
        "            df_actions = df_actions.sort_values(by=['action_id'])\n",
        "            team_ids = df_actions[\"team_id\"]\n",
        "            match_to_rate_torch = torch.from_numpy(match_to_rate).type(torch.FloatTensor).to(device)\n",
        "            with torch.no_grad():\n",
        "                match_to_rate_pred=model(match_to_rate_torch).flatten()\n",
        "            match_to_rate_pred = match_to_rate_pred.cpu().numpy()\n",
        "            df_actions[\"rating\"] = match_to_rate_pred\n",
        "            team_ratings = df_actions[[\"team_id\", \"rating\"]].groupby(\"team_id\").agg('mean')\n",
        "            team_non_shot_ratings = df_actions[df_actions[\"type_id\"] != 11][[\"team_id\", \"rating\"]].groupby(\"team_id\").agg('mean')\n",
        "            if ((home_score > away_score) and (team_ratings[\"rating\"][home_team_id] > team_ratings[\"rating\"][away_team_id])) or ((home_score < away_score) and (team_ratings[\"rating\"][home_team_id] < team_ratings[\"rating\"][away_team_id])):\n",
        "                t += 1\n",
        "            if ((home_score > away_score) and (team_non_shot_ratings[\"rating\"][home_team_id] > team_non_shot_ratings[\"rating\"][away_team_id])) or ((home_score < away_score) and (team_non_shot_ratings[\"rating\"][home_team_id] < team_non_shot_ratings[\"rating\"][away_team_id])):\n",
        "                t_n += 1\n",
        "    print('n = ', str(n))\n",
        "    print('true values =', str(t))\n",
        "    print('true non shot values =', str(t_n))\n",
        "    print('all scores = ', str(c))"
      ],
      "metadata": {
        "colab": {
          "base_uri": "https://localhost:8080/"
        },
        "id": "xTCNtKDj3fTe",
        "outputId": "34e9e0b2-3080-4e0b-c6ec-1931e00d132b"
      },
      "execution_count": null,
      "outputs": [
        {
          "output_type": "stream",
          "name": "stdout",
          "text": [
            "n =  5\n",
            "true values = 38\n",
            "true non shot values = 37\n",
            "all scores =  117\n",
            "victory by number of actions = 101\n",
            "n =  6\n",
            "true values = 48\n",
            "true non shot values = 49\n",
            "all scores =  117\n",
            "victory by number of actions = 101\n",
            "n =  7\n",
            "true values = 43\n",
            "true non shot values = 43\n",
            "all scores =  117\n",
            "victory by number of actions = 101\n",
            "n =  8\n",
            "true values = 50\n",
            "true non shot values = 51\n",
            "all scores =  117\n",
            "victory by number of actions = 101\n",
            "n =  9\n",
            "true values = 47\n",
            "true non shot values = 48\n",
            "all scores =  117\n",
            "victory by number of actions = 101\n",
            "n =  10\n",
            "true values = 46\n",
            "true non shot values = 48\n",
            "all scores =  117\n",
            "victory by number of actions = 101\n",
            "n =  11\n",
            "true values = 46\n",
            "true non shot values = 51\n",
            "all scores =  117\n",
            "victory by number of actions = 101\n",
            "n =  12\n",
            "true values = 49\n",
            "true non shot values = 45\n",
            "all scores =  117\n",
            "victory by number of actions = 101\n"
          ]
        }
      ]
    },
    {
      "cell_type": "code",
      "source": [
        "y_m_score_train = pd.read_csv('./drive/MyDrive/master/dumps/y_score_m_train_8.csv')\n",
        "\n",
        "y_score_train = y_m_score_train.astype(int).to_numpy()\n",
        "\n",
        "x_torch = torch.from_numpy(X_m_train_final).type(torch.FloatTensor).to(device)\n",
        "y_torch = torch.from_numpy(y_score_train).type(torch.FloatTensor).reshape(-1, 1).to(device)\n",
        "\n",
        "model = NeuralNetwork(n_x).to(device)\n",
        "optimizer=torch.optim.SGD(model.parameters(),lr=0.01)\n",
        "\n",
        "number_of_epochs=10000\n",
        "all_loss = []\n",
        "print(\"Learning. n = 8\")\n",
        "for epoch in range(number_of_epochs):\n",
        "    y_prediction=model(x_torch)\n",
        "    loss=criterion(y_prediction,y_torch)\n",
        "    loss.backward()\n",
        "    all_loss.append(loss.item())\n",
        "    optimizer.step()\n",
        "    optimizer.zero_grad()\n",
        "    if (epoch+1)%1000 == 0:\n",
        "        print('epoch:', epoch+1, ', loss=',loss.item())\n",
        "\n",
        "plt.figure()\n",
        "plt.plot(all_loss)\n",
        "plt.show()\n",
        "\n",
        "model_save_name = 'score_model_y_m_extended_8.pt'\n",
        "path = F\"./drive/MyDrive/master/models/{model_save_name}\"\n",
        "torch.save(model.state_dict(), path)\n"
      ],
      "metadata": {
        "colab": {
          "base_uri": "https://localhost:8080/",
          "height": 452
        },
        "id": "V6vd-nE9Sg03",
        "outputId": "45a247c9-5313-46c6-ca6d-fa26e81e907e"
      },
      "execution_count": null,
      "outputs": [
        {
          "output_type": "stream",
          "name": "stdout",
          "text": [
            "Learning. n = 12\n",
            "epoch: 1000 , loss= 0.07369574159383774\n",
            "epoch: 2000 , loss= 0.0717267170548439\n",
            "epoch: 3000 , loss= 0.06995577365159988\n",
            "epoch: 4000 , loss= 0.06830163300037384\n",
            "epoch: 5000 , loss= 0.06674729287624359\n",
            "epoch: 6000 , loss= 0.06531365215778351\n",
            "epoch: 7000 , loss= 0.06400308758020401\n",
            "epoch: 8000 , loss= 0.06282705813646317\n",
            "epoch: 9000 , loss= 0.061795372515916824\n",
            "epoch: 10000 , loss= 0.060883987694978714\n"
          ]
        },
        {
          "output_type": "display_data",
          "data": {
            "image/png": "[encoded data removed]",
            "text/plain": [
              "<Figure size 432x288 with 1 Axes>"
            ]
          },
          "metadata": {
            "needs_background": "light"
          }
        }
      ]
    },
    {
      "cell_type": "code",
      "source": [
        "t = 0\n",
        "t_n = 0\n",
        "c = 0\n",
        "\n",
        "model_load_name = 'score_model_y_m_extended_8.pt'\n",
        "path = F\"./drive/MyDrive/master/models/{model_load_name}\"\n",
        "model.load_state_dict(torch.load(path))\n",
        "\n",
        "for match_id in ids_m_val:\n",
        "    match = matches_m[matches_m[\"match_id\"] == match_id]\n",
        "    home_score = match.iloc[0][\"home_score\"]\n",
        "    away_score = match.iloc[0][\"away_score\"]\n",
        "    if home_score != away_score:\n",
        "        c += 1\n",
        "        home_team_id = match[\"home_team\"].iloc[0][\"home_team_id\"]\n",
        "        away_team_id = match[\"away_team\"].iloc[0][\"away_team_id\"]\n",
        "        match_to_rate = transformer(matches_m, [match_id], loader)\n",
        "        match_to_rate['time_interval'] = classify_time(match_to_rate)\n",
        "        match_to_rate.drop(\"time_spent\", axis=1, inplace=True)\n",
        "        match_to_rate_enc = encoder.transform(match_to_rate[[\"type_name\", \"result_id\", \"bodypart_id\", \"time_interval\"]])\n",
        "        match_to_rate = match_to_rate.drop([\"type_name\", \"result_id\", \"bodypart_id\", \"time_interval\"], axis=1).join(pd.DataFrame.sparse.from_spmatrix(match_to_rate_enc)).to_numpy()\n",
        "        df_teams = loader.teams(match_id)\n",
        "        df_players = loader.players(match_id)\n",
        "        df_events = loader.events(match_id)\n",
        "        df_actions = spadl.statsbomb.convert_to_actions(df_events, home_team_id=home_team_id)\n",
        "        df_actions = (\n",
        "            spadl.add_names(df_actions)\n",
        "            .merge(loader.teams(game_id=match_id))\n",
        "            .merge(loader.players(game_id=match_id))\n",
        "        )\n",
        "        df_actions = df_actions.sort_values(by=['action_id'])\n",
        "        team_ids = df_actions[\"team_id\"]\n",
        "        match_to_rate_torch = torch.from_numpy(match_to_rate).type(torch.FloatTensor).to(device)\n",
        "        with torch.no_grad():\n",
        "            match_to_rate_pred=model(match_to_rate_torch).flatten()\n",
        "        match_to_rate_pred = match_to_rate_pred.cpu().numpy()\n",
        "        df_actions[\"rating\"] = match_to_rate_pred\n",
        "        team_ratings = df_actions[[\"team_id\", \"rating\"]].groupby(\"team_id\").agg('mean')\n",
        "        team_non_shot_ratings = df_actions[df_actions[\"type_id\"] != 11][[\"team_id\", \"rating\"]].groupby(\"team_id\").agg('mean')\n",
        "        if ((home_score > away_score) and (team_ratings[\"rating\"][home_team_id] > team_ratings[\"rating\"][away_team_id])) or ((home_score < away_score) and (team_ratings[\"rating\"][home_team_id] < team_ratings[\"rating\"][away_team_id])):\n",
        "            t += 1\n",
        "        if ((home_score > away_score) and (team_non_shot_ratings[\"rating\"][home_team_id] > team_non_shot_ratings[\"rating\"][away_team_id])) or ((home_score < away_score) and (team_non_shot_ratings[\"rating\"][home_team_id] < team_non_shot_ratings[\"rating\"][away_team_id])):\n",
        "            t_n += 1\n",
        "print('true values =', str(t))\n",
        "print('true non shot values =', str(t_n))\n",
        "print('all scores = ', str(c))"
      ],
      "metadata": {
        "colab": {
          "base_uri": "https://localhost:8080/"
        },
        "id": "LEdA8wdiXcE7",
        "outputId": "61c41e3f-5c3b-422d-ee4c-84930cca4617"
      },
      "execution_count": null,
      "outputs": [
        {
          "output_type": "stream",
          "name": "stdout",
          "text": [
            "true values = 68\n",
            "true non shot values = 69\n",
            "all scores =  117\n",
            "victory by number of actions = 101\n"
          ]
        }
      ]
    },
    {
      "cell_type": "code",
      "source": [
        "from scipy.stats import binom_test"
      ],
      "metadata": {
        "id": "Asq3aIKiqh2Z"
      },
      "execution_count": null,
      "outputs": []
    },
    {
      "cell_type": "code",
      "source": [
        "binom_test(68, 117, .5, alternative='greater')"
      ],
      "metadata": {
        "colab": {
          "base_uri": "https://localhost:8080/"
        },
        "id": "js0HX7dJqoLO",
        "outputId": "977a9b36-7d5a-4a72-f3f5-051fec41843b"
      },
      "execution_count": null,
      "outputs": [
        {
          "output_type": "execute_result",
          "data": {
            "text/plain": [
              "0.047836357504802286"
            ]
          },
          "metadata": {},
          "execution_count": 142
        }
      ]
    },
    {
      "cell_type": "code",
      "source": [
        "n_x = 40\n",
        "model = NeuralNetwork(n_x).to(device)\n",
        "\n",
        "\n",
        "for n in range(5, 13):\n",
        "\n",
        "    t = 0\n",
        "    t_n = 0\n",
        "    c = 0\n",
        "\n",
        "    model_load_name = 'concede_model_y_m' + str(n) + '.pt'\n",
        "    path = F\"./drive/MyDrive/master/models/{model_load_name}\"\n",
        "    model.load_state_dict(torch.load(path))\n",
        "\n",
        "    for match_id in ids_m_val:\n",
        "        match = matches_m[matches_m[\"match_id\"] == match_id]\n",
        "        home_score = match.iloc[0][\"home_score\"]\n",
        "        away_score = match.iloc[0][\"away_score\"]\n",
        "        if home_score != away_score:\n",
        "            c += 1\n",
        "            home_team_id = match[\"home_team\"].iloc[0][\"home_team_id\"]\n",
        "            away_team_id = match[\"away_team\"].iloc[0][\"away_team_id\"]\n",
        "            match_to_rate = transformer(matches_m, [match_id], loader)\n",
        "            match_to_rate['time_interval'] = classify_time(match_to_rate)\n",
        "            match_to_rate.drop(\"time_spent\", axis=1, inplace=True)\n",
        "            match_to_rate_enc = encoder.transform(match_to_rate[[\"type_name\", \"result_id\", \"bodypart_id\", \"time_interval\"]])\n",
        "            match_to_rate = match_to_rate.drop([\"type_name\", \"result_id\", \"bodypart_id\", \"time_interval\"], axis=1).join(pd.DataFrame.sparse.from_spmatrix(match_to_rate_enc)).to_numpy()\n",
        "            df_teams = loader.teams(match_id)\n",
        "            df_players = loader.players(match_id)\n",
        "            df_events = loader.events(match_id)\n",
        "            df_actions = spadl.statsbomb.convert_to_actions(df_events, home_team_id=home_team_id)\n",
        "            df_actions = (\n",
        "                spadl.add_names(df_actions)\n",
        "                .merge(loader.teams(game_id=match_id))\n",
        "                .merge(loader.players(game_id=match_id))\n",
        "            )\n",
        "            df_actions = df_actions.sort_values(by=['action_id'])\n",
        "            team_ids = df_actions[\"team_id\"]\n",
        "            match_to_rate_torch = torch.from_numpy(match_to_rate).type(torch.FloatTensor).to(device)\n",
        "            with torch.no_grad():\n",
        "                match_to_rate_pred=model(match_to_rate_torch).flatten()\n",
        "            match_to_rate_pred = match_to_rate_pred.cpu().numpy()\n",
        "            df_actions[\"antirating\"] = match_to_rate_pred\n",
        "            team_antiratings = df_actions[[\"team_id\", \"antirating\"]].groupby(\"team_id\").agg('mean')\n",
        "            team_non_shot_ratings = df_actions[df_actions[\"type_id\"] != 11][[\"team_id\", \"antirating\"]].groupby(\"team_id\").agg('mean')\n",
        "            if ((home_score > away_score) and (team_antiratings[\"antirating\"][home_team_id] < team_antiratings[\"antirating\"][away_team_id])) or ((home_score < away_score) and (team_antiratings[\"antirating\"][home_team_id] > team_antiratings[\"antirating\"][away_team_id])):\n",
        "                t += 1\n",
        "    print('n = ', str(n))\n",
        "    print('true values =', str(t))\n",
        "    print('true non shot values =', str(t_n))\n",
        "    print('all scores =', str(c))"
      ],
      "metadata": {
        "colab": {
          "base_uri": "https://localhost:8080/"
        },
        "id": "Yay89RlZP6hS",
        "outputId": "ac78d509-8d79-4eb7-ed02-e9b924008a19"
      },
      "execution_count": null,
      "outputs": [
        {
          "output_type": "stream",
          "name": "stdout",
          "text": [
            "n =  5\n",
            "true values = 78\n",
            "true non shot values = 0\n",
            "all scores = 117\n",
            "victory by number of actions = 16\n",
            "n =  6\n",
            "true values = 81\n",
            "true non shot values = 0\n",
            "all scores = 117\n",
            "victory by number of actions = 16\n",
            "n =  7\n",
            "true values = 77\n",
            "true non shot values = 0\n",
            "all scores = 117\n",
            "victory by number of actions = 16\n",
            "n =  8\n",
            "true values = 79\n",
            "true non shot values = 0\n",
            "all scores = 117\n",
            "victory by number of actions = 16\n",
            "n =  9\n",
            "true values = 80\n",
            "true non shot values = 0\n",
            "all scores = 117\n",
            "victory by number of actions = 16\n",
            "n =  10\n",
            "true values = 77\n",
            "true non shot values = 0\n",
            "all scores = 117\n",
            "victory by number of actions = 16\n",
            "n =  11\n",
            "true values = 79\n",
            "true non shot values = 0\n",
            "all scores = 117\n",
            "victory by number of actions = 16\n",
            "n =  12\n",
            "true values = 77\n",
            "true non shot values = 0\n",
            "all scores = 117\n",
            "victory by number of actions = 16\n"
          ]
        }
      ]
    },
    {
      "cell_type": "code",
      "source": [
        "y_m_concede_train = pd.read_csv('./drive/MyDrive/master/dumps/y_concede_m_train_6.csv')\n",
        "\n",
        "y_concede_train = y_m_concede_train.astype(int).to_numpy()\n",
        "\n",
        "x_torch = torch.from_numpy(X_m_train_final).type(torch.FloatTensor).to(device)\n",
        "y_torch = torch.from_numpy(y_concede_train).type(torch.FloatTensor).reshape(-1, 1).to(device)\n",
        "\n",
        "model = NeuralNetwork(n_x).to(device)\n",
        "optimizer=torch.optim.SGD(model.parameters(),lr=0.0075)\n",
        "\n",
        "number_of_epochs=10000\n",
        "all_loss = []\n",
        "for epoch in range(number_of_epochs):\n",
        "    y_prediction=model(x_torch)\n",
        "    loss=criterion(y_prediction,y_torch)\n",
        "    loss.backward()\n",
        "    all_loss.append(loss.item())\n",
        "    optimizer.step()\n",
        "    optimizer.zero_grad()\n",
        "    if (epoch+1)%1000 == 0:\n",
        "        print('epoch:', epoch+1, ', loss=',loss.item())\n",
        "\n",
        "plt.figure()\n",
        "plt.plot(all_loss)\n",
        "plt.show()\n",
        "\n",
        "model_save_name = 'concede_model_y_m_extended_6.pt'\n",
        "path = F\"./drive/MyDrive/master/models/{model_save_name}\"\n",
        "torch.save(model.state_dict(), path)\n"
      ],
      "metadata": {
        "colab": {
          "base_uri": "https://localhost:8080/",
          "height": 435
        },
        "id": "vS-bFVs9Y4rG",
        "outputId": "869db91c-0bf2-4da2-9296-16c2f080095c"
      },
      "execution_count": null,
      "outputs": [
        {
          "output_type": "stream",
          "name": "stdout",
          "text": [
            "epoch: 1000 , loss= 0.0132046639919281\n",
            "epoch: 2000 , loss= 0.012938453815877438\n",
            "epoch: 3000 , loss= 0.012799362652003765\n",
            "epoch: 4000 , loss= 0.012693184427917004\n",
            "epoch: 5000 , loss= 0.012596839107573032\n",
            "epoch: 6000 , loss= 0.012498538009822369\n",
            "epoch: 7000 , loss= 0.012396145612001419\n",
            "epoch: 8000 , loss= 0.012302592396736145\n",
            "epoch: 9000 , loss= 0.012219760566949844\n",
            "epoch: 10000 , loss= 0.012138817459344864\n"
          ]
        },
        {
          "output_type": "display_data",
          "data": {
            "image/png": "[encoded data removed]",
            "text/plain": [
              "<Figure size 432x288 with 1 Axes>"
            ]
          },
          "metadata": {
            "needs_background": "light"
          }
        }
      ]
    },
    {
      "cell_type": "code",
      "source": [
        "n_x = 40\n",
        "model = NeuralNetwork(n_x).to(device)\n",
        "\n",
        "t = 0\n",
        "t_n = 0\n",
        "c = 0\n",
        "murder_by_numbers = 0\n",
        "\n",
        "model_load_name = 'concede_model_y_m_extended_6.pt'\n",
        "path = F\"./drive/MyDrive/master/models/{model_load_name}\"\n",
        "model.load_state_dict(torch.load(path))\n",
        "\n",
        "for match_id in ids_m_val:\n",
        "    match = matches_m[matches_m[\"match_id\"] == match_id]\n",
        "    home_score = match.iloc[0][\"home_score\"]\n",
        "    away_score = match.iloc[0][\"away_score\"]\n",
        "    if home_score != away_score:\n",
        "        c += 1\n",
        "        home_team_id = match[\"home_team\"].iloc[0][\"home_team_id\"]\n",
        "        away_team_id = match[\"away_team\"].iloc[0][\"away_team_id\"]\n",
        "        match_to_rate = transformer(matches_m, [match_id], loader)\n",
        "        match_to_rate['time_interval'] = classify_time(match_to_rate)\n",
        "        match_to_rate.drop(\"time_spent\", axis=1, inplace=True)\n",
        "        match_to_rate_enc = encoder.transform(match_to_rate[[\"type_name\", \"result_id\", \"bodypart_id\", \"time_interval\"]])\n",
        "        match_to_rate = match_to_rate.drop([\"type_name\", \"result_id\", \"bodypart_id\", \"time_interval\"], axis=1).join(pd.DataFrame.sparse.from_spmatrix(match_to_rate_enc)).to_numpy()\n",
        "        df_teams = loader.teams(match_id)\n",
        "        df_players = loader.players(match_id)\n",
        "        df_events = loader.events(match_id)\n",
        "        df_actions = spadl.statsbomb.convert_to_actions(df_events, home_team_id=home_team_id)\n",
        "        df_actions = (\n",
        "            spadl.add_names(df_actions)\n",
        "            .merge(loader.teams(game_id=match_id))\n",
        "            .merge(loader.players(game_id=match_id))\n",
        "        )\n",
        "        df_actions = df_actions.sort_values(by=['action_id'])\n",
        "        team_ids = df_actions[\"team_id\"]\n",
        "        match_to_rate_torch = torch.from_numpy(match_to_rate).type(torch.FloatTensor).to(device)\n",
        "        with torch.no_grad():\n",
        "            match_to_rate_pred=model(match_to_rate_torch).flatten()\n",
        "        match_to_rate_pred = match_to_rate_pred.cpu().numpy()\n",
        "        df_actions[\"antirating\"] = match_to_rate_pred\n",
        "        team_antiratings = df_actions[[\"team_id\", \"antirating\"]].groupby(\"team_id\").agg('mean')\n",
        "        team_non_shot_ratings = df_actions[df_actions[\"type_id\"] != 11][[\"team_id\", \"antirating\"]].groupby(\"team_id\").agg('mean')\n",
        "        if ((home_score > away_score) and (team_antiratings[\"antirating\"][home_team_id] < team_antiratings[\"antirating\"][away_team_id])) or ((home_score < away_score) and (team_antiratings[\"antirating\"][home_team_id] > team_antiratings[\"antirating\"][away_team_id])):\n",
        "            t += 1\n",
        "print('true values =', str(t))\n",
        "print('true non shot values =', str(t_n))\n",
        "print('all scores =', str(c))"
      ],
      "metadata": {
        "colab": {
          "base_uri": "https://localhost:8080/"
        },
        "id": "IZYea6WRYn53",
        "outputId": "37afaec4-269f-43ed-d590-96f0dddc9d6a"
      },
      "execution_count": null,
      "outputs": [
        {
          "output_type": "stream",
          "name": "stdout",
          "text": [
            "n =  12\n",
            "true values = 80\n",
            "true non shot values = 0\n",
            "all scores = 117\n",
            "victory by number of actions = 16\n"
          ]
        }
      ]
    },
    {
      "cell_type": "code",
      "source": [
        "binom_test(80, 117, .5, alternative='greater')"
      ],
      "metadata": {
        "colab": {
          "base_uri": "https://localhost:8080/"
        },
        "id": "sC2FDpIWrq9w",
        "outputId": "acb6af3e-c5da-480a-b8fb-c3c0b6409a7c"
      },
      "execution_count": null,
      "outputs": [
        {
          "output_type": "execute_result",
          "data": {
            "text/plain": [
              "4.3587183647132327e-05"
            ]
          },
          "metadata": {},
          "execution_count": 143
        }
      ]
    },
    {
      "cell_type": "code",
      "source": [
        "n_x = 40\n",
        "\n",
        "score_model = NeuralNetwork(n_x).to(device)\n",
        "model_load_name = 'score_model_y_m_extended_8.pt'\n",
        "path = F\"./drive/MyDrive/master/models/{model_load_name}\"\n",
        "score_model.load_state_dict(torch.load(path))\n",
        "\n",
        "concede_model = NeuralNetwork(n_x).to(device)\n",
        "model_load_name = 'concede_model_y_m6.pt'\n",
        "path = F\"./drive/MyDrive/master/models/{model_load_name}\"\n",
        "concede_model.load_state_dict(torch.load(path))"
      ],
      "metadata": {
        "colab": {
          "base_uri": "https://localhost:8080/"
        },
        "id": "nHTtYYULfdSY",
        "outputId": "6decbf52-a9f7-463c-c4ae-dd69c58bf549"
      },
      "execution_count": null,
      "outputs": [
        {
          "output_type": "execute_result",
          "data": {
            "text/plain": [
              "<All keys matched successfully>"
            ]
          },
          "metadata": {},
          "execution_count": 26
        }
      ]
    },
    {
      "cell_type": "code",
      "source": [
        "t = 0\n",
        "t_n = 0\n",
        "c = 0\n",
        "\n",
        "for match_id in ids_m_val:\n",
        "    match = matches_m[matches_m[\"match_id\"] == match_id]\n",
        "    home_score = match.iloc[0][\"home_score\"]\n",
        "    away_score = match.iloc[0][\"away_score\"]\n",
        "    if home_score != away_score:\n",
        "        c += 1\n",
        "        home_team_id = match[\"home_team\"].iloc[0][\"home_team_id\"]\n",
        "        away_team_id = match[\"away_team\"].iloc[0][\"away_team_id\"]\n",
        "        match_to_rate = transformer(matches_m, [match_id], loader)\n",
        "        match_to_rate['time_interval'] = classify_time(match_to_rate)\n",
        "        match_to_rate.drop(\"time_spent\", axis=1, inplace=True)\n",
        "        match_to_rate_enc = encoder.transform(match_to_rate[[\"type_name\", \"result_id\", \"bodypart_id\", \"time_interval\"]])\n",
        "        match_to_rate = match_to_rate.drop([\"type_name\", \"result_id\", \"bodypart_id\", \"time_interval\"], axis=1).join(pd.DataFrame.sparse.from_spmatrix(match_to_rate_enc)).to_numpy()\n",
        "        df_teams = loader.teams(match_id)\n",
        "        df_players = loader.players(match_id)\n",
        "        df_events = loader.events(match_id)\n",
        "        df_actions = spadl.statsbomb.convert_to_actions(df_events, home_team_id=home_team_id)\n",
        "        df_actions = (\n",
        "            spadl.add_names(df_actions)\n",
        "            .merge(loader.teams(game_id=match_id))\n",
        "            .merge(loader.players(game_id=match_id))\n",
        "        )\n",
        "        df_actions = df_actions.sort_values(by=['action_id'])\n",
        "        team_ids = df_actions[\"team_id\"]\n",
        "        match_to_rate_torch = torch.from_numpy(match_to_rate).type(torch.FloatTensor).to(device)\n",
        "        with torch.no_grad():\n",
        "            match_to_rate_pred_score=score_model(match_to_rate_torch).flatten()\n",
        "        with torch.no_grad():\n",
        "            match_to_rate_pred_concede=concede_model(match_to_rate_torch).flatten()\n",
        "        match_to_rate_pred_score = match_to_rate_pred_score.cpu().numpy()\n",
        "        match_to_rate_pred_concede = match_to_rate_pred_concede.cpu().numpy()\n",
        "        df_actions[\"rating\"] = match_to_rate_pred_score - match_to_rate_pred_concede\n",
        "        team_ratings = df_actions[[\"team_id\", \"rating\"]].groupby(\"team_id\").agg('mean')\n",
        "        team_non_shot_ratings = df_actions[df_actions[\"type_id\"] != 11][[\"team_id\", \"rating\"]].groupby(\"team_id\").agg('mean')\n",
        "        if ((home_score > away_score) and (team_ratings[\"rating\"][home_team_id] > team_ratings[\"rating\"][away_team_id])) or ((home_score < away_score) and (team_ratings[\"rating\"][home_team_id] < team_ratings[\"rating\"][away_team_id])):\n",
        "            t += 1\n",
        "        if ((home_score > away_score) and (team_non_shot_ratings[\"rating\"][home_team_id] > team_non_shot_ratings[\"rating\"][away_team_id])) or ((home_score < away_score) and (team_non_shot_ratings[\"rating\"][home_team_id] < team_non_shot_ratings[\"rating\"][away_team_id])):\n",
        "            t_n += 1\n",
        "print('true values =', str(t))\n",
        "print('true non shot values =', str(t_n))\n",
        "print('all scores =', str(c))"
      ],
      "metadata": {
        "colab": {
          "base_uri": "https://localhost:8080/"
        },
        "id": "9xNPpCH_f4k_",
        "outputId": "3188e817-b9c3-4256-d8d0-110f26d70f18"
      },
      "execution_count": null,
      "outputs": [
        {
          "output_type": "stream",
          "name": "stdout",
          "text": [
            "true values = 81\n",
            "true values in dominated games = 0\n",
            "true non shot values = 78\n",
            "all scores = 117\n"
          ]
        }
      ]
    },
    {
      "cell_type": "code",
      "source": [
        "binom_test(81, 117, .5, alternative='greater')"
      ],
      "metadata": {
        "colab": {
          "base_uri": "https://localhost:8080/"
        },
        "id": "sncTdFP8rxZ9",
        "outputId": "887ea758-d644-4519-907f-badac34d9a32"
      },
      "execution_count": null,
      "outputs": [
        {
          "output_type": "execute_result",
          "data": {
            "text/plain": [
              "1.9331722041194814e-05"
            ]
          },
          "metadata": {},
          "execution_count": 144
        }
      ]
    },
    {
      "cell_type": "markdown",
      "source": [
        "**Rating Test Dataset**"
      ],
      "metadata": {
        "id": "nTyBHkTOZqP7"
      }
    },
    {
      "cell_type": "code",
      "source": [
        "avg_ratings = {\n",
        "    \"female_score\": {},\n",
        "    \"female_concede\": {},\n",
        "    \"male_score\": {},\n",
        "    \"male_concede\": {}\n",
        "}"
      ],
      "metadata": {
        "id": "vfTABtxLIp9U"
      },
      "execution_count": null,
      "outputs": []
    },
    {
      "cell_type": "code",
      "source": [
        "male_players_with_ratings_score = {}\n",
        "male_players_with_ratings_concede = {}\n",
        "c = 0\n",
        "t = 0\n",
        "t_s = 0\n",
        "t_c = 0\n",
        "for match_id in ids_m_test:\n",
        "    match = matches_m[matches_m[\"match_id\"] == match_id]\n",
        "    home_score = match.iloc[0][\"home_score\"]\n",
        "    away_score = match.iloc[0][\"away_score\"]\n",
        "    home_team_id = match[\"home_team\"].iloc[0][\"home_team_id\"]\n",
        "    away_team_id = match[\"away_team\"].iloc[0][\"away_team_id\"]\n",
        "    match_to_rate = transformer(matches_m, [match_id], loader)\n",
        "    match_to_rate['time_interval'] = classify_time(match_to_rate)\n",
        "    match_to_rate.drop(\"time_spent\", axis=1, inplace=True)\n",
        "    match_to_rate_enc = encoder.transform(match_to_rate[[\"type_name\", \"result_id\", \"bodypart_id\", \"time_interval\"]])\n",
        "    match_to_rate = match_to_rate.drop([\"type_name\", \"result_id\", \"bodypart_id\", \"time_interval\"], axis=1).join(pd.DataFrame.sparse.from_spmatrix(match_to_rate_enc)).to_numpy()\n",
        "    df_teams = loader.teams(match_id)\n",
        "    df_players = loader.players(match_id)\n",
        "    df_events = loader.events(match_id)\n",
        "    df_actions = spadl.statsbomb.convert_to_actions(df_events, home_team_id=home_team_id)\n",
        "    df_actions = (\n",
        "        spadl.add_names(df_actions)\n",
        "        .merge(loader.teams(game_id=match_id))\n",
        "        .merge(loader.players(game_id=match_id))\n",
        "    )\n",
        "    df_actions = df_actions.sort_values(by=['action_id'])\n",
        "    team_ids = df_actions[\"team_id\"]\n",
        "    match_to_rate_torch = torch.from_numpy(match_to_rate).type(torch.FloatTensor).to(device)\n",
        "    with torch.no_grad():\n",
        "        match_to_rate_pred_score=score_model(match_to_rate_torch).flatten()\n",
        "    with torch.no_grad():\n",
        "        match_to_rate_pred_concede=concede_model(match_to_rate_torch).flatten()\n",
        "    match_to_rate_pred_score = match_to_rate_pred_score.cpu().numpy()\n",
        "    match_to_rate_pred_concede = match_to_rate_pred_concede.cpu().numpy()\n",
        "    df_actions[\"score_rating\"] = match_to_rate_pred_score\n",
        "    df_actions[\"concede_rating\"] = match_to_rate_pred_concede\n",
        "    df_actions[\"rating\"] = match_to_rate_pred_score - match_to_rate_pred_concede\n",
        "    if home_score != away_score:\n",
        "        c += 1\n",
        "        team_score_ratings = df_actions[[\"team_id\", \"score_rating\"]].groupby(\"team_id\").agg('mean')\n",
        "        if ((home_score > away_score) and (team_score_ratings[\"score_rating\"][home_team_id] > team_score_ratings[\"score_rating\"][away_team_id])) or ((home_score < away_score) and (team_score_ratings[\"score_rating\"][home_team_id] < team_score_ratings[\"score_rating\"][away_team_id])):\n",
        "            t_s += 1\n",
        "        team_concede_ratings = df_actions[[\"team_id\", \"concede_rating\"]].groupby(\"team_id\").agg('mean')\n",
        "        if ((home_score > away_score) and (team_concede_ratings[\"concede_rating\"][home_team_id] < team_concede_ratings[\"concede_rating\"][away_team_id])) or ((home_score < away_score) and (team_concede_ratings[\"concede_rating\"][home_team_id] > team_concede_ratings[\"concede_rating\"][away_team_id])):\n",
        "            t_c += 1\n",
        "        team_ratings = df_actions[[\"team_id\", \"rating\"]].groupby(\"team_id\").agg('mean')\n",
        "        if ((home_score > away_score) and (team_ratings[\"rating\"][home_team_id] > team_ratings[\"rating\"][away_team_id])) or ((home_score < away_score) and (team_ratings[\"rating\"][home_team_id] < team_ratings[\"rating\"][away_team_id])):\n",
        "            t += 1\n",
        "    score_ratings = df_actions.groupby(\"player_id\").aggregate({'score_rating': 'mean'})\n",
        "    for i in range(len(score_ratings.index)):\n",
        "        if score_ratings.index[i] not in male_players_with_ratings_score:\n",
        "            male_players_with_ratings_score[score_ratings.index[i]] = [score_ratings.iloc[i][0]]\n",
        "        else:\n",
        "            male_players_with_ratings_score[score_ratings.index[i]].append(score_ratings.iloc[i][0])\n",
        "    concede_ratings = df_actions.groupby(\"player_id\").aggregate({'concede_rating': 'mean'})\n",
        "    for i in range(len(concede_ratings.index)):\n",
        "        if concede_ratings.index[i] not in male_players_with_ratings_concede:\n",
        "            male_players_with_ratings_concede[concede_ratings.index[i]] = [concede_ratings.iloc[i][0]]\n",
        "        else:\n",
        "            male_players_with_ratings_concede[concede_ratings.index[i]].append(concede_ratings.iloc[i][0])\n",
        "\n",
        "print('true scoring values =', str(t_s))\n",
        "print('true conceding values =', str(t_c))\n",
        "print('true values =', str(t))\n",
        "print('all scores =', str(c))"
      ],
      "metadata": {
        "colab": {
          "base_uri": "https://localhost:8080/"
        },
        "id": "-nvoVg9dkWaf",
        "outputId": "18eb61a7-a11d-4f99-e397-5446b7db8110"
      },
      "execution_count": null,
      "outputs": [
        {
          "output_type": "stream",
          "name": "stdout",
          "text": [
            "true scoring values = 58\n",
            "true conceding values = 65\n",
            "true values = 66\n",
            "all scores = 95\n"
          ]
        }
      ]
    },
    {
      "cell_type": "code",
      "source": [
        "binom_test(58, 95, .5, alternative='greater')"
      ],
      "metadata": {
        "colab": {
          "base_uri": "https://localhost:8080/"
        },
        "id": "q2c39kYyr376",
        "outputId": "5bd4effa-c806-4b35-83e6-faac6a314811"
      },
      "execution_count": null,
      "outputs": [
        {
          "output_type": "execute_result",
          "data": {
            "text/plain": [
              "0.01980411883527295"
            ]
          },
          "metadata": {},
          "execution_count": 145
        }
      ]
    },
    {
      "cell_type": "code",
      "source": [
        "binom_test(65, 95, .5, alternative='greater')"
      ],
      "metadata": {
        "colab": {
          "base_uri": "https://localhost:8080/"
        },
        "id": "hDrxaxrVr_jl",
        "outputId": "9e5e6e2f-ffaa-4e50-f3a4-7d4a8fbce2c8"
      },
      "execution_count": null,
      "outputs": [
        {
          "output_type": "execute_result",
          "data": {
            "text/plain": [
              "0.000212396364447373"
            ]
          },
          "metadata": {},
          "execution_count": 146
        }
      ]
    },
    {
      "cell_type": "code",
      "source": [
        "binom_test(66, 95, .5, alternative='greater')"
      ],
      "metadata": {
        "colab": {
          "base_uri": "https://localhost:8080/"
        },
        "id": "IzVyp711r_tX",
        "outputId": "8570e598-0a2e-4026-cf07-c1f83dd1a197"
      },
      "execution_count": null,
      "outputs": [
        {
          "output_type": "execute_result",
          "data": {
            "text/plain": [
              "9.320096314589007e-05"
            ]
          },
          "metadata": {},
          "execution_count": 147
        }
      ]
    },
    {
      "cell_type": "code",
      "source": [
        "for key, value in male_players_with_ratings_score.items():\n",
        "    avg_ratings[\"male_score\"][key] = {\n",
        "        \"rating\": np.mean(value),\n",
        "        \"matches\": len(value)\n",
        "    }\n",
        "\n",
        "for key, value in male_players_with_ratings_concede.items():\n",
        "    avg_ratings[\"male_concede\"][key] = {\n",
        "        \"rating\": np.mean(value),\n",
        "        \"matches\": len(value)\n",
        "    }"
      ],
      "metadata": {
        "id": "qqUm9Y4Y9Rfn"
      },
      "execution_count": null,
      "outputs": []
    },
    {
      "cell_type": "code",
      "source": [
        "female_players_with_ratings_score = {}\n",
        "female_players_with_ratings_concede = {}\n",
        "c = 0\n",
        "t = 0\n",
        "t_s = 0\n",
        "t_c = 0\n",
        "\n",
        "for match_id in ids_f_test:\n",
        "    match = matches_f[matches_f[\"match_id\"] == match_id]\n",
        "    home_score = match.iloc[0][\"home_score\"]\n",
        "    away_score = match.iloc[0][\"away_score\"]\n",
        "    home_team_id = match[\"home_team\"].iloc[0][\"home_team_id\"]\n",
        "    away_team_id = match[\"away_team\"].iloc[0][\"away_team_id\"]\n",
        "    match_to_rate = transformer(matches_f, [match_id], loader)\n",
        "    match_to_rate['time_interval'] = classify_time(match_to_rate)\n",
        "    match_to_rate.drop(\"time_spent\", axis=1, inplace=True)\n",
        "    match_to_rate_enc = encoder.transform(match_to_rate[[\"type_name\", \"result_id\", \"bodypart_id\", \"time_interval\"]])\n",
        "    match_to_rate = match_to_rate.drop([\"type_name\", \"result_id\", \"bodypart_id\", \"time_interval\"], axis=1).join(pd.DataFrame.sparse.from_spmatrix(match_to_rate_enc)).to_numpy()\n",
        "    df_teams = loader.teams(match_id)\n",
        "    df_players = loader.players(match_id)\n",
        "    df_events = loader.events(match_id)\n",
        "    df_actions = spadl.statsbomb.convert_to_actions(df_events, home_team_id=home_team_id)\n",
        "    df_actions = (\n",
        "        spadl.add_names(df_actions)\n",
        "        .merge(loader.teams(game_id=match_id))\n",
        "        .merge(loader.players(game_id=match_id))\n",
        "    )\n",
        "    df_actions = df_actions.sort_values(by=['action_id'])\n",
        "    team_ids = df_actions[\"team_id\"]\n",
        "    match_to_rate_torch = torch.from_numpy(match_to_rate).type(torch.FloatTensor).to(device)\n",
        "    with torch.no_grad():\n",
        "        match_to_rate_pred_score=score_model(match_to_rate_torch).flatten()\n",
        "    with torch.no_grad():\n",
        "        match_to_rate_pred_concede=concede_model(match_to_rate_torch).flatten()\n",
        "    match_to_rate_pred_score = match_to_rate_pred_score.cpu().numpy()\n",
        "    match_to_rate_pred_concede = match_to_rate_pred_concede.cpu().numpy()\n",
        "    df_actions[\"score_rating\"] = match_to_rate_pred_score\n",
        "    df_actions[\"concede_rating\"] = match_to_rate_pred_concede\n",
        "    df_actions[\"rating\"] = match_to_rate_pred_score - match_to_rate_pred_concede\n",
        "    if home_score != away_score:\n",
        "        c += 1\n",
        "        team_score_ratings = df_actions[[\"team_id\", \"score_rating\"]].groupby(\"team_id\").agg('mean')\n",
        "        if ((home_score > away_score) and (team_score_ratings[\"score_rating\"][home_team_id] > team_score_ratings[\"score_rating\"][away_team_id])) or ((home_score < away_score) and (team_score_ratings[\"score_rating\"][home_team_id] < team_score_ratings[\"score_rating\"][away_team_id])):\n",
        "            t_s += 1\n",
        "        team_concede_ratings = df_actions[[\"team_id\", \"concede_rating\"]].groupby(\"team_id\").agg('mean')\n",
        "        if ((home_score > away_score) and (team_concede_ratings[\"concede_rating\"][home_team_id] < team_concede_ratings[\"concede_rating\"][away_team_id])) or ((home_score < away_score) and (team_concede_ratings[\"concede_rating\"][home_team_id] > team_concede_ratings[\"concede_rating\"][away_team_id])):\n",
        "            t_c += 1\n",
        "        team_ratings = df_actions[[\"team_id\", \"rating\"]].groupby(\"team_id\").agg('mean')\n",
        "        if ((home_score > away_score) and (team_ratings[\"rating\"][home_team_id] > team_ratings[\"rating\"][away_team_id])) or ((home_score < away_score) and (team_ratings[\"rating\"][home_team_id] < team_ratings[\"rating\"][away_team_id])):\n",
        "            t += 1\n",
        "    score_ratings = df_actions.groupby(\"player_id\").aggregate({'score_rating': 'mean'})\n",
        "    for i in range(len(score_ratings.index)):\n",
        "        if score_ratings.index[i] not in female_players_with_ratings_score:\n",
        "            female_players_with_ratings_score[score_ratings.index[i]] = [score_ratings.iloc[i][0]]\n",
        "        else:\n",
        "            female_players_with_ratings_score[score_ratings.index[i]].append(score_ratings.iloc[i][0])\n",
        "    concede_ratings = df_actions.groupby(\"player_id\").aggregate({'concede_rating': 'mean'})\n",
        "    for i in range(len(concede_ratings.index)):\n",
        "        if concede_ratings.index[i] not in female_players_with_ratings_concede:\n",
        "            female_players_with_ratings_concede[concede_ratings.index[i]] = [concede_ratings.iloc[i][0]]\n",
        "        else:\n",
        "            female_players_with_ratings_concede[concede_ratings.index[i]].append(concede_ratings.iloc[i][0])\n",
        "\n",
        "print('true scoring values =', str(t_s))\n",
        "print('true conceding values =', str(t_c))\n",
        "print('true values =', str(t))\n",
        "print('all scores =', str(c))"
      ],
      "metadata": {
        "id": "o_Lv3cb6aERR",
        "colab": {
          "base_uri": "https://localhost:8080/"
        },
        "outputId": "5713553f-ff02-4703-e252-cde2eb60cc21"
      },
      "execution_count": null,
      "outputs": [
        {
          "output_type": "stream",
          "name": "stdout",
          "text": [
            "true scoring values = 33\n",
            "true conceding values = 29\n",
            "true values = 32\n",
            "all scores = 58\n"
          ]
        }
      ]
    },
    {
      "cell_type": "code",
      "source": [
        "binom_test(33, 58, .5, alternative='greater')"
      ],
      "metadata": {
        "colab": {
          "base_uri": "https://localhost:8080/"
        },
        "id": "kk0STWVKsP_Y",
        "outputId": "82d0b627-1fc6-45d1-be62-d9725a4efa50"
      },
      "execution_count": null,
      "outputs": [
        {
          "output_type": "execute_result",
          "data": {
            "text/plain": [
              "0.17907165090306884"
            ]
          },
          "metadata": {},
          "execution_count": 148
        }
      ]
    },
    {
      "cell_type": "code",
      "source": [
        "binom_test(29, 58, .5, alternative='greater')"
      ],
      "metadata": {
        "colab": {
          "base_uri": "https://localhost:8080/"
        },
        "id": "1185YpOEsSvh",
        "outputId": "0e8d66d8-8e51-464a-cf93-90d42718c782"
      },
      "execution_count": null,
      "outputs": [
        {
          "output_type": "execute_result",
          "data": {
            "text/plain": [
              "0.5521583930552044"
            ]
          },
          "metadata": {},
          "execution_count": 149
        }
      ]
    },
    {
      "cell_type": "code",
      "source": [
        "binom_test(32, 58, .5, alternative='greater')"
      ],
      "metadata": {
        "colab": {
          "base_uri": "https://localhost:8080/"
        },
        "id": "iSpJvNYksTJ0",
        "outputId": "9e541b4a-8ca4-49e0-dfd5-0b1daeb8abe1"
      },
      "execution_count": null,
      "outputs": [
        {
          "output_type": "execute_result",
          "data": {
            "text/plain": [
              "0.2559211542190845"
            ]
          },
          "metadata": {},
          "execution_count": 150
        }
      ]
    },
    {
      "cell_type": "code",
      "source": [
        "from scipy.stats import fisher_exact"
      ],
      "metadata": {
        "id": "ZvVOlUKdpCTO"
      },
      "execution_count": null,
      "outputs": []
    },
    {
      "cell_type": "code",
      "source": [
        "for key, value in female_players_with_ratings_score.items():\n",
        "    avg_ratings[\"female_score\"][key] = {\n",
        "        \"rating\": np.mean(value),\n",
        "        \"matches\": len(value)\n",
        "    }\n",
        "\n",
        "for key, value in female_players_with_ratings_concede.items():\n",
        "    avg_ratings[\"female_concede\"][key] = {\n",
        "        \"rating\": np.mean(value),\n",
        "        \"matches\": len(value)\n",
        "    }"
      ],
      "metadata": {
        "id": "BMBjA3ZP5jhw"
      },
      "execution_count": null,
      "outputs": []
    },
    {
      "cell_type": "code",
      "source": [
        "np.mean([i[\"rating\"] for i in avg_ratings[\"female_score\"].values()])"
      ],
      "metadata": {
        "colab": {
          "base_uri": "https://localhost:8080/"
        },
        "id": "w9GBOG6M94dt",
        "outputId": "45358af2-5f59-4c95-bf0e-0e2e0d606a94"
      },
      "execution_count": null,
      "outputs": [
        {
          "output_type": "execute_result",
          "data": {
            "text/plain": [
              "0.014850397"
            ]
          },
          "metadata": {},
          "execution_count": 81
        }
      ]
    },
    {
      "cell_type": "code",
      "source": [
        "np.mean([i[\"rating\"] for i in avg_ratings[\"male_score\"].values()])"
      ],
      "metadata": {
        "colab": {
          "base_uri": "https://localhost:8080/"
        },
        "id": "Kcl7lDe19UqO",
        "outputId": "b064c5d0-e635-44f0-b3bb-574bf2c1004c"
      },
      "execution_count": null,
      "outputs": [
        {
          "output_type": "execute_result",
          "data": {
            "text/plain": [
              "0.0147684645"
            ]
          },
          "metadata": {},
          "execution_count": 82
        }
      ]
    },
    {
      "cell_type": "code",
      "source": [
        "np.mean([i[\"rating\"] for i in avg_ratings[\"female_concede\"].values()])"
      ],
      "metadata": {
        "colab": {
          "base_uri": "https://localhost:8080/"
        },
        "id": "ltlwIM62GoDT",
        "outputId": "1f43f6f7-a628-452e-a566-e8c4994cf46d"
      },
      "execution_count": null,
      "outputs": [
        {
          "output_type": "execute_result",
          "data": {
            "text/plain": [
              "0.003983256"
            ]
          },
          "metadata": {},
          "execution_count": 96
        }
      ]
    },
    {
      "cell_type": "code",
      "source": [
        "np.mean([i[\"rating\"] for i in avg_ratings[\"male_concede\"].values()])"
      ],
      "metadata": {
        "colab": {
          "base_uri": "https://localhost:8080/"
        },
        "id": "v0oSrp5BGoHb",
        "outputId": "9a9cc62b-4ab2-44df-e294-5981e1a1db2a"
      },
      "execution_count": null,
      "outputs": [
        {
          "output_type": "execute_result",
          "data": {
            "text/plain": [
              "0.0034371659"
            ]
          },
          "metadata": {},
          "execution_count": 97
        }
      ]
    },
    {
      "cell_type": "code",
      "source": [
        "female_score_ratings = [i[\"rating\"] for i in avg_ratings[\"female_score\"].values()]\n",
        "male_score_ratings = [i[\"rating\"] for i in avg_ratings[\"male_score\"].values()]"
      ],
      "metadata": {
        "id": "76sUO_nx-MX0"
      },
      "execution_count": null,
      "outputs": []
    },
    {
      "cell_type": "code",
      "source": [
        "from scipy.stats import ttest_ind"
      ],
      "metadata": {
        "id": "DfOjqEL3-SbK"
      },
      "execution_count": null,
      "outputs": []
    },
    {
      "cell_type": "code",
      "source": [
        "female_concede_ratings = [i[\"rating\"] for i in avg_ratings[\"female_concede\"].values()]\n",
        "male_concede_ratings = [i[\"rating\"] for i in avg_ratings[\"male_concede\"].values()]"
      ],
      "metadata": {
        "id": "vQYJXhDuFKjL"
      },
      "execution_count": null,
      "outputs": []
    },
    {
      "cell_type": "code",
      "source": [
        "with open('./drive/MyDrive/master/dumps/avg_ratings.json', 'wb') as f:\n",
        "    pickle.dump(avg_ratings, f)"
      ],
      "metadata": {
        "id": "_vmbJT-HFeFB"
      },
      "execution_count": null,
      "outputs": []
    },
    {
      "cell_type": "markdown",
      "source": [
        "**Model Check Up**"
      ],
      "metadata": {
        "id": "Ra-UI92ATkAe"
      }
    },
    {
      "cell_type": "code",
      "source": [
        "ids_m_test"
      ],
      "metadata": {
        "colab": {
          "base_uri": "https://localhost:8080/"
        },
        "id": "VoI78kO2Tikc",
        "outputId": "f5df92cb-32f7-4794-e142-3ae5ea5d432f"
      },
      "execution_count": null,
      "outputs": [
        {
          "output_type": "execute_result",
          "data": {
            "text/plain": [
              "364      16182\n",
              "247      69189\n",
              "65      267520\n",
              "237      69231\n",
              "547      68325\n",
              "        ...   \n",
              "392      68313\n",
              "417      70275\n",
              "17     3749276\n",
              "370      16136\n",
              "475      69256\n",
              "Name: match_id, Length: 111, dtype: int64"
            ]
          },
          "metadata": {},
          "execution_count": 83
        }
      ]
    },
    {
      "cell_type": "code",
      "source": [
        "matches_m[matches_m[\"match_id\"] == 16182]"
      ],
      "metadata": {
        "colab": {
          "base_uri": "https://localhost:8080/",
          "height": 212
        },
        "id": "Q_VAYfd1YcRl",
        "outputId": "a2f27158-9ba3-4ce7-9888-11531759d3c5"
      },
      "execution_count": null,
      "outputs": [
        {
          "output_type": "execute_result",
          "data": {
            "text/html": [
              "\n",
              "  <div id=\"df-5d81654b-7200-432e-be1a-76a1593d4c46\">\n",
              "    <div class=\"colab-df-container\">\n",
              "      <div>\n",
              "<style scoped>\n",
              "    .dataframe tbody tr th:only-of-type {\n",
              "        vertical-align: middle;\n",
              "    }\n",
              "\n",
              "    .dataframe tbody tr th {\n",
              "        vertical-align: top;\n",
              "    }\n",
              "\n",
              "    .dataframe thead th {\n",
              "        text-align: right;\n",
              "    }\n",
              "</style>\n",
              "<table border=\"1\" class=\"dataframe\">\n",
              "  <thead>\n",
              "    <tr style=\"text-align: right;\">\n",
              "      <th></th>\n",
              "      <th>match_id</th>\n",
              "      <th>match_date</th>\n",
              "      <th>kick_off</th>\n",
              "      <th>competition</th>\n",
              "      <th>season</th>\n",
              "      <th>home_team</th>\n",
              "      <th>away_team</th>\n",
              "      <th>home_score</th>\n",
              "      <th>away_score</th>\n",
              "      <th>match_status</th>\n",
              "      <th>match_status_360</th>\n",
              "      <th>last_updated</th>\n",
              "      <th>last_updated_360</th>\n",
              "      <th>metadata</th>\n",
              "      <th>match_week</th>\n",
              "      <th>competition_stage</th>\n",
              "      <th>stadium</th>\n",
              "      <th>referee</th>\n",
              "    </tr>\n",
              "  </thead>\n",
              "  <tbody>\n",
              "    <tr>\n",
              "      <th>364</th>\n",
              "      <td>16182</td>\n",
              "      <td>2019-02-16</td>\n",
              "      <td>20:45:00.000</td>\n",
              "      <td>{'competition_id': 11, 'country_name': 'Spain'...</td>\n",
              "      <td>{'season_id': 4, 'season_name': '2018/2019'}</td>\n",
              "      <td>{'home_team_id': 217, 'home_team_name': 'Barce...</td>\n",
              "      <td>{'away_team_id': 901, 'away_team_name': 'Real ...</td>\n",
              "      <td>1</td>\n",
              "      <td>0</td>\n",
              "      <td>available</td>\n",
              "      <td>scheduled</td>\n",
              "      <td>2020-07-29T05:00</td>\n",
              "      <td>2021-06-13T16:17:31.694</td>\n",
              "      <td>{'data_version': '1.1.0', 'shot_fidelity_versi...</td>\n",
              "      <td>24</td>\n",
              "      <td>{'id': 1, 'name': 'Regular Season'}</td>\n",
              "      <td>{'id': 342, 'name': 'Camp Nou (Barcelona)', 'c...</td>\n",
              "      <td>NaN</td>\n",
              "    </tr>\n",
              "  </tbody>\n",
              "</table>\n",
              "</div>\n",
              "      <button class=\"colab-df-convert\" onclick=\"convertToInteractive('df-5d81654b-7200-432e-be1a-76a1593d4c46')\"\n",
              "              title=\"Convert this dataframe to an interactive table.\"\n",
              "              style=\"display:none;\">\n",
              "        \n",
              "  <svg xmlns=\"http://www.w3.org/2000/svg\" height=\"24px\"viewBox=\"0 0 24 24\"\n",
              "       width=\"24px\">\n",
              "    <path d=\"M0 0h24v24H0V0z\" fill=\"none\"/>\n",
              "    <path d=\"M18.56 5.44l.94 2.06.94-2.06 2.06-.94-2.06-.94-.94-2.06-.94 2.06-2.06.94zm-11 1L8.5 8.5l.94-2.06 2.06-.94-2.06-.94L8.5 2.5l-.94 2.06-2.06.94zm10 10l.94 2.06.94-2.06 2.06-.94-2.06-.94-.94-2.06-.94 2.06-2.06.94z\"/><path d=\"M17.41 7.96l-1.37-1.37c-.4-.4-.92-.59-1.43-.59-.52 0-1.04.2-1.43.59L10.3 9.45l-7.72 7.72c-.78.78-.78 2.05 0 2.83L4 21.41c.39.39.9.59 1.41.59.51 0 1.02-.2 1.41-.59l7.78-7.78 2.81-2.81c.8-.78.8-2.07 0-2.86zM5.41 20L4 18.59l7.72-7.72 1.47 1.35L5.41 20z\"/>\n",
              "  </svg>\n",
              "      </button>\n",
              "      \n",
              "  <style>\n",
              "    .colab-df-container {\n",
              "      display:flex;\n",
              "      flex-wrap:wrap;\n",
              "      gap: 12px;\n",
              "    }\n",
              "\n",
              "    .colab-df-convert {\n",
              "      background-color: #E8F0FE;\n",
              "      border: none;\n",
              "      border-radius: 50%;\n",
              "      cursor: pointer;\n",
              "      display: none;\n",
              "      fill: #1967D2;\n",
              "      height: 32px;\n",
              "      padding: 0 0 0 0;\n",
              "      width: 32px;\n",
              "    }\n",
              "\n",
              "    .colab-df-convert:hover {\n",
              "      background-color: #E2EBFA;\n",
              "      box-shadow: 0px 1px 2px rgba(60, 64, 67, 0.3), 0px 1px 3px 1px rgba(60, 64, 67, 0.15);\n",
              "      fill: #174EA6;\n",
              "    }\n",
              "\n",
              "    [theme=dark] .colab-df-convert {\n",
              "      background-color: #3B4455;\n",
              "      fill: #D2E3FC;\n",
              "    }\n",
              "\n",
              "    [theme=dark] .colab-df-convert:hover {\n",
              "      background-color: #434B5C;\n",
              "      box-shadow: 0px 1px 3px 1px rgba(0, 0, 0, 0.15);\n",
              "      filter: drop-shadow(0px 1px 2px rgba(0, 0, 0, 0.3));\n",
              "      fill: #FFFFFF;\n",
              "    }\n",
              "  </style>\n",
              "\n",
              "      <script>\n",
              "        const buttonEl =\n",
              "          document.querySelector('#df-5d81654b-7200-432e-be1a-76a1593d4c46 button.colab-df-convert');\n",
              "        buttonEl.style.display =\n",
              "          google.colab.kernel.accessAllowed ? 'block' : 'none';\n",
              "\n",
              "        async function convertToInteractive(key) {\n",
              "          const element = document.querySelector('#df-5d81654b-7200-432e-be1a-76a1593d4c46');\n",
              "          const dataTable =\n",
              "            await google.colab.kernel.invokeFunction('convertToInteractive',\n",
              "                                                     [key], {});\n",
              "          if (!dataTable) return;\n",
              "\n",
              "          const docLinkHtml = 'Like what you see? Visit the ' +\n",
              "            '<a target=\"_blank\" href=https://colab.research.google.com/notebooks/data_table.ipynb>data table notebook</a>'\n",
              "            + ' to learn more about interactive tables.';\n",
              "          element.innerHTML = '';\n",
              "          dataTable['output_type'] = 'display_data';\n",
              "          await google.colab.output.renderOutput(dataTable, element);\n",
              "          const docLink = document.createElement('div');\n",
              "          docLink.innerHTML = docLinkHtml;\n",
              "          element.appendChild(docLink);\n",
              "        }\n",
              "      </script>\n",
              "    </div>\n",
              "  </div>\n",
              "  "
            ],
            "text/plain": [
              "     match_id  ... referee\n",
              "364     16182  ...     NaN\n",
              "\n",
              "[1 rows x 18 columns]"
            ]
          },
          "metadata": {},
          "execution_count": 49
        }
      ]
    },
    {
      "cell_type": "code",
      "source": [
        "match_id = 16182\n",
        "match = matches_m[matches_m[\"match_id\"] == match_id]\n",
        "home_team_id = match[\"home_team\"].iloc[0][\"home_team_id\"]\n",
        "away_team_id = match[\"away_team\"].iloc[0][\"away_team_id\"]\n",
        "match_to_rate = transformer(matches_m, [match_id], loader)\n",
        "match_to_rate['time_interval'] = classify_time(match_to_rate)\n",
        "match_to_rate.drop(\"time_spent\", axis=1, inplace=True)\n",
        "match_to_rate_enc = encoder.transform(match_to_rate[[\"type_name\", \"result_id\", \"bodypart_id\", \"time_interval\"]])\n",
        "match_to_rate = match_to_rate.drop([\"type_name\", \"result_id\", \"bodypart_id\", \"time_interval\"], axis=1).join(pd.DataFrame.sparse.from_spmatrix(match_to_rate_enc)).to_numpy()\n",
        "df_teams = loader.teams(match_id)\n",
        "df_players = loader.players(match_id)\n",
        "df_events = loader.events(match_id)\n",
        "df_actions = spadl.statsbomb.convert_to_actions(df_events, home_team_id=home_team_id)\n",
        "df_actions = (\n",
        "    spadl.add_names(df_actions)\n",
        "    .merge(loader.teams(game_id=match_id))\n",
        "    .merge(loader.players(game_id=match_id))\n",
        ")\n",
        "df_actions = df_actions.sort_values(by=['action_id'])\n",
        "team_ids = df_actions[\"team_id\"]\n",
        "match_to_rate_torch = torch.from_numpy(match_to_rate).type(torch.FloatTensor).to(device)\n",
        "with torch.no_grad():\n",
        "    match_to_rate_pred_score=score_model(match_to_rate_torch).flatten()\n",
        "with torch.no_grad():\n",
        "    match_to_rate_pred_concede=concede_model(match_to_rate_torch).flatten()\n",
        "match_to_rate_pred_score = match_to_rate_pred_score.cpu().numpy()\n",
        "match_to_rate_pred_concede = match_to_rate_pred_concede.cpu().numpy()\n",
        "df_actions[\"score_rating\"] = match_to_rate_pred_score\n",
        "df_actions[\"concede_rating\"] = match_to_rate_pred_concede\n",
        "df_actions[\"rating\"] = match_to_rate_pred_score - match_to_rate_pred_concede"
      ],
      "metadata": {
        "id": "feXEAFE1UdMt"
      },
      "execution_count": null,
      "outputs": []
    },
    {
      "cell_type": "code",
      "source": [
        "score_ratings_barca = df_actions[df_actions[\"team_id\"] == 217].groupby(\"player_name\").aggregate({'score_rating': 'mean'})\n",
        "score_ratings_valladolid = df_actions[df_actions[\"team_id\"] == 901].groupby(\"player_name\").aggregate({'score_rating': 'mean'})\n",
        "concede_ratings_barca = df_actions[df_actions[\"team_id\"] == 217].groupby(\"player_name\").aggregate({'concede_rating': 'mean'})\n",
        "concede_ratings_valladolid = df_actions[df_actions[\"team_id\"] == 901].groupby(\"player_name\").aggregate({'concede_rating': 'mean'})\n",
        "ratings_barca = df_actions[df_actions[\"team_id\"] == 217].groupby(\"player_name\").aggregate({'rating': 'mean'})\n",
        "ratings_valladolid = df_actions[df_actions[\"team_id\"] == 901].groupby(\"player_name\").aggregate({'rating': 'mean'})"
      ],
      "metadata": {
        "id": "M6oQqLgcYTuu"
      },
      "execution_count": null,
      "outputs": []
    },
    {
      "cell_type": "code",
      "source": [
        "score_ratings_barca"
      ],
      "metadata": {
        "colab": {
          "base_uri": "https://localhost:8080/",
          "height": 514
        },
        "id": "Mf-6f_F7YVZq",
        "outputId": "994d5189-3095-4042-826a-89b74df9ac35"
      },
      "execution_count": null,
      "outputs": [
        {
          "output_type": "execute_result",
          "data": {
            "text/html": [
              "\n",
              "  <div id=\"df-043f8220-1438-478c-9410-c6a80764c66e\">\n",
              "    <div class=\"colab-df-container\">\n",
              "      <div>\n",
              "<style scoped>\n",
              "    .dataframe tbody tr th:only-of-type {\n",
              "        vertical-align: middle;\n",
              "    }\n",
              "\n",
              "    .dataframe tbody tr th {\n",
              "        vertical-align: top;\n",
              "    }\n",
              "\n",
              "    .dataframe thead th {\n",
              "        text-align: right;\n",
              "    }\n",
              "</style>\n",
              "<table border=\"1\" class=\"dataframe\">\n",
              "  <thead>\n",
              "    <tr style=\"text-align: right;\">\n",
              "      <th></th>\n",
              "      <th>score_rating</th>\n",
              "    </tr>\n",
              "    <tr>\n",
              "      <th>player_name</th>\n",
              "      <th></th>\n",
              "    </tr>\n",
              "  </thead>\n",
              "  <tbody>\n",
              "    <tr>\n",
              "      <th>Arturo Erasmo Vidal Pardo</th>\n",
              "      <td>0.015643</td>\n",
              "    </tr>\n",
              "    <tr>\n",
              "      <th>Carles Aleña Castillo</th>\n",
              "      <td>0.011586</td>\n",
              "    </tr>\n",
              "    <tr>\n",
              "      <th>Gerard Piqué Bernabéu</th>\n",
              "      <td>0.029896</td>\n",
              "    </tr>\n",
              "    <tr>\n",
              "      <th>Ivan Rakitić</th>\n",
              "      <td>0.017384</td>\n",
              "    </tr>\n",
              "    <tr>\n",
              "      <th>Jordi Alba Ramos</th>\n",
              "      <td>0.004301</td>\n",
              "    </tr>\n",
              "    <tr>\n",
              "      <th>Kevin-Prince Boateng</th>\n",
              "      <td>0.009705</td>\n",
              "    </tr>\n",
              "    <tr>\n",
              "      <th>Lionel Andrés Messi Cuccittini</th>\n",
              "      <td>0.013816</td>\n",
              "    </tr>\n",
              "    <tr>\n",
              "      <th>Luis Alberto Suárez Díaz</th>\n",
              "      <td>0.011725</td>\n",
              "    </tr>\n",
              "    <tr>\n",
              "      <th>Marc-André ter Stegen</th>\n",
              "      <td>0.027018</td>\n",
              "    </tr>\n",
              "    <tr>\n",
              "      <th>Ousmane Dembélé</th>\n",
              "      <td>0.006037</td>\n",
              "    </tr>\n",
              "    <tr>\n",
              "      <th>Philippe Coutinho Correia</th>\n",
              "      <td>0.009425</td>\n",
              "    </tr>\n",
              "    <tr>\n",
              "      <th>Sergi Roberto Carnicer</th>\n",
              "      <td>0.020285</td>\n",
              "    </tr>\n",
              "    <tr>\n",
              "      <th>Sergio Busquets i Burgos</th>\n",
              "      <td>0.018270</td>\n",
              "    </tr>\n",
              "    <tr>\n",
              "      <th>Thomas Vermaelen</th>\n",
              "      <td>0.009397</td>\n",
              "    </tr>\n",
              "  </tbody>\n",
              "</table>\n",
              "</div>\n",
              "      <button class=\"colab-df-convert\" onclick=\"convertToInteractive('df-043f8220-1438-478c-9410-c6a80764c66e')\"\n",
              "              title=\"Convert this dataframe to an interactive table.\"\n",
              "              style=\"display:none;\">\n",
              "        \n",
              "  <svg xmlns=\"http://www.w3.org/2000/svg\" height=\"24px\"viewBox=\"0 0 24 24\"\n",
              "       width=\"24px\">\n",
              "    <path d=\"M0 0h24v24H0V0z\" fill=\"none\"/>\n",
              "    <path d=\"M18.56 5.44l.94 2.06.94-2.06 2.06-.94-2.06-.94-.94-2.06-.94 2.06-2.06.94zm-11 1L8.5 8.5l.94-2.06 2.06-.94-2.06-.94L8.5 2.5l-.94 2.06-2.06.94zm10 10l.94 2.06.94-2.06 2.06-.94-2.06-.94-.94-2.06-.94 2.06-2.06.94z\"/><path d=\"M17.41 7.96l-1.37-1.37c-.4-.4-.92-.59-1.43-.59-.52 0-1.04.2-1.43.59L10.3 9.45l-7.72 7.72c-.78.78-.78 2.05 0 2.83L4 21.41c.39.39.9.59 1.41.59.51 0 1.02-.2 1.41-.59l7.78-7.78 2.81-2.81c.8-.78.8-2.07 0-2.86zM5.41 20L4 18.59l7.72-7.72 1.47 1.35L5.41 20z\"/>\n",
              "  </svg>\n",
              "      </button>\n",
              "      \n",
              "  <style>\n",
              "    .colab-df-container {\n",
              "      display:flex;\n",
              "      flex-wrap:wrap;\n",
              "      gap: 12px;\n",
              "    }\n",
              "\n",
              "    .colab-df-convert {\n",
              "      background-color: #E8F0FE;\n",
              "      border: none;\n",
              "      border-radius: 50%;\n",
              "      cursor: pointer;\n",
              "      display: none;\n",
              "      fill: #1967D2;\n",
              "      height: 32px;\n",
              "      padding: 0 0 0 0;\n",
              "      width: 32px;\n",
              "    }\n",
              "\n",
              "    .colab-df-convert:hover {\n",
              "      background-color: #E2EBFA;\n",
              "      box-shadow: 0px 1px 2px rgba(60, 64, 67, 0.3), 0px 1px 3px 1px rgba(60, 64, 67, 0.15);\n",
              "      fill: #174EA6;\n",
              "    }\n",
              "\n",
              "    [theme=dark] .colab-df-convert {\n",
              "      background-color: #3B4455;\n",
              "      fill: #D2E3FC;\n",
              "    }\n",
              "\n",
              "    [theme=dark] .colab-df-convert:hover {\n",
              "      background-color: #434B5C;\n",
              "      box-shadow: 0px 1px 3px 1px rgba(0, 0, 0, 0.15);\n",
              "      filter: drop-shadow(0px 1px 2px rgba(0, 0, 0, 0.3));\n",
              "      fill: #FFFFFF;\n",
              "    }\n",
              "  </style>\n",
              "\n",
              "      <script>\n",
              "        const buttonEl =\n",
              "          document.querySelector('#df-043f8220-1438-478c-9410-c6a80764c66e button.colab-df-convert');\n",
              "        buttonEl.style.display =\n",
              "          google.colab.kernel.accessAllowed ? 'block' : 'none';\n",
              "\n",
              "        async function convertToInteractive(key) {\n",
              "          const element = document.querySelector('#df-043f8220-1438-478c-9410-c6a80764c66e');\n",
              "          const dataTable =\n",
              "            await google.colab.kernel.invokeFunction('convertToInteractive',\n",
              "                                                     [key], {});\n",
              "          if (!dataTable) return;\n",
              "\n",
              "          const docLinkHtml = 'Like what you see? Visit the ' +\n",
              "            '<a target=\"_blank\" href=https://colab.research.google.com/notebooks/data_table.ipynb>data table notebook</a>'\n",
              "            + ' to learn more about interactive tables.';\n",
              "          element.innerHTML = '';\n",
              "          dataTable['output_type'] = 'display_data';\n",
              "          await google.colab.output.renderOutput(dataTable, element);\n",
              "          const docLink = document.createElement('div');\n",
              "          docLink.innerHTML = docLinkHtml;\n",
              "          element.appendChild(docLink);\n",
              "        }\n",
              "      </script>\n",
              "    </div>\n",
              "  </div>\n",
              "  "
            ],
            "text/plain": [
              "                                score_rating\n",
              "player_name                                 \n",
              "Arturo Erasmo Vidal Pardo           0.015643\n",
              "Carles Aleña Castillo               0.011586\n",
              "Gerard Piqué Bernabéu               0.029896\n",
              "Ivan Rakitić                        0.017384\n",
              "Jordi Alba Ramos                    0.004301\n",
              "Kevin-Prince Boateng                0.009705\n",
              "Lionel Andrés Messi Cuccittini      0.013816\n",
              "Luis Alberto Suárez Díaz            0.011725\n",
              "Marc-André ter Stegen               0.027018\n",
              "Ousmane Dembélé                     0.006037\n",
              "Philippe Coutinho Correia           0.009425\n",
              "Sergi Roberto Carnicer              0.020285\n",
              "Sergio Busquets i Burgos            0.018270\n",
              "Thomas Vermaelen                    0.009397"
            ]
          },
          "metadata": {},
          "execution_count": 69
        }
      ]
    },
    {
      "cell_type": "code",
      "source": [
        "score_ratings_valladolid"
      ],
      "metadata": {
        "colab": {
          "base_uri": "https://localhost:8080/",
          "height": 514
        },
        "id": "hlYj458LZdbo",
        "outputId": "add2a1ff-e443-4c66-ed47-592253bed41a"
      },
      "execution_count": null,
      "outputs": [
        {
          "output_type": "execute_result",
          "data": {
            "text/html": [
              "\n",
              "  <div id=\"df-0f63cf98-7526-455d-a60e-aa047b96a5da\">\n",
              "    <div class=\"colab-df-container\">\n",
              "      <div>\n",
              "<style scoped>\n",
              "    .dataframe tbody tr th:only-of-type {\n",
              "        vertical-align: middle;\n",
              "    }\n",
              "\n",
              "    .dataframe tbody tr th {\n",
              "        vertical-align: top;\n",
              "    }\n",
              "\n",
              "    .dataframe thead th {\n",
              "        text-align: right;\n",
              "    }\n",
              "</style>\n",
              "<table border=\"1\" class=\"dataframe\">\n",
              "  <thead>\n",
              "    <tr style=\"text-align: right;\">\n",
              "      <th></th>\n",
              "      <th>score_rating</th>\n",
              "    </tr>\n",
              "    <tr>\n",
              "      <th>player_name</th>\n",
              "      <th></th>\n",
              "    </tr>\n",
              "  </thead>\n",
              "  <tbody>\n",
              "    <tr>\n",
              "      <th>Antonio Jesús Regal Angulo</th>\n",
              "      <td>0.005870</td>\n",
              "    </tr>\n",
              "    <tr>\n",
              "      <th>Anuar Mohamed Tuhami</th>\n",
              "      <td>0.010834</td>\n",
              "    </tr>\n",
              "    <tr>\n",
              "      <th>Daniele Verde</th>\n",
              "      <td>0.018870</td>\n",
              "    </tr>\n",
              "    <tr>\n",
              "      <th>Enes Ünal</th>\n",
              "      <td>0.019937</td>\n",
              "    </tr>\n",
              "    <tr>\n",
              "      <th>Fernando Calero Villa</th>\n",
              "      <td>0.012161</td>\n",
              "    </tr>\n",
              "    <tr>\n",
              "      <th>Francisco José Olivas Alba</th>\n",
              "      <td>0.011889</td>\n",
              "    </tr>\n",
              "    <tr>\n",
              "      <th>Joaquín Fernández Moreno</th>\n",
              "      <td>0.005598</td>\n",
              "    </tr>\n",
              "    <tr>\n",
              "      <th>Jordi Masip López</th>\n",
              "      <td>0.004501</td>\n",
              "    </tr>\n",
              "    <tr>\n",
              "      <th>José Ignacio Martínez García</th>\n",
              "      <td>0.019662</td>\n",
              "    </tr>\n",
              "    <tr>\n",
              "      <th>Laureano Antonio Villa Suárez</th>\n",
              "      <td>0.004807</td>\n",
              "    </tr>\n",
              "    <tr>\n",
              "      <th>Miguel Alfonso Herrero Javaloyas</th>\n",
              "      <td>0.013617</td>\n",
              "    </tr>\n",
              "    <tr>\n",
              "      <th>Sergio Gontán Gallardo</th>\n",
              "      <td>0.006539</td>\n",
              "    </tr>\n",
              "    <tr>\n",
              "      <th>Sergio Guardiola Navarro</th>\n",
              "      <td>0.021387</td>\n",
              "    </tr>\n",
              "    <tr>\n",
              "      <th>Stiven Ricardo Plaza Castillo</th>\n",
              "      <td>0.012188</td>\n",
              "    </tr>\n",
              "  </tbody>\n",
              "</table>\n",
              "</div>\n",
              "      <button class=\"colab-df-convert\" onclick=\"convertToInteractive('df-0f63cf98-7526-455d-a60e-aa047b96a5da')\"\n",
              "              title=\"Convert this dataframe to an interactive table.\"\n",
              "              style=\"display:none;\">\n",
              "        \n",
              "  <svg xmlns=\"http://www.w3.org/2000/svg\" height=\"24px\"viewBox=\"0 0 24 24\"\n",
              "       width=\"24px\">\n",
              "    <path d=\"M0 0h24v24H0V0z\" fill=\"none\"/>\n",
              "    <path d=\"M18.56 5.44l.94 2.06.94-2.06 2.06-.94-2.06-.94-.94-2.06-.94 2.06-2.06.94zm-11 1L8.5 8.5l.94-2.06 2.06-.94-2.06-.94L8.5 2.5l-.94 2.06-2.06.94zm10 10l.94 2.06.94-2.06 2.06-.94-2.06-.94-.94-2.06-.94 2.06-2.06.94z\"/><path d=\"M17.41 7.96l-1.37-1.37c-.4-.4-.92-.59-1.43-.59-.52 0-1.04.2-1.43.59L10.3 9.45l-7.72 7.72c-.78.78-.78 2.05 0 2.83L4 21.41c.39.39.9.59 1.41.59.51 0 1.02-.2 1.41-.59l7.78-7.78 2.81-2.81c.8-.78.8-2.07 0-2.86zM5.41 20L4 18.59l7.72-7.72 1.47 1.35L5.41 20z\"/>\n",
              "  </svg>\n",
              "      </button>\n",
              "      \n",
              "  <style>\n",
              "    .colab-df-container {\n",
              "      display:flex;\n",
              "      flex-wrap:wrap;\n",
              "      gap: 12px;\n",
              "    }\n",
              "\n",
              "    .colab-df-convert {\n",
              "      background-color: #E8F0FE;\n",
              "      border: none;\n",
              "      border-radius: 50%;\n",
              "      cursor: pointer;\n",
              "      display: none;\n",
              "      fill: #1967D2;\n",
              "      height: 32px;\n",
              "      padding: 0 0 0 0;\n",
              "      width: 32px;\n",
              "    }\n",
              "\n",
              "    .colab-df-convert:hover {\n",
              "      background-color: #E2EBFA;\n",
              "      box-shadow: 0px 1px 2px rgba(60, 64, 67, 0.3), 0px 1px 3px 1px rgba(60, 64, 67, 0.15);\n",
              "      fill: #174EA6;\n",
              "    }\n",
              "\n",
              "    [theme=dark] .colab-df-convert {\n",
              "      background-color: #3B4455;\n",
              "      fill: #D2E3FC;\n",
              "    }\n",
              "\n",
              "    [theme=dark] .colab-df-convert:hover {\n",
              "      background-color: #434B5C;\n",
              "      box-shadow: 0px 1px 3px 1px rgba(0, 0, 0, 0.15);\n",
              "      filter: drop-shadow(0px 1px 2px rgba(0, 0, 0, 0.3));\n",
              "      fill: #FFFFFF;\n",
              "    }\n",
              "  </style>\n",
              "\n",
              "      <script>\n",
              "        const buttonEl =\n",
              "          document.querySelector('#df-0f63cf98-7526-455d-a60e-aa047b96a5da button.colab-df-convert');\n",
              "        buttonEl.style.display =\n",
              "          google.colab.kernel.accessAllowed ? 'block' : 'none';\n",
              "\n",
              "        async function convertToInteractive(key) {\n",
              "          const element = document.querySelector('#df-0f63cf98-7526-455d-a60e-aa047b96a5da');\n",
              "          const dataTable =\n",
              "            await google.colab.kernel.invokeFunction('convertToInteractive',\n",
              "                                                     [key], {});\n",
              "          if (!dataTable) return;\n",
              "\n",
              "          const docLinkHtml = 'Like what you see? Visit the ' +\n",
              "            '<a target=\"_blank\" href=https://colab.research.google.com/notebooks/data_table.ipynb>data table notebook</a>'\n",
              "            + ' to learn more about interactive tables.';\n",
              "          element.innerHTML = '';\n",
              "          dataTable['output_type'] = 'display_data';\n",
              "          await google.colab.output.renderOutput(dataTable, element);\n",
              "          const docLink = document.createElement('div');\n",
              "          docLink.innerHTML = docLinkHtml;\n",
              "          element.appendChild(docLink);\n",
              "        }\n",
              "      </script>\n",
              "    </div>\n",
              "  </div>\n",
              "  "
            ],
            "text/plain": [
              "                                  score_rating\n",
              "player_name                                   \n",
              "Antonio Jesús Regal Angulo            0.005870\n",
              "Anuar Mohamed Tuhami                  0.010834\n",
              "Daniele Verde                         0.018870\n",
              "Enes Ünal                             0.019937\n",
              "Fernando Calero Villa                 0.012161\n",
              "Francisco José Olivas Alba            0.011889\n",
              "Joaquín Fernández Moreno              0.005598\n",
              "Jordi Masip López                     0.004501\n",
              "José Ignacio Martínez García          0.019662\n",
              "Laureano Antonio Villa Suárez         0.004807\n",
              "Miguel Alfonso Herrero Javaloyas      0.013617\n",
              "Sergio Gontán Gallardo                0.006539\n",
              "Sergio Guardiola Navarro              0.021387\n",
              "Stiven Ricardo Plaza Castillo         0.012188"
            ]
          },
          "metadata": {},
          "execution_count": 56
        }
      ]
    },
    {
      "cell_type": "code",
      "source": [
        "concede_ratings_barca"
      ],
      "metadata": {
        "colab": {
          "base_uri": "https://localhost:8080/",
          "height": 514
        },
        "id": "ThPq9dd-ZxI1",
        "outputId": "630fcc1a-b0d0-4401-d421-a5061bed2a8c"
      },
      "execution_count": null,
      "outputs": [
        {
          "output_type": "execute_result",
          "data": {
            "text/html": [
              "\n",
              "  <div id=\"df-ed06ba53-6093-4a4e-9bba-790800d1f21a\">\n",
              "    <div class=\"colab-df-container\">\n",
              "      <div>\n",
              "<style scoped>\n",
              "    .dataframe tbody tr th:only-of-type {\n",
              "        vertical-align: middle;\n",
              "    }\n",
              "\n",
              "    .dataframe tbody tr th {\n",
              "        vertical-align: top;\n",
              "    }\n",
              "\n",
              "    .dataframe thead th {\n",
              "        text-align: right;\n",
              "    }\n",
              "</style>\n",
              "<table border=\"1\" class=\"dataframe\">\n",
              "  <thead>\n",
              "    <tr style=\"text-align: right;\">\n",
              "      <th></th>\n",
              "      <th>concede_rating</th>\n",
              "    </tr>\n",
              "    <tr>\n",
              "      <th>player_name</th>\n",
              "      <th></th>\n",
              "    </tr>\n",
              "  </thead>\n",
              "  <tbody>\n",
              "    <tr>\n",
              "      <th>Arturo Erasmo Vidal Pardo</th>\n",
              "      <td>0.000506</td>\n",
              "    </tr>\n",
              "    <tr>\n",
              "      <th>Carles Aleña Castillo</th>\n",
              "      <td>0.000332</td>\n",
              "    </tr>\n",
              "    <tr>\n",
              "      <th>Gerard Piqué Bernabéu</th>\n",
              "      <td>0.007244</td>\n",
              "    </tr>\n",
              "    <tr>\n",
              "      <th>Ivan Rakitić</th>\n",
              "      <td>0.003201</td>\n",
              "    </tr>\n",
              "    <tr>\n",
              "      <th>Jordi Alba Ramos</th>\n",
              "      <td>0.000065</td>\n",
              "    </tr>\n",
              "    <tr>\n",
              "      <th>Kevin-Prince Boateng</th>\n",
              "      <td>0.001368</td>\n",
              "    </tr>\n",
              "    <tr>\n",
              "      <th>Lionel Andrés Messi Cuccittini</th>\n",
              "      <td>0.000167</td>\n",
              "    </tr>\n",
              "    <tr>\n",
              "      <th>Luis Alberto Suárez Díaz</th>\n",
              "      <td>0.000852</td>\n",
              "    </tr>\n",
              "    <tr>\n",
              "      <th>Marc-André ter Stegen</th>\n",
              "      <td>0.006026</td>\n",
              "    </tr>\n",
              "    <tr>\n",
              "      <th>Ousmane Dembélé</th>\n",
              "      <td>0.000020</td>\n",
              "    </tr>\n",
              "    <tr>\n",
              "      <th>Philippe Coutinho Correia</th>\n",
              "      <td>0.000021</td>\n",
              "    </tr>\n",
              "    <tr>\n",
              "      <th>Sergi Roberto Carnicer</th>\n",
              "      <td>0.004899</td>\n",
              "    </tr>\n",
              "    <tr>\n",
              "      <th>Sergio Busquets i Burgos</th>\n",
              "      <td>0.001410</td>\n",
              "    </tr>\n",
              "    <tr>\n",
              "      <th>Thomas Vermaelen</th>\n",
              "      <td>0.000417</td>\n",
              "    </tr>\n",
              "  </tbody>\n",
              "</table>\n",
              "</div>\n",
              "      <button class=\"colab-df-convert\" onclick=\"convertToInteractive('df-ed06ba53-6093-4a4e-9bba-790800d1f21a')\"\n",
              "              title=\"Convert this dataframe to an interactive table.\"\n",
              "              style=\"display:none;\">\n",
              "        \n",
              "  <svg xmlns=\"http://www.w3.org/2000/svg\" height=\"24px\"viewBox=\"0 0 24 24\"\n",
              "       width=\"24px\">\n",
              "    <path d=\"M0 0h24v24H0V0z\" fill=\"none\"/>\n",
              "    <path d=\"M18.56 5.44l.94 2.06.94-2.06 2.06-.94-2.06-.94-.94-2.06-.94 2.06-2.06.94zm-11 1L8.5 8.5l.94-2.06 2.06-.94-2.06-.94L8.5 2.5l-.94 2.06-2.06.94zm10 10l.94 2.06.94-2.06 2.06-.94-2.06-.94-.94-2.06-.94 2.06-2.06.94z\"/><path d=\"M17.41 7.96l-1.37-1.37c-.4-.4-.92-.59-1.43-.59-.52 0-1.04.2-1.43.59L10.3 9.45l-7.72 7.72c-.78.78-.78 2.05 0 2.83L4 21.41c.39.39.9.59 1.41.59.51 0 1.02-.2 1.41-.59l7.78-7.78 2.81-2.81c.8-.78.8-2.07 0-2.86zM5.41 20L4 18.59l7.72-7.72 1.47 1.35L5.41 20z\"/>\n",
              "  </svg>\n",
              "      </button>\n",
              "      \n",
              "  <style>\n",
              "    .colab-df-container {\n",
              "      display:flex;\n",
              "      flex-wrap:wrap;\n",
              "      gap: 12px;\n",
              "    }\n",
              "\n",
              "    .colab-df-convert {\n",
              "      background-color: #E8F0FE;\n",
              "      border: none;\n",
              "      border-radius: 50%;\n",
              "      cursor: pointer;\n",
              "      display: none;\n",
              "      fill: #1967D2;\n",
              "      height: 32px;\n",
              "      padding: 0 0 0 0;\n",
              "      width: 32px;\n",
              "    }\n",
              "\n",
              "    .colab-df-convert:hover {\n",
              "      background-color: #E2EBFA;\n",
              "      box-shadow: 0px 1px 2px rgba(60, 64, 67, 0.3), 0px 1px 3px 1px rgba(60, 64, 67, 0.15);\n",
              "      fill: #174EA6;\n",
              "    }\n",
              "\n",
              "    [theme=dark] .colab-df-convert {\n",
              "      background-color: #3B4455;\n",
              "      fill: #D2E3FC;\n",
              "    }\n",
              "\n",
              "    [theme=dark] .colab-df-convert:hover {\n",
              "      background-color: #434B5C;\n",
              "      box-shadow: 0px 1px 3px 1px rgba(0, 0, 0, 0.15);\n",
              "      filter: drop-shadow(0px 1px 2px rgba(0, 0, 0, 0.3));\n",
              "      fill: #FFFFFF;\n",
              "    }\n",
              "  </style>\n",
              "\n",
              "      <script>\n",
              "        const buttonEl =\n",
              "          document.querySelector('#df-ed06ba53-6093-4a4e-9bba-790800d1f21a button.colab-df-convert');\n",
              "        buttonEl.style.display =\n",
              "          google.colab.kernel.accessAllowed ? 'block' : 'none';\n",
              "\n",
              "        async function convertToInteractive(key) {\n",
              "          const element = document.querySelector('#df-ed06ba53-6093-4a4e-9bba-790800d1f21a');\n",
              "          const dataTable =\n",
              "            await google.colab.kernel.invokeFunction('convertToInteractive',\n",
              "                                                     [key], {});\n",
              "          if (!dataTable) return;\n",
              "\n",
              "          const docLinkHtml = 'Like what you see? Visit the ' +\n",
              "            '<a target=\"_blank\" href=https://colab.research.google.com/notebooks/data_table.ipynb>data table notebook</a>'\n",
              "            + ' to learn more about interactive tables.';\n",
              "          element.innerHTML = '';\n",
              "          dataTable['output_type'] = 'display_data';\n",
              "          await google.colab.output.renderOutput(dataTable, element);\n",
              "          const docLink = document.createElement('div');\n",
              "          docLink.innerHTML = docLinkHtml;\n",
              "          element.appendChild(docLink);\n",
              "        }\n",
              "      </script>\n",
              "    </div>\n",
              "  </div>\n",
              "  "
            ],
            "text/plain": [
              "                                concede_rating\n",
              "player_name                                   \n",
              "Arturo Erasmo Vidal Pardo             0.000506\n",
              "Carles Aleña Castillo                 0.000332\n",
              "Gerard Piqué Bernabéu                 0.007244\n",
              "Ivan Rakitić                          0.003201\n",
              "Jordi Alba Ramos                      0.000065\n",
              "Kevin-Prince Boateng                  0.001368\n",
              "Lionel Andrés Messi Cuccittini        0.000167\n",
              "Luis Alberto Suárez Díaz              0.000852\n",
              "Marc-André ter Stegen                 0.006026\n",
              "Ousmane Dembélé                       0.000020\n",
              "Philippe Coutinho Correia             0.000021\n",
              "Sergi Roberto Carnicer                0.004899\n",
              "Sergio Busquets i Burgos              0.001410\n",
              "Thomas Vermaelen                      0.000417"
            ]
          },
          "metadata": {},
          "execution_count": 57
        }
      ]
    },
    {
      "cell_type": "code",
      "source": [
        "concede_ratings_valladolid"
      ],
      "metadata": {
        "colab": {
          "base_uri": "https://localhost:8080/",
          "height": 514
        },
        "id": "0-CcXoy3Z1v-",
        "outputId": "47f8816c-8fe9-4d69-9742-3163176674f0"
      },
      "execution_count": null,
      "outputs": [
        {
          "output_type": "execute_result",
          "data": {
            "text/html": [
              "\n",
              "  <div id=\"df-4fb95e15-fcb1-4a9b-8dc7-dcfc22ee18fc\">\n",
              "    <div class=\"colab-df-container\">\n",
              "      <div>\n",
              "<style scoped>\n",
              "    .dataframe tbody tr th:only-of-type {\n",
              "        vertical-align: middle;\n",
              "    }\n",
              "\n",
              "    .dataframe tbody tr th {\n",
              "        vertical-align: top;\n",
              "    }\n",
              "\n",
              "    .dataframe thead th {\n",
              "        text-align: right;\n",
              "    }\n",
              "</style>\n",
              "<table border=\"1\" class=\"dataframe\">\n",
              "  <thead>\n",
              "    <tr style=\"text-align: right;\">\n",
              "      <th></th>\n",
              "      <th>concede_rating</th>\n",
              "    </tr>\n",
              "    <tr>\n",
              "      <th>player_name</th>\n",
              "      <th></th>\n",
              "    </tr>\n",
              "  </thead>\n",
              "  <tbody>\n",
              "    <tr>\n",
              "      <th>Antonio Jesús Regal Angulo</th>\n",
              "      <td>0.000096</td>\n",
              "    </tr>\n",
              "    <tr>\n",
              "      <th>Anuar Mohamed Tuhami</th>\n",
              "      <td>0.000898</td>\n",
              "    </tr>\n",
              "    <tr>\n",
              "      <th>Daniele Verde</th>\n",
              "      <td>0.005623</td>\n",
              "    </tr>\n",
              "    <tr>\n",
              "      <th>Enes Ünal</th>\n",
              "      <td>0.002497</td>\n",
              "    </tr>\n",
              "    <tr>\n",
              "      <th>Fernando Calero Villa</th>\n",
              "      <td>0.001273</td>\n",
              "    </tr>\n",
              "    <tr>\n",
              "      <th>Francisco José Olivas Alba</th>\n",
              "      <td>0.000067</td>\n",
              "    </tr>\n",
              "    <tr>\n",
              "      <th>Joaquín Fernández Moreno</th>\n",
              "      <td>0.000122</td>\n",
              "    </tr>\n",
              "    <tr>\n",
              "      <th>Jordi Masip López</th>\n",
              "      <td>0.000006</td>\n",
              "    </tr>\n",
              "    <tr>\n",
              "      <th>José Ignacio Martínez García</th>\n",
              "      <td>0.007172</td>\n",
              "    </tr>\n",
              "    <tr>\n",
              "      <th>Laureano Antonio Villa Suárez</th>\n",
              "      <td>0.000015</td>\n",
              "    </tr>\n",
              "    <tr>\n",
              "      <th>Miguel Alfonso Herrero Javaloyas</th>\n",
              "      <td>0.001064</td>\n",
              "    </tr>\n",
              "    <tr>\n",
              "      <th>Sergio Gontán Gallardo</th>\n",
              "      <td>0.000153</td>\n",
              "    </tr>\n",
              "    <tr>\n",
              "      <th>Sergio Guardiola Navarro</th>\n",
              "      <td>0.012939</td>\n",
              "    </tr>\n",
              "    <tr>\n",
              "      <th>Stiven Ricardo Plaza Castillo</th>\n",
              "      <td>0.000704</td>\n",
              "    </tr>\n",
              "  </tbody>\n",
              "</table>\n",
              "</div>\n",
              "      <button class=\"colab-df-convert\" onclick=\"convertToInteractive('df-4fb95e15-fcb1-4a9b-8dc7-dcfc22ee18fc')\"\n",
              "              title=\"Convert this dataframe to an interactive table.\"\n",
              "              style=\"display:none;\">\n",
              "        \n",
              "  <svg xmlns=\"http://www.w3.org/2000/svg\" height=\"24px\"viewBox=\"0 0 24 24\"\n",
              "       width=\"24px\">\n",
              "    <path d=\"M0 0h24v24H0V0z\" fill=\"none\"/>\n",
              "    <path d=\"M18.56 5.44l.94 2.06.94-2.06 2.06-.94-2.06-.94-.94-2.06-.94 2.06-2.06.94zm-11 1L8.5 8.5l.94-2.06 2.06-.94-2.06-.94L8.5 2.5l-.94 2.06-2.06.94zm10 10l.94 2.06.94-2.06 2.06-.94-2.06-.94-.94-2.06-.94 2.06-2.06.94z\"/><path d=\"M17.41 7.96l-1.37-1.37c-.4-.4-.92-.59-1.43-.59-.52 0-1.04.2-1.43.59L10.3 9.45l-7.72 7.72c-.78.78-.78 2.05 0 2.83L4 21.41c.39.39.9.59 1.41.59.51 0 1.02-.2 1.41-.59l7.78-7.78 2.81-2.81c.8-.78.8-2.07 0-2.86zM5.41 20L4 18.59l7.72-7.72 1.47 1.35L5.41 20z\"/>\n",
              "  </svg>\n",
              "      </button>\n",
              "      \n",
              "  <style>\n",
              "    .colab-df-container {\n",
              "      display:flex;\n",
              "      flex-wrap:wrap;\n",
              "      gap: 12px;\n",
              "    }\n",
              "\n",
              "    .colab-df-convert {\n",
              "      background-color: #E8F0FE;\n",
              "      border: none;\n",
              "      border-radius: 50%;\n",
              "      cursor: pointer;\n",
              "      display: none;\n",
              "      fill: #1967D2;\n",
              "      height: 32px;\n",
              "      padding: 0 0 0 0;\n",
              "      width: 32px;\n",
              "    }\n",
              "\n",
              "    .colab-df-convert:hover {\n",
              "      background-color: #E2EBFA;\n",
              "      box-shadow: 0px 1px 2px rgba(60, 64, 67, 0.3), 0px 1px 3px 1px rgba(60, 64, 67, 0.15);\n",
              "      fill: #174EA6;\n",
              "    }\n",
              "\n",
              "    [theme=dark] .colab-df-convert {\n",
              "      background-color: #3B4455;\n",
              "      fill: #D2E3FC;\n",
              "    }\n",
              "\n",
              "    [theme=dark] .colab-df-convert:hover {\n",
              "      background-color: #434B5C;\n",
              "      box-shadow: 0px 1px 3px 1px rgba(0, 0, 0, 0.15);\n",
              "      filter: drop-shadow(0px 1px 2px rgba(0, 0, 0, 0.3));\n",
              "      fill: #FFFFFF;\n",
              "    }\n",
              "  </style>\n",
              "\n",
              "      <script>\n",
              "        const buttonEl =\n",
              "          document.querySelector('#df-4fb95e15-fcb1-4a9b-8dc7-dcfc22ee18fc button.colab-df-convert');\n",
              "        buttonEl.style.display =\n",
              "          google.colab.kernel.accessAllowed ? 'block' : 'none';\n",
              "\n",
              "        async function convertToInteractive(key) {\n",
              "          const element = document.querySelector('#df-4fb95e15-fcb1-4a9b-8dc7-dcfc22ee18fc');\n",
              "          const dataTable =\n",
              "            await google.colab.kernel.invokeFunction('convertToInteractive',\n",
              "                                                     [key], {});\n",
              "          if (!dataTable) return;\n",
              "\n",
              "          const docLinkHtml = 'Like what you see? Visit the ' +\n",
              "            '<a target=\"_blank\" href=https://colab.research.google.com/notebooks/data_table.ipynb>data table notebook</a>'\n",
              "            + ' to learn more about interactive tables.';\n",
              "          element.innerHTML = '';\n",
              "          dataTable['output_type'] = 'display_data';\n",
              "          await google.colab.output.renderOutput(dataTable, element);\n",
              "          const docLink = document.createElement('div');\n",
              "          docLink.innerHTML = docLinkHtml;\n",
              "          element.appendChild(docLink);\n",
              "        }\n",
              "      </script>\n",
              "    </div>\n",
              "  </div>\n",
              "  "
            ],
            "text/plain": [
              "                                  concede_rating\n",
              "player_name                                     \n",
              "Antonio Jesús Regal Angulo              0.000096\n",
              "Anuar Mohamed Tuhami                    0.000898\n",
              "Daniele Verde                           0.005623\n",
              "Enes Ünal                               0.002497\n",
              "Fernando Calero Villa                   0.001273\n",
              "Francisco José Olivas Alba              0.000067\n",
              "Joaquín Fernández Moreno                0.000122\n",
              "Jordi Masip López                       0.000006\n",
              "José Ignacio Martínez García            0.007172\n",
              "Laureano Antonio Villa Suárez           0.000015\n",
              "Miguel Alfonso Herrero Javaloyas        0.001064\n",
              "Sergio Gontán Gallardo                  0.000153\n",
              "Sergio Guardiola Navarro                0.012939\n",
              "Stiven Ricardo Plaza Castillo           0.000704"
            ]
          },
          "metadata": {},
          "execution_count": 58
        }
      ]
    },
    {
      "cell_type": "code",
      "source": [
        "ratings_barca"
      ],
      "metadata": {
        "colab": {
          "base_uri": "https://localhost:8080/",
          "height": 514
        },
        "id": "GM-U7fwVZ48f",
        "outputId": "09b3ee5a-afae-4824-8f22-7cc06e4dd601"
      },
      "execution_count": null,
      "outputs": [
        {
          "output_type": "execute_result",
          "data": {
            "text/html": [
              "\n",
              "  <div id=\"df-7e427e59-14ae-4500-ba48-de03cef420b0\">\n",
              "    <div class=\"colab-df-container\">\n",
              "      <div>\n",
              "<style scoped>\n",
              "    .dataframe tbody tr th:only-of-type {\n",
              "        vertical-align: middle;\n",
              "    }\n",
              "\n",
              "    .dataframe tbody tr th {\n",
              "        vertical-align: top;\n",
              "    }\n",
              "\n",
              "    .dataframe thead th {\n",
              "        text-align: right;\n",
              "    }\n",
              "</style>\n",
              "<table border=\"1\" class=\"dataframe\">\n",
              "  <thead>\n",
              "    <tr style=\"text-align: right;\">\n",
              "      <th></th>\n",
              "      <th>rating</th>\n",
              "    </tr>\n",
              "    <tr>\n",
              "      <th>player_name</th>\n",
              "      <th></th>\n",
              "    </tr>\n",
              "  </thead>\n",
              "  <tbody>\n",
              "    <tr>\n",
              "      <th>Arturo Erasmo Vidal Pardo</th>\n",
              "      <td>0.015137</td>\n",
              "    </tr>\n",
              "    <tr>\n",
              "      <th>Carles Aleña Castillo</th>\n",
              "      <td>0.011254</td>\n",
              "    </tr>\n",
              "    <tr>\n",
              "      <th>Gerard Piqué Bernabéu</th>\n",
              "      <td>0.022652</td>\n",
              "    </tr>\n",
              "    <tr>\n",
              "      <th>Ivan Rakitić</th>\n",
              "      <td>0.014182</td>\n",
              "    </tr>\n",
              "    <tr>\n",
              "      <th>Jordi Alba Ramos</th>\n",
              "      <td>0.004235</td>\n",
              "    </tr>\n",
              "    <tr>\n",
              "      <th>Kevin-Prince Boateng</th>\n",
              "      <td>0.008337</td>\n",
              "    </tr>\n",
              "    <tr>\n",
              "      <th>Lionel Andrés Messi Cuccittini</th>\n",
              "      <td>0.013648</td>\n",
              "    </tr>\n",
              "    <tr>\n",
              "      <th>Luis Alberto Suárez Díaz</th>\n",
              "      <td>0.010873</td>\n",
              "    </tr>\n",
              "    <tr>\n",
              "      <th>Marc-André ter Stegen</th>\n",
              "      <td>0.020992</td>\n",
              "    </tr>\n",
              "    <tr>\n",
              "      <th>Ousmane Dembélé</th>\n",
              "      <td>0.006017</td>\n",
              "    </tr>\n",
              "    <tr>\n",
              "      <th>Philippe Coutinho Correia</th>\n",
              "      <td>0.009404</td>\n",
              "    </tr>\n",
              "    <tr>\n",
              "      <th>Sergi Roberto Carnicer</th>\n",
              "      <td>0.015386</td>\n",
              "    </tr>\n",
              "    <tr>\n",
              "      <th>Sergio Busquets i Burgos</th>\n",
              "      <td>0.016861</td>\n",
              "    </tr>\n",
              "    <tr>\n",
              "      <th>Thomas Vermaelen</th>\n",
              "      <td>0.008980</td>\n",
              "    </tr>\n",
              "  </tbody>\n",
              "</table>\n",
              "</div>\n",
              "      <button class=\"colab-df-convert\" onclick=\"convertToInteractive('df-7e427e59-14ae-4500-ba48-de03cef420b0')\"\n",
              "              title=\"Convert this dataframe to an interactive table.\"\n",
              "              style=\"display:none;\">\n",
              "        \n",
              "  <svg xmlns=\"http://www.w3.org/2000/svg\" height=\"24px\"viewBox=\"0 0 24 24\"\n",
              "       width=\"24px\">\n",
              "    <path d=\"M0 0h24v24H0V0z\" fill=\"none\"/>\n",
              "    <path d=\"M18.56 5.44l.94 2.06.94-2.06 2.06-.94-2.06-.94-.94-2.06-.94 2.06-2.06.94zm-11 1L8.5 8.5l.94-2.06 2.06-.94-2.06-.94L8.5 2.5l-.94 2.06-2.06.94zm10 10l.94 2.06.94-2.06 2.06-.94-2.06-.94-.94-2.06-.94 2.06-2.06.94z\"/><path d=\"M17.41 7.96l-1.37-1.37c-.4-.4-.92-.59-1.43-.59-.52 0-1.04.2-1.43.59L10.3 9.45l-7.72 7.72c-.78.78-.78 2.05 0 2.83L4 21.41c.39.39.9.59 1.41.59.51 0 1.02-.2 1.41-.59l7.78-7.78 2.81-2.81c.8-.78.8-2.07 0-2.86zM5.41 20L4 18.59l7.72-7.72 1.47 1.35L5.41 20z\"/>\n",
              "  </svg>\n",
              "      </button>\n",
              "      \n",
              "  <style>\n",
              "    .colab-df-container {\n",
              "      display:flex;\n",
              "      flex-wrap:wrap;\n",
              "      gap: 12px;\n",
              "    }\n",
              "\n",
              "    .colab-df-convert {\n",
              "      background-color: #E8F0FE;\n",
              "      border: none;\n",
              "      border-radius: 50%;\n",
              "      cursor: pointer;\n",
              "      display: none;\n",
              "      fill: #1967D2;\n",
              "      height: 32px;\n",
              "      padding: 0 0 0 0;\n",
              "      width: 32px;\n",
              "    }\n",
              "\n",
              "    .colab-df-convert:hover {\n",
              "      background-color: #E2EBFA;\n",
              "      box-shadow: 0px 1px 2px rgba(60, 64, 67, 0.3), 0px 1px 3px 1px rgba(60, 64, 67, 0.15);\n",
              "      fill: #174EA6;\n",
              "    }\n",
              "\n",
              "    [theme=dark] .colab-df-convert {\n",
              "      background-color: #3B4455;\n",
              "      fill: #D2E3FC;\n",
              "    }\n",
              "\n",
              "    [theme=dark] .colab-df-convert:hover {\n",
              "      background-color: #434B5C;\n",
              "      box-shadow: 0px 1px 3px 1px rgba(0, 0, 0, 0.15);\n",
              "      filter: drop-shadow(0px 1px 2px rgba(0, 0, 0, 0.3));\n",
              "      fill: #FFFFFF;\n",
              "    }\n",
              "  </style>\n",
              "\n",
              "      <script>\n",
              "        const buttonEl =\n",
              "          document.querySelector('#df-7e427e59-14ae-4500-ba48-de03cef420b0 button.colab-df-convert');\n",
              "        buttonEl.style.display =\n",
              "          google.colab.kernel.accessAllowed ? 'block' : 'none';\n",
              "\n",
              "        async function convertToInteractive(key) {\n",
              "          const element = document.querySelector('#df-7e427e59-14ae-4500-ba48-de03cef420b0');\n",
              "          const dataTable =\n",
              "            await google.colab.kernel.invokeFunction('convertToInteractive',\n",
              "                                                     [key], {});\n",
              "          if (!dataTable) return;\n",
              "\n",
              "          const docLinkHtml = 'Like what you see? Visit the ' +\n",
              "            '<a target=\"_blank\" href=https://colab.research.google.com/notebooks/data_table.ipynb>data table notebook</a>'\n",
              "            + ' to learn more about interactive tables.';\n",
              "          element.innerHTML = '';\n",
              "          dataTable['output_type'] = 'display_data';\n",
              "          await google.colab.output.renderOutput(dataTable, element);\n",
              "          const docLink = document.createElement('div');\n",
              "          docLink.innerHTML = docLinkHtml;\n",
              "          element.appendChild(docLink);\n",
              "        }\n",
              "      </script>\n",
              "    </div>\n",
              "  </div>\n",
              "  "
            ],
            "text/plain": [
              "                                  rating\n",
              "player_name                             \n",
              "Arturo Erasmo Vidal Pardo       0.015137\n",
              "Carles Aleña Castillo           0.011254\n",
              "Gerard Piqué Bernabéu           0.022652\n",
              "Ivan Rakitić                    0.014182\n",
              "Jordi Alba Ramos                0.004235\n",
              "Kevin-Prince Boateng            0.008337\n",
              "Lionel Andrés Messi Cuccittini  0.013648\n",
              "Luis Alberto Suárez Díaz        0.010873\n",
              "Marc-André ter Stegen           0.020992\n",
              "Ousmane Dembélé                 0.006017\n",
              "Philippe Coutinho Correia       0.009404\n",
              "Sergi Roberto Carnicer          0.015386\n",
              "Sergio Busquets i Burgos        0.016861\n",
              "Thomas Vermaelen                0.008980"
            ]
          },
          "metadata": {},
          "execution_count": 29
        }
      ]
    },
    {
      "cell_type": "code",
      "source": [
        "ratings_valladolid"
      ],
      "metadata": {
        "colab": {
          "base_uri": "https://localhost:8080/",
          "height": 514
        },
        "id": "8NMP8Ge0Z5Hi",
        "outputId": "e210979c-5f68-42b8-da6f-03dc53a134d4"
      },
      "execution_count": null,
      "outputs": [
        {
          "output_type": "execute_result",
          "data": {
            "text/html": [
              "\n",
              "  <div id=\"df-71e10ee0-f066-4e85-a4e8-9519c609cceb\">\n",
              "    <div class=\"colab-df-container\">\n",
              "      <div>\n",
              "<style scoped>\n",
              "    .dataframe tbody tr th:only-of-type {\n",
              "        vertical-align: middle;\n",
              "    }\n",
              "\n",
              "    .dataframe tbody tr th {\n",
              "        vertical-align: top;\n",
              "    }\n",
              "\n",
              "    .dataframe thead th {\n",
              "        text-align: right;\n",
              "    }\n",
              "</style>\n",
              "<table border=\"1\" class=\"dataframe\">\n",
              "  <thead>\n",
              "    <tr style=\"text-align: right;\">\n",
              "      <th></th>\n",
              "      <th>rating</th>\n",
              "    </tr>\n",
              "    <tr>\n",
              "      <th>player_name</th>\n",
              "      <th></th>\n",
              "    </tr>\n",
              "  </thead>\n",
              "  <tbody>\n",
              "    <tr>\n",
              "      <th>Antonio Jesús Regal Angulo</th>\n",
              "      <td>0.005774</td>\n",
              "    </tr>\n",
              "    <tr>\n",
              "      <th>Anuar Mohamed Tuhami</th>\n",
              "      <td>0.009936</td>\n",
              "    </tr>\n",
              "    <tr>\n",
              "      <th>Daniele Verde</th>\n",
              "      <td>0.013247</td>\n",
              "    </tr>\n",
              "    <tr>\n",
              "      <th>Enes Ünal</th>\n",
              "      <td>0.017440</td>\n",
              "    </tr>\n",
              "    <tr>\n",
              "      <th>Fernando Calero Villa</th>\n",
              "      <td>0.010888</td>\n",
              "    </tr>\n",
              "    <tr>\n",
              "      <th>Francisco José Olivas Alba</th>\n",
              "      <td>0.011822</td>\n",
              "    </tr>\n",
              "    <tr>\n",
              "      <th>Joaquín Fernández Moreno</th>\n",
              "      <td>0.005476</td>\n",
              "    </tr>\n",
              "    <tr>\n",
              "      <th>Jordi Masip López</th>\n",
              "      <td>0.004495</td>\n",
              "    </tr>\n",
              "    <tr>\n",
              "      <th>José Ignacio Martínez García</th>\n",
              "      <td>0.012490</td>\n",
              "    </tr>\n",
              "    <tr>\n",
              "      <th>Laureano Antonio Villa Suárez</th>\n",
              "      <td>0.004792</td>\n",
              "    </tr>\n",
              "    <tr>\n",
              "      <th>Miguel Alfonso Herrero Javaloyas</th>\n",
              "      <td>0.012554</td>\n",
              "    </tr>\n",
              "    <tr>\n",
              "      <th>Sergio Gontán Gallardo</th>\n",
              "      <td>0.006387</td>\n",
              "    </tr>\n",
              "    <tr>\n",
              "      <th>Sergio Guardiola Navarro</th>\n",
              "      <td>0.008448</td>\n",
              "    </tr>\n",
              "    <tr>\n",
              "      <th>Stiven Ricardo Plaza Castillo</th>\n",
              "      <td>0.011485</td>\n",
              "    </tr>\n",
              "  </tbody>\n",
              "</table>\n",
              "</div>\n",
              "      <button class=\"colab-df-convert\" onclick=\"convertToInteractive('df-71e10ee0-f066-4e85-a4e8-9519c609cceb')\"\n",
              "              title=\"Convert this dataframe to an interactive table.\"\n",
              "              style=\"display:none;\">\n",
              "        \n",
              "  <svg xmlns=\"http://www.w3.org/2000/svg\" height=\"24px\"viewBox=\"0 0 24 24\"\n",
              "       width=\"24px\">\n",
              "    <path d=\"M0 0h24v24H0V0z\" fill=\"none\"/>\n",
              "    <path d=\"M18.56 5.44l.94 2.06.94-2.06 2.06-.94-2.06-.94-.94-2.06-.94 2.06-2.06.94zm-11 1L8.5 8.5l.94-2.06 2.06-.94-2.06-.94L8.5 2.5l-.94 2.06-2.06.94zm10 10l.94 2.06.94-2.06 2.06-.94-2.06-.94-.94-2.06-.94 2.06-2.06.94z\"/><path d=\"M17.41 7.96l-1.37-1.37c-.4-.4-.92-.59-1.43-.59-.52 0-1.04.2-1.43.59L10.3 9.45l-7.72 7.72c-.78.78-.78 2.05 0 2.83L4 21.41c.39.39.9.59 1.41.59.51 0 1.02-.2 1.41-.59l7.78-7.78 2.81-2.81c.8-.78.8-2.07 0-2.86zM5.41 20L4 18.59l7.72-7.72 1.47 1.35L5.41 20z\"/>\n",
              "  </svg>\n",
              "      </button>\n",
              "      \n",
              "  <style>\n",
              "    .colab-df-container {\n",
              "      display:flex;\n",
              "      flex-wrap:wrap;\n",
              "      gap: 12px;\n",
              "    }\n",
              "\n",
              "    .colab-df-convert {\n",
              "      background-color: #E8F0FE;\n",
              "      border: none;\n",
              "      border-radius: 50%;\n",
              "      cursor: pointer;\n",
              "      display: none;\n",
              "      fill: #1967D2;\n",
              "      height: 32px;\n",
              "      padding: 0 0 0 0;\n",
              "      width: 32px;\n",
              "    }\n",
              "\n",
              "    .colab-df-convert:hover {\n",
              "      background-color: #E2EBFA;\n",
              "      box-shadow: 0px 1px 2px rgba(60, 64, 67, 0.3), 0px 1px 3px 1px rgba(60, 64, 67, 0.15);\n",
              "      fill: #174EA6;\n",
              "    }\n",
              "\n",
              "    [theme=dark] .colab-df-convert {\n",
              "      background-color: #3B4455;\n",
              "      fill: #D2E3FC;\n",
              "    }\n",
              "\n",
              "    [theme=dark] .colab-df-convert:hover {\n",
              "      background-color: #434B5C;\n",
              "      box-shadow: 0px 1px 3px 1px rgba(0, 0, 0, 0.15);\n",
              "      filter: drop-shadow(0px 1px 2px rgba(0, 0, 0, 0.3));\n",
              "      fill: #FFFFFF;\n",
              "    }\n",
              "  </style>\n",
              "\n",
              "      <script>\n",
              "        const buttonEl =\n",
              "          document.querySelector('#df-71e10ee0-f066-4e85-a4e8-9519c609cceb button.colab-df-convert');\n",
              "        buttonEl.style.display =\n",
              "          google.colab.kernel.accessAllowed ? 'block' : 'none';\n",
              "\n",
              "        async function convertToInteractive(key) {\n",
              "          const element = document.querySelector('#df-71e10ee0-f066-4e85-a4e8-9519c609cceb');\n",
              "          const dataTable =\n",
              "            await google.colab.kernel.invokeFunction('convertToInteractive',\n",
              "                                                     [key], {});\n",
              "          if (!dataTable) return;\n",
              "\n",
              "          const docLinkHtml = 'Like what you see? Visit the ' +\n",
              "            '<a target=\"_blank\" href=https://colab.research.google.com/notebooks/data_table.ipynb>data table notebook</a>'\n",
              "            + ' to learn more about interactive tables.';\n",
              "          element.innerHTML = '';\n",
              "          dataTable['output_type'] = 'display_data';\n",
              "          await google.colab.output.renderOutput(dataTable, element);\n",
              "          const docLink = document.createElement('div');\n",
              "          docLink.innerHTML = docLinkHtml;\n",
              "          element.appendChild(docLink);\n",
              "        }\n",
              "      </script>\n",
              "    </div>\n",
              "  </div>\n",
              "  "
            ],
            "text/plain": [
              "                                    rating\n",
              "player_name                               \n",
              "Antonio Jesús Regal Angulo        0.005774\n",
              "Anuar Mohamed Tuhami              0.009936\n",
              "Daniele Verde                     0.013247\n",
              "Enes Ünal                         0.017440\n",
              "Fernando Calero Villa             0.010888\n",
              "Francisco José Olivas Alba        0.011822\n",
              "Joaquín Fernández Moreno          0.005476\n",
              "Jordi Masip López                 0.004495\n",
              "José Ignacio Martínez García      0.012490\n",
              "Laureano Antonio Villa Suárez     0.004792\n",
              "Miguel Alfonso Herrero Javaloyas  0.012554\n",
              "Sergio Gontán Gallardo            0.006387\n",
              "Sergio Guardiola Navarro          0.008448\n",
              "Stiven Ricardo Plaza Castillo     0.011485"
            ]
          },
          "metadata": {},
          "execution_count": 30
        }
      ]
    },
    {
      "cell_type": "code",
      "source": [
        "np.mean(pd.concat([ratings_barca, ratings_valladolid])[\"rating\"])"
      ],
      "metadata": {
        "colab": {
          "base_uri": "https://localhost:8080/"
        },
        "id": "3YkRIK-U0vsF",
        "outputId": "d7278f42-4369-481c-c6e5-c28d5894604e"
      },
      "execution_count": null,
      "outputs": [
        {
          "output_type": "execute_result",
          "data": {
            "text/plain": [
              "0.011185362935066223"
            ]
          },
          "metadata": {},
          "execution_count": 33
        }
      ]
    },
    {
      "cell_type": "code",
      "source": [
        "df_actions[\"player_name\"].value_counts()"
      ],
      "metadata": {
        "colab": {
          "base_uri": "https://localhost:8080/"
        },
        "id": "48O5esY5_25Y",
        "outputId": "f9a97fdb-71d9-4587-87f9-94b67c975a66"
      },
      "execution_count": null,
      "outputs": [
        {
          "output_type": "execute_result",
          "data": {
            "text/plain": [
              "Lionel Andrés Messi Cuccittini      203\n",
              "Gerard Piqué Bernabéu               177\n",
              "Carles Aleña Castillo               174\n",
              "Sergi Roberto Carnicer              162\n",
              "Arturo Erasmo Vidal Pardo           160\n",
              "Sergio Busquets i Burgos            156\n",
              "Jordi Alba Ramos                    150\n",
              "Miguel Alfonso Herrero Javaloyas    146\n",
              "Anuar Mohamed Tuhami                126\n",
              "José Ignacio Martínez García        112\n",
              "Ousmane Dembélé                     102\n",
              "Fernando Calero Villa                98\n",
              "Francisco José Olivas Alba           90\n",
              "Sergio Guardiola Navarro             89\n",
              "Thomas Vermaelen                     87\n",
              "Antonio Jesús Regal Angulo           87\n",
              "Joaquín Fernández Moreno             75\n",
              "Jordi Masip López                    65\n",
              "Daniele Verde                        65\n",
              "Marc-André ter Stegen                60\n",
              "Luis Alberto Suárez Díaz             50\n",
              "Enes Ünal                            42\n",
              "Kevin-Prince Boateng                 36\n",
              "Philippe Coutinho Correia            27\n",
              "Ivan Rakitić                         25\n",
              "Sergio Gontán Gallardo               19\n",
              "Laureano Antonio Villa Suárez         8\n",
              "Stiven Ricardo Plaza Castillo         4\n",
              "Name: player_name, dtype: int64"
            ]
          },
          "metadata": {},
          "execution_count": 35
        }
      ]
    },
    {
      "cell_type": "code",
      "source": [
        "actions_counts = df_actions[df_actions[\"team_id\"] == 217][\"player_name\"].value_counts().to_frame()"
      ],
      "metadata": {
        "id": "OdIkFOQL_9yo"
      },
      "execution_count": null,
      "outputs": []
    },
    {
      "cell_type": "code",
      "source": [
        "actions_counts.rename(columns={\"player_name\": \"actions_count\"}, inplace=True)"
      ],
      "metadata": {
        "id": "7EHv-kM5ELiN"
      },
      "execution_count": null,
      "outputs": []
    },
    {
      "cell_type": "code",
      "source": [
        "actions_counts"
      ],
      "metadata": {
        "colab": {
          "base_uri": "https://localhost:8080/",
          "height": 483
        },
        "id": "mQNpgl9dC-YJ",
        "outputId": "29e109a5-e30c-4e0b-b3da-02396eaa4b5f"
      },
      "execution_count": null,
      "outputs": [
        {
          "output_type": "execute_result",
          "data": {
            "text/html": [
              "\n",
              "  <div id=\"df-0ae8ad18-d7cf-4082-adf4-8669f5ad1a45\">\n",
              "    <div class=\"colab-df-container\">\n",
              "      <div>\n",
              "<style scoped>\n",
              "    .dataframe tbody tr th:only-of-type {\n",
              "        vertical-align: middle;\n",
              "    }\n",
              "\n",
              "    .dataframe tbody tr th {\n",
              "        vertical-align: top;\n",
              "    }\n",
              "\n",
              "    .dataframe thead th {\n",
              "        text-align: right;\n",
              "    }\n",
              "</style>\n",
              "<table border=\"1\" class=\"dataframe\">\n",
              "  <thead>\n",
              "    <tr style=\"text-align: right;\">\n",
              "      <th></th>\n",
              "      <th>actions_count</th>\n",
              "    </tr>\n",
              "  </thead>\n",
              "  <tbody>\n",
              "    <tr>\n",
              "      <th>Lionel Andrés Messi Cuccittini</th>\n",
              "      <td>203</td>\n",
              "    </tr>\n",
              "    <tr>\n",
              "      <th>Gerard Piqué Bernabéu</th>\n",
              "      <td>177</td>\n",
              "    </tr>\n",
              "    <tr>\n",
              "      <th>Carles Aleña Castillo</th>\n",
              "      <td>174</td>\n",
              "    </tr>\n",
              "    <tr>\n",
              "      <th>Sergi Roberto Carnicer</th>\n",
              "      <td>162</td>\n",
              "    </tr>\n",
              "    <tr>\n",
              "      <th>Arturo Erasmo Vidal Pardo</th>\n",
              "      <td>160</td>\n",
              "    </tr>\n",
              "    <tr>\n",
              "      <th>Sergio Busquets i Burgos</th>\n",
              "      <td>156</td>\n",
              "    </tr>\n",
              "    <tr>\n",
              "      <th>Jordi Alba Ramos</th>\n",
              "      <td>150</td>\n",
              "    </tr>\n",
              "    <tr>\n",
              "      <th>Ousmane Dembélé</th>\n",
              "      <td>102</td>\n",
              "    </tr>\n",
              "    <tr>\n",
              "      <th>Thomas Vermaelen</th>\n",
              "      <td>87</td>\n",
              "    </tr>\n",
              "    <tr>\n",
              "      <th>Marc-André ter Stegen</th>\n",
              "      <td>60</td>\n",
              "    </tr>\n",
              "    <tr>\n",
              "      <th>Luis Alberto Suárez Díaz</th>\n",
              "      <td>50</td>\n",
              "    </tr>\n",
              "    <tr>\n",
              "      <th>Kevin-Prince Boateng</th>\n",
              "      <td>36</td>\n",
              "    </tr>\n",
              "    <tr>\n",
              "      <th>Philippe Coutinho Correia</th>\n",
              "      <td>27</td>\n",
              "    </tr>\n",
              "    <tr>\n",
              "      <th>Ivan Rakitić</th>\n",
              "      <td>25</td>\n",
              "    </tr>\n",
              "  </tbody>\n",
              "</table>\n",
              "</div>\n",
              "      <button class=\"colab-df-convert\" onclick=\"convertToInteractive('df-0ae8ad18-d7cf-4082-adf4-8669f5ad1a45')\"\n",
              "              title=\"Convert this dataframe to an interactive table.\"\n",
              "              style=\"display:none;\">\n",
              "        \n",
              "  <svg xmlns=\"http://www.w3.org/2000/svg\" height=\"24px\"viewBox=\"0 0 24 24\"\n",
              "       width=\"24px\">\n",
              "    <path d=\"M0 0h24v24H0V0z\" fill=\"none\"/>\n",
              "    <path d=\"M18.56 5.44l.94 2.06.94-2.06 2.06-.94-2.06-.94-.94-2.06-.94 2.06-2.06.94zm-11 1L8.5 8.5l.94-2.06 2.06-.94-2.06-.94L8.5 2.5l-.94 2.06-2.06.94zm10 10l.94 2.06.94-2.06 2.06-.94-2.06-.94-.94-2.06-.94 2.06-2.06.94z\"/><path d=\"M17.41 7.96l-1.37-1.37c-.4-.4-.92-.59-1.43-.59-.52 0-1.04.2-1.43.59L10.3 9.45l-7.72 7.72c-.78.78-.78 2.05 0 2.83L4 21.41c.39.39.9.59 1.41.59.51 0 1.02-.2 1.41-.59l7.78-7.78 2.81-2.81c.8-.78.8-2.07 0-2.86zM5.41 20L4 18.59l7.72-7.72 1.47 1.35L5.41 20z\"/>\n",
              "  </svg>\n",
              "      </button>\n",
              "      \n",
              "  <style>\n",
              "    .colab-df-container {\n",
              "      display:flex;\n",
              "      flex-wrap:wrap;\n",
              "      gap: 12px;\n",
              "    }\n",
              "\n",
              "    .colab-df-convert {\n",
              "      background-color: #E8F0FE;\n",
              "      border: none;\n",
              "      border-radius: 50%;\n",
              "      cursor: pointer;\n",
              "      display: none;\n",
              "      fill: #1967D2;\n",
              "      height: 32px;\n",
              "      padding: 0 0 0 0;\n",
              "      width: 32px;\n",
              "    }\n",
              "\n",
              "    .colab-df-convert:hover {\n",
              "      background-color: #E2EBFA;\n",
              "      box-shadow: 0px 1px 2px rgba(60, 64, 67, 0.3), 0px 1px 3px 1px rgba(60, 64, 67, 0.15);\n",
              "      fill: #174EA6;\n",
              "    }\n",
              "\n",
              "    [theme=dark] .colab-df-convert {\n",
              "      background-color: #3B4455;\n",
              "      fill: #D2E3FC;\n",
              "    }\n",
              "\n",
              "    [theme=dark] .colab-df-convert:hover {\n",
              "      background-color: #434B5C;\n",
              "      box-shadow: 0px 1px 3px 1px rgba(0, 0, 0, 0.15);\n",
              "      filter: drop-shadow(0px 1px 2px rgba(0, 0, 0, 0.3));\n",
              "      fill: #FFFFFF;\n",
              "    }\n",
              "  </style>\n",
              "\n",
              "      <script>\n",
              "        const buttonEl =\n",
              "          document.querySelector('#df-0ae8ad18-d7cf-4082-adf4-8669f5ad1a45 button.colab-df-convert');\n",
              "        buttonEl.style.display =\n",
              "          google.colab.kernel.accessAllowed ? 'block' : 'none';\n",
              "\n",
              "        async function convertToInteractive(key) {\n",
              "          const element = document.querySelector('#df-0ae8ad18-d7cf-4082-adf4-8669f5ad1a45');\n",
              "          const dataTable =\n",
              "            await google.colab.kernel.invokeFunction('convertToInteractive',\n",
              "                                                     [key], {});\n",
              "          if (!dataTable) return;\n",
              "\n",
              "          const docLinkHtml = 'Like what you see? Visit the ' +\n",
              "            '<a target=\"_blank\" href=https://colab.research.google.com/notebooks/data_table.ipynb>data table notebook</a>'\n",
              "            + ' to learn more about interactive tables.';\n",
              "          element.innerHTML = '';\n",
              "          dataTable['output_type'] = 'display_data';\n",
              "          await google.colab.output.renderOutput(dataTable, element);\n",
              "          const docLink = document.createElement('div');\n",
              "          docLink.innerHTML = docLinkHtml;\n",
              "          element.appendChild(docLink);\n",
              "        }\n",
              "      </script>\n",
              "    </div>\n",
              "  </div>\n",
              "  "
            ],
            "text/plain": [
              "                                actions_count\n",
              "Lionel Andrés Messi Cuccittini            203\n",
              "Gerard Piqué Bernabéu                     177\n",
              "Carles Aleña Castillo                     174\n",
              "Sergi Roberto Carnicer                    162\n",
              "Arturo Erasmo Vidal Pardo                 160\n",
              "Sergio Busquets i Burgos                  156\n",
              "Jordi Alba Ramos                          150\n",
              "Ousmane Dembélé                           102\n",
              "Thomas Vermaelen                           87\n",
              "Marc-André ter Stegen                      60\n",
              "Luis Alberto Suárez Díaz                   50\n",
              "Kevin-Prince Boateng                       36\n",
              "Philippe Coutinho Correia                  27\n",
              "Ivan Rakitić                               25"
            ]
          },
          "metadata": {},
          "execution_count": 56
        }
      ]
    },
    {
      "cell_type": "code",
      "source": [
        "ratings_actions_count = ratings_barca.merge(actions_counts, left_index=True, right_index=True)"
      ],
      "metadata": {
        "id": "Zk-pRBFWDNAb"
      },
      "execution_count": null,
      "outputs": []
    },
    {
      "cell_type": "code",
      "source": [
        "ratings_actions_count"
      ],
      "metadata": {
        "colab": {
          "base_uri": "https://localhost:8080/",
          "height": 483
        },
        "id": "lJqAbPLVEfCJ",
        "outputId": "3b70cd7c-b896-4a9e-8ed9-4af1829c8c79"
      },
      "execution_count": null,
      "outputs": [
        {
          "output_type": "execute_result",
          "data": {
            "text/html": [
              "\n",
              "  <div id=\"df-c7502d8f-a71c-42a7-bb8e-d809dcbcb5c9\">\n",
              "    <div class=\"colab-df-container\">\n",
              "      <div>\n",
              "<style scoped>\n",
              "    .dataframe tbody tr th:only-of-type {\n",
              "        vertical-align: middle;\n",
              "    }\n",
              "\n",
              "    .dataframe tbody tr th {\n",
              "        vertical-align: top;\n",
              "    }\n",
              "\n",
              "    .dataframe thead th {\n",
              "        text-align: right;\n",
              "    }\n",
              "</style>\n",
              "<table border=\"1\" class=\"dataframe\">\n",
              "  <thead>\n",
              "    <tr style=\"text-align: right;\">\n",
              "      <th></th>\n",
              "      <th>rating</th>\n",
              "      <th>actions_count</th>\n",
              "    </tr>\n",
              "  </thead>\n",
              "  <tbody>\n",
              "    <tr>\n",
              "      <th>Arturo Erasmo Vidal Pardo</th>\n",
              "      <td>0.015137</td>\n",
              "      <td>160</td>\n",
              "    </tr>\n",
              "    <tr>\n",
              "      <th>Carles Aleña Castillo</th>\n",
              "      <td>0.011254</td>\n",
              "      <td>174</td>\n",
              "    </tr>\n",
              "    <tr>\n",
              "      <th>Gerard Piqué Bernabéu</th>\n",
              "      <td>0.022652</td>\n",
              "      <td>177</td>\n",
              "    </tr>\n",
              "    <tr>\n",
              "      <th>Ivan Rakitić</th>\n",
              "      <td>0.014182</td>\n",
              "      <td>25</td>\n",
              "    </tr>\n",
              "    <tr>\n",
              "      <th>Jordi Alba Ramos</th>\n",
              "      <td>0.004235</td>\n",
              "      <td>150</td>\n",
              "    </tr>\n",
              "    <tr>\n",
              "      <th>Kevin-Prince Boateng</th>\n",
              "      <td>0.008337</td>\n",
              "      <td>36</td>\n",
              "    </tr>\n",
              "    <tr>\n",
              "      <th>Lionel Andrés Messi Cuccittini</th>\n",
              "      <td>0.013648</td>\n",
              "      <td>203</td>\n",
              "    </tr>\n",
              "    <tr>\n",
              "      <th>Luis Alberto Suárez Díaz</th>\n",
              "      <td>0.010873</td>\n",
              "      <td>50</td>\n",
              "    </tr>\n",
              "    <tr>\n",
              "      <th>Marc-André ter Stegen</th>\n",
              "      <td>0.020992</td>\n",
              "      <td>60</td>\n",
              "    </tr>\n",
              "    <tr>\n",
              "      <th>Ousmane Dembélé</th>\n",
              "      <td>0.006017</td>\n",
              "      <td>102</td>\n",
              "    </tr>\n",
              "    <tr>\n",
              "      <th>Philippe Coutinho Correia</th>\n",
              "      <td>0.009404</td>\n",
              "      <td>27</td>\n",
              "    </tr>\n",
              "    <tr>\n",
              "      <th>Sergi Roberto Carnicer</th>\n",
              "      <td>0.015386</td>\n",
              "      <td>162</td>\n",
              "    </tr>\n",
              "    <tr>\n",
              "      <th>Sergio Busquets i Burgos</th>\n",
              "      <td>0.016861</td>\n",
              "      <td>156</td>\n",
              "    </tr>\n",
              "    <tr>\n",
              "      <th>Thomas Vermaelen</th>\n",
              "      <td>0.008980</td>\n",
              "      <td>87</td>\n",
              "    </tr>\n",
              "  </tbody>\n",
              "</table>\n",
              "</div>\n",
              "      <button class=\"colab-df-convert\" onclick=\"convertToInteractive('df-c7502d8f-a71c-42a7-bb8e-d809dcbcb5c9')\"\n",
              "              title=\"Convert this dataframe to an interactive table.\"\n",
              "              style=\"display:none;\">\n",
              "        \n",
              "  <svg xmlns=\"http://www.w3.org/2000/svg\" height=\"24px\"viewBox=\"0 0 24 24\"\n",
              "       width=\"24px\">\n",
              "    <path d=\"M0 0h24v24H0V0z\" fill=\"none\"/>\n",
              "    <path d=\"M18.56 5.44l.94 2.06.94-2.06 2.06-.94-2.06-.94-.94-2.06-.94 2.06-2.06.94zm-11 1L8.5 8.5l.94-2.06 2.06-.94-2.06-.94L8.5 2.5l-.94 2.06-2.06.94zm10 10l.94 2.06.94-2.06 2.06-.94-2.06-.94-.94-2.06-.94 2.06-2.06.94z\"/><path d=\"M17.41 7.96l-1.37-1.37c-.4-.4-.92-.59-1.43-.59-.52 0-1.04.2-1.43.59L10.3 9.45l-7.72 7.72c-.78.78-.78 2.05 0 2.83L4 21.41c.39.39.9.59 1.41.59.51 0 1.02-.2 1.41-.59l7.78-7.78 2.81-2.81c.8-.78.8-2.07 0-2.86zM5.41 20L4 18.59l7.72-7.72 1.47 1.35L5.41 20z\"/>\n",
              "  </svg>\n",
              "      </button>\n",
              "      \n",
              "  <style>\n",
              "    .colab-df-container {\n",
              "      display:flex;\n",
              "      flex-wrap:wrap;\n",
              "      gap: 12px;\n",
              "    }\n",
              "\n",
              "    .colab-df-convert {\n",
              "      background-color: #E8F0FE;\n",
              "      border: none;\n",
              "      border-radius: 50%;\n",
              "      cursor: pointer;\n",
              "      display: none;\n",
              "      fill: #1967D2;\n",
              "      height: 32px;\n",
              "      padding: 0 0 0 0;\n",
              "      width: 32px;\n",
              "    }\n",
              "\n",
              "    .colab-df-convert:hover {\n",
              "      background-color: #E2EBFA;\n",
              "      box-shadow: 0px 1px 2px rgba(60, 64, 67, 0.3), 0px 1px 3px 1px rgba(60, 64, 67, 0.15);\n",
              "      fill: #174EA6;\n",
              "    }\n",
              "\n",
              "    [theme=dark] .colab-df-convert {\n",
              "      background-color: #3B4455;\n",
              "      fill: #D2E3FC;\n",
              "    }\n",
              "\n",
              "    [theme=dark] .colab-df-convert:hover {\n",
              "      background-color: #434B5C;\n",
              "      box-shadow: 0px 1px 3px 1px rgba(0, 0, 0, 0.15);\n",
              "      filter: drop-shadow(0px 1px 2px rgba(0, 0, 0, 0.3));\n",
              "      fill: #FFFFFF;\n",
              "    }\n",
              "  </style>\n",
              "\n",
              "      <script>\n",
              "        const buttonEl =\n",
              "          document.querySelector('#df-c7502d8f-a71c-42a7-bb8e-d809dcbcb5c9 button.colab-df-convert');\n",
              "        buttonEl.style.display =\n",
              "          google.colab.kernel.accessAllowed ? 'block' : 'none';\n",
              "\n",
              "        async function convertToInteractive(key) {\n",
              "          const element = document.querySelector('#df-c7502d8f-a71c-42a7-bb8e-d809dcbcb5c9');\n",
              "          const dataTable =\n",
              "            await google.colab.kernel.invokeFunction('convertToInteractive',\n",
              "                                                     [key], {});\n",
              "          if (!dataTable) return;\n",
              "\n",
              "          const docLinkHtml = 'Like what you see? Visit the ' +\n",
              "            '<a target=\"_blank\" href=https://colab.research.google.com/notebooks/data_table.ipynb>data table notebook</a>'\n",
              "            + ' to learn more about interactive tables.';\n",
              "          element.innerHTML = '';\n",
              "          dataTable['output_type'] = 'display_data';\n",
              "          await google.colab.output.renderOutput(dataTable, element);\n",
              "          const docLink = document.createElement('div');\n",
              "          docLink.innerHTML = docLinkHtml;\n",
              "          element.appendChild(docLink);\n",
              "        }\n",
              "      </script>\n",
              "    </div>\n",
              "  </div>\n",
              "  "
            ],
            "text/plain": [
              "                                  rating  actions_count\n",
              "Arturo Erasmo Vidal Pardo       0.015137            160\n",
              "Carles Aleña Castillo           0.011254            174\n",
              "Gerard Piqué Bernabéu           0.022652            177\n",
              "Ivan Rakitić                    0.014182             25\n",
              "Jordi Alba Ramos                0.004235            150\n",
              "Kevin-Prince Boateng            0.008337             36\n",
              "Lionel Andrés Messi Cuccittini  0.013648            203\n",
              "Luis Alberto Suárez Díaz        0.010873             50\n",
              "Marc-André ter Stegen           0.020992             60\n",
              "Ousmane Dembélé                 0.006017            102\n",
              "Philippe Coutinho Correia       0.009404             27\n",
              "Sergi Roberto Carnicer          0.015386            162\n",
              "Sergio Busquets i Burgos        0.016861            156\n",
              "Thomas Vermaelen                0.008980             87"
            ]
          },
          "metadata": {},
          "execution_count": 58
        }
      ]
    },
    {
      "cell_type": "code",
      "source": [
        "ratings_actions_count.index"
      ],
      "metadata": {
        "colab": {
          "base_uri": "https://localhost:8080/"
        },
        "id": "FjIlfWZlFpF6",
        "outputId": "30f0778e-aa54-4cae-eb4a-a4d510898c34"
      },
      "execution_count": null,
      "outputs": [
        {
          "output_type": "execute_result",
          "data": {
            "text/plain": [
              "Index(['Arturo Erasmo Vidal Pardo', 'Carles Aleña Castillo',\n",
              "       'Gerard Piqué Bernabéu', 'Ivan Rakitić', 'Jordi Alba Ramos',\n",
              "       'Kevin-Prince Boateng', 'Lionel Andrés Messi Cuccittini',\n",
              "       'Luis Alberto Suárez Díaz', 'Marc-André ter Stegen', 'Ousmane Dembélé',\n",
              "       'Philippe Coutinho Correia', 'Sergi Roberto Carnicer',\n",
              "       'Sergio Busquets i Burgos', 'Thomas Vermaelen'],\n",
              "      dtype='object')"
            ]
          },
          "metadata": {},
          "execution_count": 63
        }
      ]
    },
    {
      "cell_type": "code",
      "source": [
        "x = ratings_actions_count[\"actions_count\"]\n",
        "y = ratings_actions_count[\"rating\"]\n",
        "plt.scatter(x, y)\n",
        "for i, player_name in enumerate(ratings_actions_count.index):\n",
        "    plt.annotate(player_name, (x[i], y[i]))"
      ],
      "metadata": {
        "colab": {
          "base_uri": "https://localhost:8080/",
          "height": 265
        },
        "id": "8hoVkq-ZEgjA",
        "outputId": "aff0ba9d-8e42-4711-a697-5357dd38b7eb"
      },
      "execution_count": null,
      "outputs": [
        {
          "output_type": "display_data",
          "data": {
            "image/png": "[encoded data removed]",
            "text/plain": [
              "<Figure size 432x288 with 1 Axes>"
            ]
          },
          "metadata": {
            "needs_background": "light"
          }
        }
      ]
    },
    {
      "cell_type": "markdown",
      "source": [
        "**Passing evaluation**"
      ],
      "metadata": {
        "id": "l40GmIJ7rBDG"
      }
    },
    {
      "cell_type": "code",
      "source": [
        "avg_passing_ratings = {\n",
        "    \"female_score\": {},\n",
        "    \"female_concede\": {},\n",
        "    \"male_score\": {},\n",
        "    \"male_concede\": {}\n",
        "}"
      ],
      "metadata": {
        "id": "a9MSYZX4sHT8"
      },
      "execution_count": null,
      "outputs": []
    },
    {
      "cell_type": "code",
      "source": [
        "male_players_with_ratings_score_passing = {}\n",
        "male_players_with_ratings_concede_passing = {}\n",
        "c = 0\n",
        "t = 0\n",
        "t_s = 0\n",
        "t_c = 0\n",
        "for match_id in ids_m_test:\n",
        "    match = matches_m[matches_m[\"match_id\"] == match_id]\n",
        "    home_score = match.iloc[0][\"home_score\"]\n",
        "    away_score = match.iloc[0][\"away_score\"]\n",
        "    home_team_id = match[\"home_team\"].iloc[0][\"home_team_id\"]\n",
        "    away_team_id = match[\"away_team\"].iloc[0][\"away_team_id\"]\n",
        "    match_to_rate = transformer(matches_m, [match_id], loader)\n",
        "    match_to_rate['time_interval'] = classify_time(match_to_rate)\n",
        "    match_to_rate.drop(\"time_spent\", axis=1, inplace=True)\n",
        "    match_to_rate_enc = encoder.transform(match_to_rate[[\"type_name\", \"result_id\", \"bodypart_id\", \"time_interval\"]])\n",
        "    match_to_rate = match_to_rate.drop([\"type_name\", \"result_id\", \"bodypart_id\", \"time_interval\"], axis=1).join(pd.DataFrame.sparse.from_spmatrix(match_to_rate_enc)).to_numpy()\n",
        "    df_teams = loader.teams(match_id)\n",
        "    df_players = loader.players(match_id)\n",
        "    df_events = loader.events(match_id)\n",
        "    df_actions = spadl.statsbomb.convert_to_actions(df_events, home_team_id=home_team_id)\n",
        "    df_actions = (\n",
        "        spadl.add_names(df_actions)\n",
        "        .merge(loader.teams(game_id=match_id))\n",
        "        .merge(loader.players(game_id=match_id))\n",
        "    )\n",
        "    df_actions = df_actions.sort_values(by=['action_id'])\n",
        "    team_ids = df_actions[\"team_id\"]\n",
        "    match_to_rate_torch = torch.from_numpy(match_to_rate).type(torch.FloatTensor).to(device)\n",
        "    with torch.no_grad():\n",
        "        match_to_rate_pred_score=score_model(match_to_rate_torch).flatten()\n",
        "    with torch.no_grad():\n",
        "        match_to_rate_pred_concede=concede_model(match_to_rate_torch).flatten()\n",
        "    match_to_rate_pred_score = match_to_rate_pred_score.cpu().numpy()\n",
        "    match_to_rate_pred_concede = match_to_rate_pred_concede.cpu().numpy()\n",
        "    df_actions[\"score_rating\"] = match_to_rate_pred_score\n",
        "    df_actions[\"concede_rating\"] = match_to_rate_pred_concede\n",
        "    df_actions[\"rating\"] = match_to_rate_pred_score - match_to_rate_pred_concede\n",
        "    df_actions = df_actions[df_actions[\"type_id\"] == 0]\n",
        "    if home_score != away_score:\n",
        "        c += 1\n",
        "        team_score_ratings = df_actions[[\"team_id\", \"score_rating\"]].groupby(\"team_id\").agg('mean')\n",
        "        if ((home_score > away_score) and (team_score_ratings[\"score_rating\"][home_team_id] > team_score_ratings[\"score_rating\"][away_team_id])) or ((home_score < away_score) and (team_score_ratings[\"score_rating\"][home_team_id] < team_score_ratings[\"score_rating\"][away_team_id])):\n",
        "            t_s += 1\n",
        "        team_concede_ratings = df_actions[[\"team_id\", \"concede_rating\"]].groupby(\"team_id\").agg('mean')\n",
        "        if ((home_score > away_score) and (team_concede_ratings[\"concede_rating\"][home_team_id] < team_concede_ratings[\"concede_rating\"][away_team_id])) or ((home_score < away_score) and (team_concede_ratings[\"concede_rating\"][home_team_id] > team_concede_ratings[\"concede_rating\"][away_team_id])):\n",
        "            t_c += 1\n",
        "        team_ratings = df_actions[[\"team_id\", \"rating\"]].groupby(\"team_id\").agg('mean')\n",
        "        if ((home_score > away_score) and (team_ratings[\"rating\"][home_team_id] > team_ratings[\"rating\"][away_team_id])) or ((home_score < away_score) and (team_ratings[\"rating\"][home_team_id] < team_ratings[\"rating\"][away_team_id])):\n",
        "            t += 1\n",
        "    score_ratings = df_actions.groupby(\"player_id\").aggregate({'score_rating': 'mean'})\n",
        "    for i in range(len(score_ratings.index)):\n",
        "        if score_ratings.index[i] not in male_players_with_ratings_score_passing:\n",
        "            male_players_with_ratings_score_passing[score_ratings.index[i]] = [score_ratings.iloc[i][0]]\n",
        "        else:\n",
        "            male_players_with_ratings_score_passing[score_ratings.index[i]].append(score_ratings.iloc[i][0])\n",
        "    concede_ratings = df_actions.groupby(\"player_id\").aggregate({'concede_rating': 'mean'})\n",
        "    for i in range(len(concede_ratings.index)):\n",
        "        if concede_ratings.index[i] not in male_players_with_ratings_concede_passing:\n",
        "            male_players_with_ratings_concede_passing[concede_ratings.index[i]] = [concede_ratings.iloc[i][0]]\n",
        "        else:\n",
        "            male_players_with_ratings_concede_passing[concede_ratings.index[i]].append(concede_ratings.iloc[i][0])\n",
        "\n",
        "print('true scoring values =', str(t_s))\n",
        "print('true conceding values =', str(t_c))\n",
        "print('true values =', str(t))\n",
        "print('all scores =', str(c))"
      ],
      "metadata": {
        "id": "hwDLqn0zvKkk",
        "colab": {
          "base_uri": "https://localhost:8080/"
        },
        "outputId": "e61764c4-3bf5-4158-fc62-5637a3bf1dbd"
      },
      "execution_count": null,
      "outputs": [
        {
          "output_type": "stream",
          "name": "stdout",
          "text": [
            "true scoring values = 62\n",
            "true conceding values = 61\n",
            "true values = 69\n",
            "all scores = 95\n"
          ]
        }
      ]
    },
    {
      "cell_type": "code",
      "source": [
        "print(binom_test(62, 95, .5, \"greater\"))\n",
        "print(binom_test(61, 95, .5, \"greater\"))\n",
        "print(binom_test(69, 95, .5, \"greater\"))"
      ],
      "metadata": {
        "colab": {
          "base_uri": "https://localhost:8080/"
        },
        "id": "QQyMlJR02iA_",
        "outputId": "6ae6b326-f4f4-423e-fe34-a05e8c525f85"
      },
      "execution_count": null,
      "outputs": [
        {
          "output_type": "stream",
          "name": "stdout",
          "text": [
            "0.0019164361924377783\n",
            "0.0036565615697268104\n",
            "5.914044242457566e-06\n"
          ]
        }
      ]
    },
    {
      "cell_type": "code",
      "source": [
        "for key, value in male_players_with_ratings_score_passing.items():\n",
        "    avg_passing_ratings[\"male_score\"][key] = {\n",
        "        \"rating\": np.mean(value),\n",
        "        \"matches\": len(value)\n",
        "    }\n",
        "\n",
        "for key, value in male_players_with_ratings_concede_passing.items():\n",
        "    avg_passing_ratings[\"male_concede\"][key] = {\n",
        "        \"rating\": np.mean(value),\n",
        "        \"matches\": len(value)\n",
        "    }"
      ],
      "metadata": {
        "id": "2qHCGyd5xHL2"
      },
      "execution_count": null,
      "outputs": []
    },
    {
      "cell_type": "code",
      "source": [
        "female_players_with_ratings_score_passing = {}\n",
        "female_players_with_ratings_concede_passing = {}\n",
        "c = 0\n",
        "t = 0\n",
        "t_s = 0\n",
        "t_c = 0\n",
        "for match_id in ids_f_test:\n",
        "    match = matches_f[matches_f[\"match_id\"] == match_id]\n",
        "    home_score = match.iloc[0][\"home_score\"]\n",
        "    away_score = match.iloc[0][\"away_score\"]\n",
        "    home_team_id = match[\"home_team\"].iloc[0][\"home_team_id\"]\n",
        "    away_team_id = match[\"away_team\"].iloc[0][\"away_team_id\"]\n",
        "    match_to_rate = transformer(matches_f, [match_id], loader)\n",
        "    match_to_rate['time_interval'] = classify_time(match_to_rate)\n",
        "    match_to_rate.drop(\"time_spent\", axis=1, inplace=True)\n",
        "    match_to_rate_enc = encoder.transform(match_to_rate[[\"type_name\", \"result_id\", \"bodypart_id\", \"time_interval\"]])\n",
        "    match_to_rate = match_to_rate.drop([\"type_name\", \"result_id\", \"bodypart_id\", \"time_interval\"], axis=1).join(pd.DataFrame.sparse.from_spmatrix(match_to_rate_enc)).to_numpy()\n",
        "    df_teams = loader.teams(match_id)\n",
        "    df_players = loader.players(match_id)\n",
        "    df_events = loader.events(match_id)\n",
        "    df_actions = spadl.statsbomb.convert_to_actions(df_events, home_team_id=home_team_id)\n",
        "    df_actions = (\n",
        "        spadl.add_names(df_actions)\n",
        "        .merge(loader.teams(game_id=match_id))\n",
        "        .merge(loader.players(game_id=match_id))\n",
        "    )\n",
        "    df_actions = df_actions.sort_values(by=['action_id'])\n",
        "    team_ids = df_actions[\"team_id\"]\n",
        "    match_to_rate_torch = torch.from_numpy(match_to_rate).type(torch.FloatTensor).to(device)\n",
        "    with torch.no_grad():\n",
        "        match_to_rate_pred_score=score_model(match_to_rate_torch).flatten()\n",
        "    with torch.no_grad():\n",
        "        match_to_rate_pred_concede=concede_model(match_to_rate_torch).flatten()\n",
        "    match_to_rate_pred_score = match_to_rate_pred_score.cpu().numpy()\n",
        "    match_to_rate_pred_concede = match_to_rate_pred_concede.cpu().numpy()\n",
        "    df_actions[\"score_rating\"] = match_to_rate_pred_score\n",
        "    df_actions[\"concede_rating\"] = match_to_rate_pred_concede\n",
        "    df_actions[\"rating\"] = match_to_rate_pred_score - match_to_rate_pred_concede\n",
        "    df_actions = df_actions[df_actions[\"type_id\"] == 0]\n",
        "    if home_score != away_score:\n",
        "        c += 1\n",
        "        team_score_ratings = df_actions[[\"team_id\", \"score_rating\"]].groupby(\"team_id\").agg('mean')\n",
        "        if ((home_score > away_score) and (team_score_ratings[\"score_rating\"][home_team_id] > team_score_ratings[\"score_rating\"][away_team_id])) or ((home_score < away_score) and (team_score_ratings[\"score_rating\"][home_team_id] < team_score_ratings[\"score_rating\"][away_team_id])):\n",
        "            t_s += 1\n",
        "        team_concede_ratings = df_actions[[\"team_id\", \"concede_rating\"]].groupby(\"team_id\").agg('mean')\n",
        "        if ((home_score > away_score) and (team_concede_ratings[\"concede_rating\"][home_team_id] < team_concede_ratings[\"concede_rating\"][away_team_id])) or ((home_score < away_score) and (team_concede_ratings[\"concede_rating\"][home_team_id] > team_concede_ratings[\"concede_rating\"][away_team_id])):\n",
        "            t_c += 1\n",
        "        team_ratings = df_actions[[\"team_id\", \"rating\"]].groupby(\"team_id\").agg('mean')\n",
        "        if ((home_score > away_score) and (team_ratings[\"rating\"][home_team_id] > team_ratings[\"rating\"][away_team_id])) or ((home_score < away_score) and (team_ratings[\"rating\"][home_team_id] < team_ratings[\"rating\"][away_team_id])):\n",
        "            t += 1\n",
        "    score_ratings = df_actions.groupby(\"player_id\").aggregate({'score_rating': 'mean'})\n",
        "    for i in range(len(score_ratings.index)):\n",
        "        if score_ratings.index[i] not in female_players_with_ratings_score_passing:\n",
        "            female_players_with_ratings_score_passing[score_ratings.index[i]] = [score_ratings.iloc[i][0]]\n",
        "        else:\n",
        "            female_players_with_ratings_score_passing[score_ratings.index[i]].append(score_ratings.iloc[i][0])\n",
        "    concede_ratings = df_actions.groupby(\"player_id\").aggregate({'concede_rating': 'mean'})\n",
        "    for i in range(len(concede_ratings.index)):\n",
        "        if concede_ratings.index[i] not in female_players_with_ratings_concede_passing:\n",
        "            female_players_with_ratings_concede_passing[concede_ratings.index[i]] = [concede_ratings.iloc[i][0]]\n",
        "        else:\n",
        "            female_players_with_ratings_concede_passing[concede_ratings.index[i]].append(concede_ratings.iloc[i][0])\n",
        "\n",
        "print('true scoring values =', str(t_s))\n",
        "print('true conceding values =', str(t_c))\n",
        "print('true values =', str(t))\n",
        "print('all scores =', str(c))"
      ],
      "metadata": {
        "id": "G3z_jLqzp399",
        "colab": {
          "base_uri": "https://localhost:8080/"
        },
        "outputId": "6e18e661-5bda-495e-98af-60fbc1ba77b9"
      },
      "execution_count": null,
      "outputs": [
        {
          "output_type": "stream",
          "name": "stdout",
          "text": [
            "true scoring values = 33\n",
            "true conceding values = 30\n",
            "true values = 32\n",
            "all scores = 58\n"
          ]
        }
      ]
    },
    {
      "cell_type": "code",
      "source": [
        "binom_test(33, 58, .5, \"greater\")"
      ],
      "metadata": {
        "colab": {
          "base_uri": "https://localhost:8080/"
        },
        "id": "iuiqRKjEvYl9",
        "outputId": "d0211fef-1271-4943-cd46-81195a94dac0"
      },
      "execution_count": null,
      "outputs": [
        {
          "output_type": "execute_result",
          "data": {
            "text/plain": [
              "0.17907165090306884"
            ]
          },
          "metadata": {},
          "execution_count": 59
        }
      ]
    },
    {
      "cell_type": "code",
      "source": [
        "for key, value in female_players_with_ratings_score_passing.items():\n",
        "    avg_passing_ratings[\"female_score\"][key] = {\n",
        "        \"rating\": np.mean(value),\n",
        "        \"matches\": len(value)\n",
        "    }\n",
        "\n",
        "for key, value in female_players_with_ratings_concede_passing.items():\n",
        "    avg_passing_ratings[\"female_concede\"][key] = {\n",
        "        \"rating\": np.mean(value),\n",
        "        \"matches\": len(value)\n",
        "    }"
      ],
      "metadata": {
        "id": "aqf9679uu6_R"
      },
      "execution_count": null,
      "outputs": []
    },
    {
      "cell_type": "code",
      "source": [
        "np.mean([i[\"rating\"] for i in avg_passing_ratings[\"female_score\"].values()])"
      ],
      "metadata": {
        "colab": {
          "base_uri": "https://localhost:8080/"
        },
        "id": "75MJqnRMGxd2",
        "outputId": "7551f571-6684-4c25-c762-4127d9ca87ac"
      },
      "execution_count": null,
      "outputs": [
        {
          "output_type": "execute_result",
          "data": {
            "text/plain": [
              "0.012209630951851612"
            ]
          },
          "metadata": {},
          "execution_count": 98
        }
      ]
    },
    {
      "cell_type": "code",
      "source": [
        "np.mean([i[\"rating\"] for i in avg_passing_ratings[\"male_score\"].values()])"
      ],
      "metadata": {
        "colab": {
          "base_uri": "https://localhost:8080/"
        },
        "id": "cLiuCMPXGx7K",
        "outputId": "f14bc7b1-72f6-4e8d-8942-9e371814e5f8"
      },
      "execution_count": null,
      "outputs": [
        {
          "output_type": "execute_result",
          "data": {
            "text/plain": [
              "0.011975199"
            ]
          },
          "metadata": {},
          "execution_count": 99
        }
      ]
    },
    {
      "cell_type": "code",
      "source": [
        "np.mean([i[\"rating\"] for i in avg_passing_ratings[\"female_concede\"].values()])"
      ],
      "metadata": {
        "colab": {
          "base_uri": "https://localhost:8080/"
        },
        "id": "3Bs7d6PwGyEU",
        "outputId": "27878462-620d-4933-b632-ba307b1e84f6"
      },
      "execution_count": null,
      "outputs": [
        {
          "output_type": "execute_result",
          "data": {
            "text/plain": [
              "0.003078434"
            ]
          },
          "metadata": {},
          "execution_count": 100
        }
      ]
    },
    {
      "cell_type": "code",
      "source": [
        "np.mean([i[\"rating\"] for i in avg_passing_ratings[\"male_concede\"].values()])"
      ],
      "metadata": {
        "colab": {
          "base_uri": "https://localhost:8080/"
        },
        "id": "JGsCE17jGyMb",
        "outputId": "bd3825d2-a7c1-4c80-93e0-91c8380bf2b4"
      },
      "execution_count": null,
      "outputs": [
        {
          "output_type": "execute_result",
          "data": {
            "text/plain": [
              "0.002451941"
            ]
          },
          "metadata": {},
          "execution_count": 101
        }
      ]
    },
    {
      "cell_type": "code",
      "source": [
        "female_score_passing_ratings = [i[\"rating\"] for i in avg_passing_ratings[\"female_score\"].values()]\n",
        "male_score_passing_ratings = [i[\"rating\"] for i in avg_passing_ratings[\"male_score\"].values()]"
      ],
      "metadata": {
        "id": "x_DHYimpxOlM"
      },
      "execution_count": null,
      "outputs": []
    },
    {
      "cell_type": "code",
      "source": [
        "female_concede_passing_ratings = [i[\"rating\"] for i in avg_passing_ratings[\"female_concede\"].values()]\n",
        "male_concede_passing_ratings = [i[\"rating\"] for i in avg_passing_ratings[\"male_concede\"].values()]"
      ],
      "metadata": {
        "id": "8SyW1zQH1dvk"
      },
      "execution_count": null,
      "outputs": []
    },
    {
      "cell_type": "code",
      "source": [
        "with open('./drive/MyDrive/master/dumps/avg_passing_ratings.json', 'wb') as f:\n",
        "    pickle.dump(avg_passing_ratings, f)"
      ],
      "metadata": {
        "id": "2pGjfxvX6dgz"
      },
      "execution_count": null,
      "outputs": []
    },
    {
      "cell_type": "markdown",
      "source": [
        "**Successful passes evaluation**"
      ],
      "metadata": {
        "id": "j-88gbR_5Pu2"
      }
    },
    {
      "cell_type": "code",
      "source": [
        "avg_successful_passing_ratings = {\n",
        "    \"female_score\": {},\n",
        "    \"female_concede\": {},\n",
        "    \"male_score\": {},\n",
        "    \"male_concede\": {}\n",
        "}"
      ],
      "metadata": {
        "id": "aKfd638Z50yV"
      },
      "execution_count": null,
      "outputs": []
    },
    {
      "cell_type": "code",
      "source": [
        "male_players_with_ratings_score_passing_success = {}\n",
        "male_players_with_ratings_concede_passing_success = {}\n",
        "c = 0\n",
        "t = 0\n",
        "t_s = 0\n",
        "t_c = 0\n",
        "for match_id in ids_m_test:\n",
        "    match = matches_m[matches_m[\"match_id\"] == match_id]\n",
        "    home_score = match.iloc[0][\"home_score\"]\n",
        "    away_score = match.iloc[0][\"away_score\"]\n",
        "    home_team_id = match[\"home_team\"].iloc[0][\"home_team_id\"]\n",
        "    away_team_id = match[\"away_team\"].iloc[0][\"away_team_id\"]\n",
        "    match_to_rate = transformer(matches_m, [match_id], loader)\n",
        "    match_to_rate['time_interval'] = classify_time(match_to_rate)\n",
        "    match_to_rate.drop(\"time_spent\", axis=1, inplace=True)\n",
        "    match_to_rate_enc = encoder.transform(match_to_rate[[\"type_name\", \"result_id\", \"bodypart_id\", \"time_interval\"]])\n",
        "    match_to_rate = match_to_rate.drop([\"type_name\", \"result_id\", \"bodypart_id\", \"time_interval\"], axis=1).join(pd.DataFrame.sparse.from_spmatrix(match_to_rate_enc)).to_numpy()\n",
        "    df_teams = loader.teams(match_id)\n",
        "    df_players = loader.players(match_id)\n",
        "    df_events = loader.events(match_id)\n",
        "    df_actions = spadl.statsbomb.convert_to_actions(df_events, home_team_id=home_team_id)\n",
        "    df_actions = (\n",
        "        spadl.add_names(df_actions)\n",
        "        .merge(loader.teams(game_id=match_id))\n",
        "        .merge(loader.players(game_id=match_id))\n",
        "    )\n",
        "    df_actions = df_actions.sort_values(by=['action_id'])\n",
        "    team_ids = df_actions[\"team_id\"]\n",
        "    match_to_rate_torch = torch.from_numpy(match_to_rate).type(torch.FloatTensor).to(device)\n",
        "    with torch.no_grad():\n",
        "        match_to_rate_pred_score=score_model(match_to_rate_torch).flatten()\n",
        "    with torch.no_grad():\n",
        "        match_to_rate_pred_concede=concede_model(match_to_rate_torch).flatten()\n",
        "    match_to_rate_pred_score = match_to_rate_pred_score.cpu().numpy()\n",
        "    match_to_rate_pred_concede = match_to_rate_pred_concede.cpu().numpy()\n",
        "    df_actions[\"score_rating\"] = match_to_rate_pred_score\n",
        "    df_actions[\"concede_rating\"] = match_to_rate_pred_concede\n",
        "    df_actions[\"rating\"] = match_to_rate_pred_score - match_to_rate_pred_concede\n",
        "    df_actions = df_actions[df_actions[\"type_id\"] == 0]\n",
        "    df_actions = df_actions[df_actions[\"result_id\"] == 1]\n",
        "    if home_score != away_score:\n",
        "        c += 1\n",
        "        team_score_ratings = df_actions[[\"team_id\", \"score_rating\"]].groupby(\"team_id\").agg('mean')\n",
        "        if ((home_score > away_score) and (team_score_ratings[\"score_rating\"][home_team_id] > team_score_ratings[\"score_rating\"][away_team_id])) or ((home_score < away_score) and (team_score_ratings[\"score_rating\"][home_team_id] < team_score_ratings[\"score_rating\"][away_team_id])):\n",
        "            t_s += 1\n",
        "        team_concede_ratings = df_actions[[\"team_id\", \"concede_rating\"]].groupby(\"team_id\").agg('mean')\n",
        "        if ((home_score > away_score) and (team_concede_ratings[\"concede_rating\"][home_team_id] < team_concede_ratings[\"concede_rating\"][away_team_id])) or ((home_score < away_score) and (team_concede_ratings[\"concede_rating\"][home_team_id] > team_concede_ratings[\"concede_rating\"][away_team_id])):\n",
        "            t_c += 1\n",
        "        team_ratings = df_actions[[\"team_id\", \"rating\"]].groupby(\"team_id\").agg('mean')\n",
        "        if ((home_score > away_score) and (team_ratings[\"rating\"][home_team_id] > team_ratings[\"rating\"][away_team_id])) or ((home_score < away_score) and (team_ratings[\"rating\"][home_team_id] < team_ratings[\"rating\"][away_team_id])):\n",
        "            t += 1\n",
        "    score_ratings = df_actions.groupby(\"player_id\").aggregate({'score_rating': 'mean'})\n",
        "    for i in range(len(score_ratings.index)):\n",
        "        if score_ratings.index[i] not in male_players_with_ratings_score_passing_success:\n",
        "            male_players_with_ratings_score_passing_success[score_ratings.index[i]] = [score_ratings.iloc[i][0]]\n",
        "        else:\n",
        "            male_players_with_ratings_score_passing_success[score_ratings.index[i]].append(score_ratings.iloc[i][0])\n",
        "    concede_ratings = df_actions.groupby(\"player_id\").aggregate({'concede_rating': 'mean'})\n",
        "    for i in range(len(concede_ratings.index)):\n",
        "        if concede_ratings.index[i] not in male_players_with_ratings_concede_passing_success:\n",
        "            male_players_with_ratings_concede_passing_success[concede_ratings.index[i]] = [concede_ratings.iloc[i][0]]\n",
        "        else:\n",
        "            male_players_with_ratings_concede_passing_success[concede_ratings.index[i]].append(concede_ratings.iloc[i][0])\n",
        "\n",
        "print('true scoring values =', str(t_s))\n",
        "print('true conceding values =', str(t_c))\n",
        "print('true values =', str(t))\n",
        "print('all scores =', str(c))"
      ],
      "metadata": {
        "colab": {
          "base_uri": "https://localhost:8080/"
        },
        "id": "6yBkmxwaHZCS",
        "outputId": "a0e8b3fb-ee75-4463-ee4a-7fc3c99d7fe0"
      },
      "execution_count": null,
      "outputs": [
        {
          "output_type": "stream",
          "name": "stdout",
          "text": [
            "true scoring values = 53\n",
            "true conceding values = 59\n",
            "true values = 60\n",
            "all scores = 95\n"
          ]
        }
      ]
    },
    {
      "cell_type": "code",
      "source": [
        "print(binom_test(53, 95, .5, \"greater\"))\n",
        "print(binom_test(59, 95, .5, \"greater\"))\n",
        "print(binom_test(60, 95, .5, \"greater\"))"
      ],
      "metadata": {
        "colab": {
          "base_uri": "https://localhost:8080/"
        },
        "id": "WkuLNe5j3NsR",
        "outputId": "6b4087d5-ab88-4d08-a8e5-cc48bdbb1bf2"
      },
      "execution_count": null,
      "outputs": [
        {
          "output_type": "stream",
          "name": "stdout",
          "text": [
            "0.15244259535113777\n",
            "0.011744001418460583\n",
            "0.0066893515130019765\n"
          ]
        }
      ]
    },
    {
      "cell_type": "code",
      "source": [
        "for key, value in male_players_with_ratings_score_passing_success.items():\n",
        "    avg_successful_passing_ratings[\"male_score\"][key] = {\n",
        "        \"rating\": np.mean(value),\n",
        "        \"matches\": len(value)\n",
        "    }\n",
        "\n",
        "for key, value in male_players_with_ratings_concede_passing_success.items():\n",
        "    avg_successful_passing_ratings[\"male_concede\"][key] = {\n",
        "        \"rating\": np.mean(value),\n",
        "        \"matches\": len(value)\n",
        "    }"
      ],
      "metadata": {
        "id": "CU5QaQvUID6x"
      },
      "execution_count": null,
      "outputs": []
    },
    {
      "cell_type": "code",
      "source": [
        "female_players_with_ratings_score_passing_success = {}\n",
        "female_players_with_ratings_concede_passing_success = {}\n",
        "c = 0\n",
        "t = 0\n",
        "t_s = 0\n",
        "t_c = 0\n",
        "for match_id in ids_f_test:\n",
        "    match = matches_f[matches_f[\"match_id\"] == match_id]\n",
        "    home_score = match.iloc[0][\"home_score\"]\n",
        "    away_score = match.iloc[0][\"away_score\"]\n",
        "    home_team_id = match[\"home_team\"].iloc[0][\"home_team_id\"]\n",
        "    away_team_id = match[\"away_team\"].iloc[0][\"away_team_id\"]\n",
        "    match_to_rate = transformer(matches_f, [match_id], loader)\n",
        "    match_to_rate['time_interval'] = classify_time(match_to_rate)\n",
        "    match_to_rate.drop(\"time_spent\", axis=1, inplace=True)\n",
        "    match_to_rate_enc = encoder.transform(match_to_rate[[\"type_name\", \"result_id\", \"bodypart_id\", \"time_interval\"]])\n",
        "    match_to_rate = match_to_rate.drop([\"type_name\", \"result_id\", \"bodypart_id\", \"time_interval\"], axis=1).join(pd.DataFrame.sparse.from_spmatrix(match_to_rate_enc)).to_numpy()\n",
        "    df_teams = loader.teams(match_id)\n",
        "    df_players = loader.players(match_id)\n",
        "    df_events = loader.events(match_id)\n",
        "    df_actions = spadl.statsbomb.convert_to_actions(df_events, home_team_id=home_team_id)\n",
        "    df_actions = (\n",
        "        spadl.add_names(df_actions)\n",
        "        .merge(loader.teams(game_id=match_id))\n",
        "        .merge(loader.players(game_id=match_id))\n",
        "    )\n",
        "    df_actions = df_actions.sort_values(by=['action_id'])\n",
        "    team_ids = df_actions[\"team_id\"]\n",
        "    match_to_rate_torch = torch.from_numpy(match_to_rate).type(torch.FloatTensor).to(device)\n",
        "    with torch.no_grad():\n",
        "        match_to_rate_pred_score=score_model(match_to_rate_torch).flatten()\n",
        "    with torch.no_grad():\n",
        "        match_to_rate_pred_concede=concede_model(match_to_rate_torch).flatten()\n",
        "    match_to_rate_pred_score = match_to_rate_pred_score.cpu().numpy()\n",
        "    match_to_rate_pred_concede = match_to_rate_pred_concede.cpu().numpy()\n",
        "    df_actions[\"score_rating\"] = match_to_rate_pred_score\n",
        "    df_actions[\"concede_rating\"] = match_to_rate_pred_concede\n",
        "    df_actions[\"rating\"] = match_to_rate_pred_score - match_to_rate_pred_concede\n",
        "    df_actions = df_actions[df_actions[\"type_id\"] == 0]\n",
        "    if home_score != away_score:\n",
        "        c += 1\n",
        "        team_score_ratings = df_actions[[\"team_id\", \"score_rating\"]].groupby(\"team_id\").agg('mean')\n",
        "        if ((home_score > away_score) and (team_score_ratings[\"score_rating\"][home_team_id] > team_score_ratings[\"score_rating\"][away_team_id])) or ((home_score < away_score) and (team_score_ratings[\"score_rating\"][home_team_id] < team_score_ratings[\"score_rating\"][away_team_id])):\n",
        "            t_s += 1\n",
        "        team_concede_ratings = df_actions[[\"team_id\", \"concede_rating\"]].groupby(\"team_id\").agg('mean')\n",
        "        if ((home_score > away_score) and (team_concede_ratings[\"concede_rating\"][home_team_id] < team_concede_ratings[\"concede_rating\"][away_team_id])) or ((home_score < away_score) and (team_concede_ratings[\"concede_rating\"][home_team_id] > team_concede_ratings[\"concede_rating\"][away_team_id])):\n",
        "            t_c += 1\n",
        "        team_ratings = df_actions[[\"team_id\", \"rating\"]].groupby(\"team_id\").agg('mean')\n",
        "        if ((home_score > away_score) and (team_ratings[\"rating\"][home_team_id] > team_ratings[\"rating\"][away_team_id])) or ((home_score < away_score) and (team_ratings[\"rating\"][home_team_id] < team_ratings[\"rating\"][away_team_id])):\n",
        "            t += 1\n",
        "    score_ratings = df_actions.groupby(\"player_id\").aggregate({'score_rating': 'mean'})\n",
        "    for i in range(len(score_ratings.index)):\n",
        "        if score_ratings.index[i] not in female_players_with_ratings_score_passing_success:\n",
        "            female_players_with_ratings_score_passing_success[score_ratings.index[i]] = [score_ratings.iloc[i][0]]\n",
        "        else:\n",
        "            female_players_with_ratings_score_passing_success[score_ratings.index[i]].append(score_ratings.iloc[i][0])\n",
        "    concede_ratings = df_actions.groupby(\"player_id\").aggregate({'concede_rating': 'mean'})\n",
        "    for i in range(len(concede_ratings.index)):\n",
        "        if concede_ratings.index[i] not in female_players_with_ratings_concede_passing_success:\n",
        "            female_players_with_ratings_concede_passing_success[concede_ratings.index[i]] = [concede_ratings.iloc[i][0]]\n",
        "        else:\n",
        "            female_players_with_ratings_concede_passing_success[concede_ratings.index[i]].append(concede_ratings.iloc[i][0])\n",
        "\n",
        "print('true scoring values =', str(t_s))\n",
        "print('true conceding values =', str(t_c))\n",
        "print('true values =', str(t))\n",
        "print('all scores =', str(c))"
      ],
      "metadata": {
        "id": "eU5EFtEZ5W02",
        "colab": {
          "base_uri": "https://localhost:8080/"
        },
        "outputId": "381bcdb5-8ed6-4f2f-9e6e-bad18564f45f"
      },
      "execution_count": null,
      "outputs": [
        {
          "output_type": "stream",
          "name": "stdout",
          "text": [
            "true scoring values = 33\n",
            "true conceding values = 30\n",
            "true values = 32\n",
            "all scores = 58\n"
          ]
        }
      ]
    },
    {
      "cell_type": "code",
      "source": [
        "print(binom_test(33, 58, .5, \"greater\"))\n",
        "print(binom_test(30, 58, .5, \"greater\"))\n",
        "print(binom_test(32, 58, .5, \"greater\"))"
      ],
      "metadata": {
        "colab": {
          "base_uri": "https://localhost:8080/"
        },
        "id": "o_XfLwL83Y01",
        "outputId": "d4b62a53-9ebe-420c-fc61-e6e0c1ea243e"
      },
      "execution_count": null,
      "outputs": [
        {
          "output_type": "stream",
          "name": "stdout",
          "text": [
            "0.17907165090306884\n",
            "0.4478416069447956\n",
            "0.2559211542190845\n"
          ]
        }
      ]
    },
    {
      "cell_type": "code",
      "source": [
        "for key, value in female_players_with_ratings_score_passing_success.items():\n",
        "    avg_successful_passing_ratings[\"female_score\"][key] = {\n",
        "        \"rating\": np.mean(value),\n",
        "        \"matches\": len(value)\n",
        "    }\n",
        "\n",
        "for key, value in female_players_with_ratings_concede_passing_success.items():\n",
        "    avg_successful_passing_ratings[\"female_concede\"][key] = {\n",
        "        \"rating\": np.mean(value),\n",
        "        \"matches\": len(value)\n",
        "    }"
      ],
      "metadata": {
        "id": "AcQ4f3edJeiN"
      },
      "execution_count": null,
      "outputs": []
    },
    {
      "cell_type": "code",
      "source": [
        "female_score_successful_passing_ratings = [i[\"rating\"] for i in avg_successful_passing_ratings[\"female_score\"].values()]\n",
        "male_score_successful_passing_ratings = [i[\"rating\"] for i in avg_successful_passing_ratings[\"male_score\"].values()]"
      ],
      "metadata": {
        "id": "zpZZLV3C9v-J"
      },
      "execution_count": null,
      "outputs": []
    },
    {
      "cell_type": "code",
      "source": [
        "np.mean([i[\"rating\"] for i in avg_successful_passing_ratings[\"female_score\"].values()])"
      ],
      "metadata": {
        "colab": {
          "base_uri": "https://localhost:8080/"
        },
        "id": "9-_6E8aXMEqd",
        "outputId": "64f3409b-d882-4b46-ad68-706f26acc86c"
      },
      "execution_count": null,
      "outputs": [
        {
          "output_type": "execute_result",
          "data": {
            "text/plain": [
              "0.012321552"
            ]
          },
          "metadata": {},
          "execution_count": 118
        }
      ]
    },
    {
      "cell_type": "code",
      "source": [
        "np.mean([i[\"rating\"] for i in avg_successful_passing_ratings[\"male_score\"].values()])"
      ],
      "metadata": {
        "colab": {
          "base_uri": "https://localhost:8080/"
        },
        "id": "ee5pE1NEMFPj",
        "outputId": "8bd31e48-8d8a-4bab-c52a-6fef1d244aa3"
      },
      "execution_count": null,
      "outputs": [
        {
          "output_type": "execute_result",
          "data": {
            "text/plain": [
              "0.012210332"
            ]
          },
          "metadata": {},
          "execution_count": 119
        }
      ]
    },
    {
      "cell_type": "code",
      "source": [
        "np.mean([i[\"rating\"] for i in avg_successful_passing_ratings[\"female_concede\"].values()])"
      ],
      "metadata": {
        "colab": {
          "base_uri": "https://localhost:8080/"
        },
        "id": "ra6-d1FEMFSL",
        "outputId": "ca40dbf4-2841-4e51-834f-0f768afd5eeb"
      },
      "execution_count": null,
      "outputs": [
        {
          "output_type": "execute_result",
          "data": {
            "text/plain": [
              "0.003078434"
            ]
          },
          "metadata": {},
          "execution_count": 120
        }
      ]
    },
    {
      "cell_type": "code",
      "source": [
        "np.mean([i[\"rating\"] for i in avg_successful_passing_ratings[\"male_concede\"].values()])"
      ],
      "metadata": {
        "colab": {
          "base_uri": "https://localhost:8080/"
        },
        "id": "tgJd6PqfMFUK",
        "outputId": "7a7a6cd0-e7db-4b6a-e491-11a420b9a85f"
      },
      "execution_count": null,
      "outputs": [
        {
          "output_type": "execute_result",
          "data": {
            "text/plain": [
              "0.0022255206"
            ]
          },
          "metadata": {},
          "execution_count": 121
        }
      ]
    },
    {
      "cell_type": "code",
      "source": [
        "female_concede_successful_passing_ratings = [i[\"rating\"] for i in avg_successful_passing_ratings[\"female_concede\"].values()]\n",
        "male_concede_successful_passing_ratings = [i[\"rating\"] for i in avg_successful_passing_ratings[\"male_concede\"].values()]"
      ],
      "metadata": {
        "id": "bOFla0gcBEgp"
      },
      "execution_count": null,
      "outputs": []
    },
    {
      "cell_type": "code",
      "source": [
        "with open('./drive/MyDrive/master/dumps/avg_successful_passing_ratings.json', 'wb') as f:\n",
        "    pickle.dump(avg_successful_passing_ratings, f)"
      ],
      "metadata": {
        "id": "cxgX9vtXCwmj"
      },
      "execution_count": null,
      "outputs": []
    },
    {
      "cell_type": "markdown",
      "source": [
        "**Train a separate model**"
      ],
      "metadata": {
        "id": "zdF1KRYjrG-5"
      }
    },
    {
      "cell_type": "code",
      "source": [
        "X_f_train['time_interval'] = classify_time(X_f_train)\n",
        "X_f_train.drop(\"time_spent\", axis=1, inplace=True)\n",
        "X_f_train_enc = encoder.transform(X_f_train[[\"type_name\", \"result_id\", \"bodypart_id\", \"time_interval\"]])\n",
        "X_f_train_final = X_f_train.drop([\"type_name\", \"result_id\", \"bodypart_id\", \"time_interval\"], axis=1).join(pd.DataFrame.sparse.from_spmatrix(X_f_train_enc)).to_numpy()"
      ],
      "metadata": {
        "id": "Yc_L5ExvNd3D"
      },
      "execution_count": null,
      "outputs": []
    },
    {
      "cell_type": "code",
      "source": [
        "for n in range(5, 13):\n",
        "    y_f_score_train = pd.read_csv('./drive/MyDrive/master/dumps/y_score_f_train_' + str(n) + '.csv')\n",
        "    y_f_concede_train = pd.read_csv('./drive/MyDrive/master/dumps/y_concede_f_train_' + str(n) + '.csv')\n",
        "\n",
        "    y_score_train = y_f_score_train.astype(int).to_numpy()\n",
        "    y_concede_train = y_f_concede_train.astype(int).to_numpy()\n",
        "\n",
        "    x_torch = torch.from_numpy(X_f_train_final).type(torch.FloatTensor).to(device)\n",
        "    y_torch = torch.from_numpy(y_score_train).type(torch.FloatTensor).reshape(-1, 1).to(device)\n",
        "\n",
        "    model = NeuralNetwork(n_x).to(device)\n",
        "    optimizer=torch.optim.SGD(model.parameters(),lr=0.01)\n",
        "\n",
        "    number_of_epochs=3500\n",
        "    all_loss = []\n",
        "    print(\"Learning. n =\", n)\n",
        "    for epoch in range(number_of_epochs):\n",
        "        y_prediction=model(x_torch)\n",
        "        loss=criterion(y_prediction,y_torch)\n",
        "        loss.backward()\n",
        "        all_loss.append(loss.item())\n",
        "        optimizer.step()\n",
        "        optimizer.zero_grad()\n",
        "        if (epoch+1)%500 == 0:\n",
        "            print('epoch:', epoch+1, ', loss=',loss.item())\n",
        "\n",
        "    plt.figure()\n",
        "    plt.plot(all_loss)\n",
        "    plt.show()\n",
        "\n",
        "    model_save_name = 'score_model_y_f_' + str(n) + '.pt'\n",
        "    path = F\"./drive/MyDrive/master/models/{model_save_name}\"\n",
        "    torch.save(model.state_dict(), path)\n",
        "\n",
        "\n",
        "    x_torch = torch.from_numpy(X_f_train_final).type(torch.FloatTensor).to(device)\n",
        "    y_torch = torch.from_numpy(y_concede_train).type(torch.FloatTensor).reshape(-1, 1).to(device)\n",
        "\n",
        "    model = NeuralNetwork(n_x).to(device)\n",
        "    optimizer=torch.optim.SGD(model.parameters(),lr=0.0075)\n",
        "\n",
        "\n",
        "    all_loss = []\n",
        "    for epoch in range(number_of_epochs):\n",
        "        y_prediction=model(x_torch)\n",
        "        loss=criterion(y_prediction,y_torch)\n",
        "        loss.backward()\n",
        "        all_loss.append(loss.item())\n",
        "        optimizer.step()\n",
        "        optimizer.zero_grad()\n",
        "        if (epoch+1)%500 == 0:\n",
        "            print('epoch:', epoch+1, ', loss=',loss.item())\n",
        "\n",
        "    plt.figure()\n",
        "    plt.plot(all_loss)\n",
        "    plt.show()\n",
        "\n",
        "    model_save_name = 'concede_model_y_f_' + str(n) + '.pt'\n",
        "    path = F\"./drive/MyDrive/master/models/{model_save_name}\"\n",
        "    torch.save(model.state_dict(), path)\n"
      ],
      "metadata": {
        "colab": {
          "base_uri": "https://localhost:8080/",
          "height": 1000
        },
        "id": "dlaqTrMfNGmW",
        "outputId": "4b8e42f6-aef5-4905-e4f0-bee2d5185166"
      },
      "execution_count": null,
      "outputs": [
        {
          "output_type": "stream",
          "name": "stdout",
          "text": [
            "Learning. n = 5\n",
            "epoch: 500 , loss= 0.05655848979949951\n",
            "epoch: 1000 , loss= 0.055292483419179916\n",
            "epoch: 1500 , loss= 0.054212536662817\n",
            "epoch: 2000 , loss= 0.05271458625793457\n",
            "epoch: 2500 , loss= 0.051870815455913544\n",
            "epoch: 3000 , loss= 0.05106532573699951\n",
            "epoch: 3500 , loss= 0.05026078596711159\n"
          ]
        },
        {
          "output_type": "display_data",
          "data": {
            "image/png": "[encoded data removed]",
            "text/plain": [
              "<Figure size 432x288 with 1 Axes>"
            ]
          },
          "metadata": {
            "needs_background": "light"
          }
        },
        {
          "output_type": "stream",
          "name": "stdout",
          "text": [
            "epoch: 500 , loss= 0.0140501968562603\n",
            "epoch: 1000 , loss= 0.01369757391512394\n",
            "epoch: 1500 , loss= 0.013522285036742687\n",
            "epoch: 2000 , loss= 0.013404070399701595\n",
            "epoch: 2500 , loss= 0.013311615213751793\n",
            "epoch: 3000 , loss= 0.013232938945293427\n",
            "epoch: 3500 , loss= 0.013162851333618164\n"
          ]
        },
        {
          "output_type": "display_data",
          "data": {
            "image/png": "[encoded data removed]",
            "text/plain": [
              "<Figure size 432x288 with 1 Axes>"
            ]
          },
          "metadata": {
            "needs_background": "light"
          }
        },
        {
          "output_type": "stream",
          "name": "stdout",
          "text": [
            "Learning. n = 6\n",
            "epoch: 500 , loss= 0.06558903306722641\n",
            "epoch: 1000 , loss= 0.0636523887515068\n",
            "epoch: 1500 , loss= 0.06210507079958916\n",
            "epoch: 2000 , loss= 0.060707543045282364\n",
            "epoch: 2500 , loss= 0.05940792337059975\n",
            "epoch: 3000 , loss= 0.05817881599068642\n",
            "epoch: 3500 , loss= 0.0570056289434433\n"
          ]
        },
        {
          "output_type": "display_data",
          "data": {
            "image/png": "[encoded data removed]",
            "text/plain": [
              "<Figure size 432x288 with 1 Axes>"
            ]
          },
          "metadata": {
            "needs_background": "light"
          }
        },
        {
          "output_type": "stream",
          "name": "stdout",
          "text": [
            "epoch: 500 , loss= 0.018212374299764633\n",
            "epoch: 1000 , loss= 0.017833847552537918\n",
            "epoch: 1500 , loss= 0.0176339540630579\n",
            "epoch: 2000 , loss= 0.017497951164841652\n",
            "epoch: 2500 , loss= 0.01739288493990898\n",
            "epoch: 3000 , loss= 0.017303865402936935\n",
            "epoch: 3500 , loss= 0.017224222421646118\n"
          ]
        },
        {
          "output_type": "display_data",
          "data": {
            "image/png": "[encoded data removed]",
            "text/plain": [
              "<Figure size 432x288 with 1 Axes>"
            ]
          },
          "metadata": {
            "needs_background": "light"
          }
        },
        {
          "output_type": "stream",
          "name": "stdout",
          "text": [
            "Learning. n = 7\n",
            "epoch: 500 , loss= 0.06776529550552368\n",
            "epoch: 1000 , loss= 0.06660754233598709\n",
            "epoch: 1500 , loss= 0.0655863806605339\n",
            "epoch: 2000 , loss= 0.06453566998243332\n",
            "epoch: 2500 , loss= 0.06363289058208466\n",
            "epoch: 3000 , loss= 0.06278657913208008\n",
            "epoch: 3500 , loss= 0.061977677047252655\n"
          ]
        },
        {
          "output_type": "display_data",
          "data": {
            "image/png": "[encoded data removed]",
            "text/plain": [
              "<Figure size 432x288 with 1 Axes>"
            ]
          },
          "metadata": {
            "needs_background": "light"
          }
        },
        {
          "output_type": "stream",
          "name": "stdout",
          "text": [
            "epoch: 500 , loss= 0.02083955891430378\n",
            "epoch: 1000 , loss= 0.02064429596066475\n",
            "epoch: 1500 , loss= 0.02049785479903221\n",
            "epoch: 2000 , loss= 0.02036849595606327\n",
            "epoch: 2500 , loss= 0.02024787850677967\n",
            "epoch: 3000 , loss= 0.020131610333919525\n",
            "epoch: 3500 , loss= 0.020017266273498535\n"
          ]
        },
        {
          "output_type": "display_data",
          "data": {
            "image/png": "[encoded data removed]",
            "text/plain": [
              "<Figure size 432x288 with 1 Axes>"
            ]
          },
          "metadata": {
            "needs_background": "light"
          }
        },
        {
          "output_type": "stream",
          "name": "stdout",
          "text": [
            "Learning. n = 8\n",
            "epoch: 500 , loss= 0.07432280480861664\n",
            "epoch: 1000 , loss= 0.07291099429130554\n",
            "epoch: 1500 , loss= 0.07152343541383743\n",
            "epoch: 2000 , loss= 0.0704318955540657\n",
            "epoch: 2500 , loss= 0.06956256926059723\n",
            "epoch: 3000 , loss= 0.06874626129865646\n",
            "epoch: 3500 , loss= 0.0679704025387764\n"
          ]
        },
        {
          "output_type": "display_data",
          "data": {
            "image/png": "[encoded data removed]",
            "text/plain": [
              "<Figure size 432x288 with 1 Axes>"
            ]
          },
          "metadata": {
            "needs_background": "light"
          }
        },
        {
          "output_type": "stream",
          "name": "stdout",
          "text": [
            "epoch: 500 , loss= 0.02452995628118515\n",
            "epoch: 1000 , loss= 0.024120615795254707\n",
            "epoch: 1500 , loss= 0.02387724071741104\n",
            "epoch: 2000 , loss= 0.02369784191250801\n",
            "epoch: 2500 , loss= 0.023547345772385597\n",
            "epoch: 3000 , loss= 0.023412248119711876\n",
            "epoch: 3500 , loss= 0.023285532370209694\n"
          ]
        },
        {
          "output_type": "display_data",
          "data": {
            "image/png": "[encoded data removed]",
            "text/plain": [
              "<Figure size 432x288 with 1 Axes>"
            ]
          },
          "metadata": {
            "needs_background": "light"
          }
        },
        {
          "output_type": "stream",
          "name": "stdout",
          "text": [
            "Learning. n = 9\n",
            "epoch: 500 , loss= 0.08378574252128601\n",
            "epoch: 1000 , loss= 0.08233471214771271\n",
            "epoch: 1500 , loss= 0.08104270696640015\n",
            "epoch: 2000 , loss= 0.07978033274412155\n",
            "epoch: 2500 , loss= 0.0785466656088829\n",
            "epoch: 3000 , loss= 0.07732943445444107\n",
            "epoch: 3500 , loss= 0.0761604905128479\n"
          ]
        },
        {
          "output_type": "display_data",
          "data": {
            "image/png": "[encoded data removed]",
            "text/plain": [
              "<Figure size 432x288 with 1 Axes>"
            ]
          },
          "metadata": {
            "needs_background": "light"
          }
        },
        {
          "output_type": "stream",
          "name": "stdout",
          "text": [
            "epoch: 500 , loss= 0.028078492730855942\n",
            "epoch: 1000 , loss= 0.027436021715402603\n",
            "epoch: 1500 , loss= 0.027049759402871132\n",
            "epoch: 2000 , loss= 0.02679714933037758\n",
            "epoch: 2500 , loss= 0.026589179411530495\n",
            "epoch: 3000 , loss= 0.026396501809358597\n",
            "epoch: 3500 , loss= 0.026213502511382103\n"
          ]
        },
        {
          "output_type": "display_data",
          "data": {
            "image/png": "[encoded data removed]",
            "text/plain": [
              "<Figure size 432x288 with 1 Axes>"
            ]
          },
          "metadata": {
            "needs_background": "light"
          }
        },
        {
          "output_type": "stream",
          "name": "stdout",
          "text": [
            "Learning. n = 10\n",
            "epoch: 500 , loss= 0.0908261314034462\n",
            "epoch: 1000 , loss= 0.08909816294908524\n",
            "epoch: 1500 , loss= 0.08748383074998856\n",
            "epoch: 2000 , loss= 0.08587931841611862\n",
            "epoch: 2500 , loss= 0.08426150679588318\n",
            "epoch: 3000 , loss= 0.08263874053955078\n",
            "epoch: 3500 , loss= 0.08103343099355698\n"
          ]
        },
        {
          "output_type": "display_data",
          "data": {
            "image/png": "[encoded data removed]",
            "text/plain": [
              "<Figure size 432x288 with 1 Axes>"
            ]
          },
          "metadata": {
            "needs_background": "light"
          }
        },
        {
          "output_type": "stream",
          "name": "stdout",
          "text": [
            "epoch: 500 , loss= 0.03097703866660595\n",
            "epoch: 1000 , loss= 0.03063170798122883\n",
            "epoch: 1500 , loss= 0.03039194829761982\n",
            "epoch: 2000 , loss= 0.030185207724571228\n",
            "epoch: 2500 , loss= 0.02999117597937584\n",
            "epoch: 3000 , loss= 0.029802633449435234\n",
            "epoch: 3500 , loss= 0.029616961255669594\n"
          ]
        },
        {
          "output_type": "display_data",
          "data": {
            "image/png": "[encoded data removed]",
            "text/plain": [
              "<Figure size 432x288 with 1 Axes>"
            ]
          },
          "metadata": {
            "needs_background": "light"
          }
        },
        {
          "output_type": "stream",
          "name": "stdout",
          "text": [
            "Learning. n = 11\n",
            "epoch: 500 , loss= 0.09008955955505371\n",
            "epoch: 1000 , loss= 0.08808120340108871\n",
            "epoch: 1500 , loss= 0.08654005080461502\n",
            "epoch: 2000 , loss= 0.08518896996974945\n",
            "epoch: 2500 , loss= 0.08396762609481812\n",
            "epoch: 3000 , loss= 0.08281809836626053\n",
            "epoch: 3500 , loss= 0.08175842463970184\n"
          ]
        },
        {
          "output_type": "display_data",
          "data": {
            "image/png": "[encoded data removed]",
            "text/plain": [
              "<Figure size 432x288 with 1 Axes>"
            ]
          },
          "metadata": {
            "needs_background": "light"
          }
        },
        {
          "output_type": "stream",
          "name": "stdout",
          "text": [
            "epoch: 500 , loss= 0.033110227435827255\n",
            "epoch: 1000 , loss= 0.032451871782541275\n",
            "epoch: 1500 , loss= 0.032091349363327026\n",
            "epoch: 2000 , loss= 0.03181303292512894\n",
            "epoch: 2500 , loss= 0.03156561776995659\n",
            "epoch: 3000 , loss= 0.031334683299064636\n",
            "epoch: 3500 , loss= 0.03110966645181179\n"
          ]
        },
        {
          "output_type": "display_data",
          "data": {
            "image/png": "[encoded data removed]",
            "text/plain": [
              "<Figure size 432x288 with 1 Axes>"
            ]
          },
          "metadata": {
            "needs_background": "light"
          }
        },
        {
          "output_type": "stream",
          "name": "stdout",
          "text": [
            "Learning. n = 12\n",
            "epoch: 500 , loss= 0.09425590932369232\n",
            "epoch: 1000 , loss= 0.09203295409679413\n",
            "epoch: 1500 , loss= 0.09048151969909668\n",
            "epoch: 2000 , loss= 0.08917684853076935\n",
            "epoch: 2500 , loss= 0.0880362018942833\n",
            "epoch: 3000 , loss= 0.08702263236045837\n",
            "epoch: 3500 , loss= 0.08609915524721146\n"
          ]
        },
        {
          "output_type": "display_data",
          "data": {
            "image/png": "[encoded data removed]",
            "text/plain": [
              "<Figure size 432x288 with 1 Axes>"
            ]
          },
          "metadata": {
            "needs_background": "light"
          }
        },
        {
          "output_type": "stream",
          "name": "stdout",
          "text": [
            "epoch: 500 , loss= 0.03713846206665039\n",
            "epoch: 1000 , loss= 0.03639284148812294\n",
            "epoch: 1500 , loss= 0.035956691950559616\n",
            "epoch: 2000 , loss= 0.03560119867324829\n",
            "epoch: 2500 , loss= 0.03528081253170967\n",
            "epoch: 3000 , loss= 0.03498260676860809\n",
            "epoch: 3500 , loss= 0.03470710292458534\n"
          ]
        },
        {
          "output_type": "display_data",
          "data": {
            "image/png": "[encoded data removed]",
            "text/plain": [
              "<Figure size 432x288 with 1 Axes>"
            ]
          },
          "metadata": {
            "needs_background": "light"
          }
        }
      ]
    },
    {
      "cell_type": "markdown",
      "source": [
        "**Validate the separate model**"
      ],
      "metadata": {
        "id": "-Cb777SQlPmF"
      }
    },
    {
      "cell_type": "code",
      "source": [
        "n_x = 40\n",
        "model = NeuralNetwork(n_x).to(device)\n",
        "\n",
        "\n",
        "for n in range(5, 13):\n",
        "\n",
        "    t = 0\n",
        "    t_n = 0\n",
        "    c = 0\n",
        "    murder_by_numbers = 0\n",
        "\n",
        "    model_load_name = 'score_model_y_f_' + str(n) + '.pt'\n",
        "    path = F\"./drive/MyDrive/master/models/{model_load_name}\"\n",
        "    model.load_state_dict(torch.load(path))\n",
        "\n",
        "    for match_id in ids_f_val:\n",
        "        match = matches_f[matches_f[\"match_id\"] == match_id]\n",
        "        home_score = match.iloc[0][\"home_score\"]\n",
        "        away_score = match.iloc[0][\"away_score\"]\n",
        "        if home_score != away_score:\n",
        "            c += 1\n",
        "            home_team_id = match[\"home_team\"].iloc[0][\"home_team_id\"]\n",
        "            away_team_id = match[\"away_team\"].iloc[0][\"away_team_id\"]\n",
        "            match_to_rate = transformer(matches_f, [match_id], loader)\n",
        "            match_to_rate['time_interval'] = classify_time(match_to_rate)\n",
        "            match_to_rate.drop(\"time_spent\", axis=1, inplace=True)\n",
        "            match_to_rate_enc = encoder.transform(match_to_rate[[\"type_name\", \"result_id\", \"bodypart_id\", \"time_interval\"]])\n",
        "            match_to_rate = match_to_rate.drop([\"type_name\", \"result_id\", \"bodypart_id\", \"time_interval\"], axis=1).join(pd.DataFrame.sparse.from_spmatrix(match_to_rate_enc)).to_numpy()\n",
        "            df_teams = loader.teams(match_id)\n",
        "            df_players = loader.players(match_id)\n",
        "            df_events = loader.events(match_id)\n",
        "            df_actions = spadl.statsbomb.convert_to_actions(df_events, home_team_id=home_team_id)\n",
        "            df_actions = (\n",
        "                spadl.add_names(df_actions)\n",
        "                .merge(loader.teams(game_id=match_id))\n",
        "                .merge(loader.players(game_id=match_id))\n",
        "            )\n",
        "            df_actions = df_actions.sort_values(by=['action_id'])\n",
        "            team_ids = df_actions[\"team_id\"]\n",
        "            match_to_rate_torch = torch.from_numpy(match_to_rate).type(torch.FloatTensor).to(device)\n",
        "            with torch.no_grad():\n",
        "                match_to_rate_pred=model(match_to_rate_torch).flatten()\n",
        "            match_to_rate_pred = match_to_rate_pred.cpu().numpy()\n",
        "            df_actions[\"rating\"] = match_to_rate_pred\n",
        "            team_ratings = df_actions[[\"team_id\", \"rating\"]].groupby(\"team_id\").agg('mean')\n",
        "            team_non_shot_ratings = df_actions[df_actions[\"type_id\"] != 11][[\"team_id\", \"rating\"]].groupby(\"team_id\").agg('mean')\n",
        "            if ((home_score > away_score) and (team_ratings[\"rating\"][home_team_id] > team_ratings[\"rating\"][away_team_id])) or ((home_score < away_score) and (team_ratings[\"rating\"][home_team_id] < team_ratings[\"rating\"][away_team_id])):\n",
        "                t += 1\n",
        "            if ((home_score > away_score) and (team_non_shot_ratings[\"rating\"][home_team_id] > team_non_shot_ratings[\"rating\"][away_team_id])) or ((home_score < away_score) and (team_non_shot_ratings[\"rating\"][home_team_id] < team_non_shot_ratings[\"rating\"][away_team_id])):\n",
        "                t_n += 1\n",
        "            home_actions = df_actions[df_actions[\"team_id\"] == home_team_id].shape[0]\n",
        "            away_actions = df_actions[df_actions[\"team_id\"] == away_team_id].shape[0]\n",
        "            if ((home_score > away_score) and (home_actions > away_actions)) or ((home_score < away_score) and (home_actions < away_actions)):\n",
        "                murder_by_numbers += 1\n",
        "    print('n = ', str(n))\n",
        "    print('true values =', str(t))\n",
        "    print('true non shot values =', str(t_n))\n",
        "    print('all scores = ', str(c))"
      ],
      "metadata": {
        "colab": {
          "base_uri": "https://localhost:8080/"
        },
        "id": "HkYg7RtllPO1",
        "outputId": "2d023760-9763-4115-921a-73d4e6f47825"
      },
      "execution_count": null,
      "outputs": [
        {
          "output_type": "stream",
          "name": "stdout",
          "text": [
            "n =  5\n",
            "true values = 44\n",
            "true non shot values = 43\n",
            "all scores =  75\n",
            "n =  6\n",
            "true values = 41\n",
            "true non shot values = 40\n",
            "all scores =  75\n",
            "n =  7\n",
            "true values = 44\n",
            "true non shot values = 45\n",
            "all scores =  75\n",
            "n =  8\n",
            "true values = 43\n",
            "true non shot values = 44\n",
            "all scores =  75\n",
            "n =  9\n",
            "true values = 43\n",
            "true non shot values = 44\n",
            "all scores =  75\n",
            "n =  10\n",
            "true values = 42\n",
            "true non shot values = 42\n",
            "all scores =  75\n",
            "n =  11\n",
            "true values = 45\n",
            "true non shot values = 43\n",
            "all scores =  75\n",
            "n =  12\n",
            "true values = 44\n",
            "true non shot values = 44\n",
            "all scores =  75\n"
          ]
        }
      ]
    },
    {
      "cell_type": "code",
      "source": [
        "y_f_score_train = pd.read_csv('./drive/MyDrive/master/dumps/y_score_f_train_11.csv')\n",
        "\n",
        "y_score_train = y_f_score_train.astype(int).to_numpy()\n",
        "\n",
        "x_torch = torch.from_numpy(X_f_train_final).type(torch.FloatTensor).to(device)\n",
        "y_torch = torch.from_numpy(y_score_train).type(torch.FloatTensor).reshape(-1, 1).to(device)\n",
        "\n",
        "model = NeuralNetwork(n_x).to(device)\n",
        "optimizer=torch.optim.SGD(model.parameters(),lr=0.01)\n",
        "\n",
        "number_of_epochs=10000\n",
        "all_loss = []\n",
        "print(\"Learning. n = 11\")\n",
        "for epoch in range(number_of_epochs):\n",
        "    y_prediction=model(x_torch)\n",
        "    loss=criterion(y_prediction,y_torch)\n",
        "    loss.backward()\n",
        "    all_loss.append(loss.item())\n",
        "    optimizer.step()\n",
        "    optimizer.zero_grad()\n",
        "    if (epoch+1)%1000 == 0:\n",
        "        print('epoch:', epoch+1, ', loss=',loss.item())\n",
        "\n",
        "plt.figure()\n",
        "plt.plot(all_loss)\n",
        "plt.show()\n",
        "\n",
        "model_save_name = 'score_model_y_f_extended_11.pt'\n",
        "path = F\"./drive/MyDrive/master/models/{model_save_name}\"\n",
        "torch.save(model.state_dict(), path)\n"
      ],
      "metadata": {
        "colab": {
          "base_uri": "https://localhost:8080/",
          "height": 452
        },
        "id": "-OAqfUP_uzLM",
        "outputId": "aa4cc3be-daf8-43b1-9b91-07770464b399"
      },
      "execution_count": null,
      "outputs": [
        {
          "output_type": "stream",
          "name": "stdout",
          "text": [
            "Learning. n = 11\n",
            "epoch: 1000 , loss= 0.09123973548412323\n",
            "epoch: 2000 , loss= 0.08707673847675323\n",
            "epoch: 3000 , loss= 0.08367905020713806\n",
            "epoch: 4000 , loss= 0.08079450577497482\n",
            "epoch: 5000 , loss= 0.07819820940494537\n",
            "epoch: 6000 , loss= 0.07596784830093384\n",
            "epoch: 7000 , loss= 0.07410923391580582\n",
            "epoch: 8000 , loss= 0.07256586104631424\n",
            "epoch: 9000 , loss= 0.07130111753940582\n",
            "epoch: 10000 , loss= 0.07029737532138824\n"
          ]
        },
        {
          "output_type": "display_data",
          "data": {
            "image/png": "[encoded data removed]",
            "text/plain": [
              "<Figure size 432x288 with 1 Axes>"
            ]
          },
          "metadata": {
            "needs_background": "light"
          }
        }
      ]
    },
    {
      "cell_type": "code",
      "source": [
        "t = 0\n",
        "t_n = 0\n",
        "c = 0\n",
        "murder_by_numbers = 0\n",
        "\n",
        "model_load_name = 'score_model_y_f_extended_11.pt'\n",
        "path = F\"./drive/MyDrive/master/models/{model_load_name}\"\n",
        "model.load_state_dict(torch.load(path))\n",
        "\n",
        "for match_id in ids_f_val:\n",
        "    match = matches_f[matches_f[\"match_id\"] == match_id]\n",
        "    home_score = match.iloc[0][\"home_score\"]\n",
        "    away_score = match.iloc[0][\"away_score\"]\n",
        "    if home_score != away_score:\n",
        "        c += 1\n",
        "        home_team_id = match[\"home_team\"].iloc[0][\"home_team_id\"]\n",
        "        away_team_id = match[\"away_team\"].iloc[0][\"away_team_id\"]\n",
        "        match_to_rate = transformer(matches_f, [match_id], loader)\n",
        "        match_to_rate['time_interval'] = classify_time(match_to_rate)\n",
        "        match_to_rate.drop(\"time_spent\", axis=1, inplace=True)\n",
        "        match_to_rate_enc = encoder.transform(match_to_rate[[\"type_name\", \"result_id\", \"bodypart_id\", \"time_interval\"]])\n",
        "        match_to_rate = match_to_rate.drop([\"type_name\", \"result_id\", \"bodypart_id\", \"time_interval\"], axis=1).join(pd.DataFrame.sparse.from_spmatrix(match_to_rate_enc)).to_numpy()\n",
        "        df_teams = loader.teams(match_id)\n",
        "        df_players = loader.players(match_id)\n",
        "        df_events = loader.events(match_id)\n",
        "        df_actions = spadl.statsbomb.convert_to_actions(df_events, home_team_id=home_team_id)\n",
        "        df_actions = (\n",
        "            spadl.add_names(df_actions)\n",
        "            .merge(loader.teams(game_id=match_id))\n",
        "            .merge(loader.players(game_id=match_id))\n",
        "        )\n",
        "        df_actions = df_actions.sort_values(by=['action_id'])\n",
        "        team_ids = df_actions[\"team_id\"]\n",
        "        match_to_rate_torch = torch.from_numpy(match_to_rate).type(torch.FloatTensor).to(device)\n",
        "        with torch.no_grad():\n",
        "            match_to_rate_pred=model(match_to_rate_torch).flatten()\n",
        "        match_to_rate_pred = match_to_rate_pred.cpu().numpy()\n",
        "        df_actions[\"rating\"] = match_to_rate_pred\n",
        "        team_ratings = df_actions[[\"team_id\", \"rating\"]].groupby(\"team_id\").agg('mean')\n",
        "        team_non_shot_ratings = df_actions[df_actions[\"type_id\"] != 11][[\"team_id\", \"rating\"]].groupby(\"team_id\").agg('mean')\n",
        "        if ((home_score > away_score) and (team_ratings[\"rating\"][home_team_id] > team_ratings[\"rating\"][away_team_id])) or ((home_score < away_score) and (team_ratings[\"rating\"][home_team_id] < team_ratings[\"rating\"][away_team_id])):\n",
        "            t += 1\n",
        "        if ((home_score > away_score) and (team_non_shot_ratings[\"rating\"][home_team_id] > team_non_shot_ratings[\"rating\"][away_team_id])) or ((home_score < away_score) and (team_non_shot_ratings[\"rating\"][home_team_id] < team_non_shot_ratings[\"rating\"][away_team_id])):\n",
        "            t_n += 1\n",
        "        home_actions = df_actions[df_actions[\"team_id\"] == home_team_id].shape[0]\n",
        "        away_actions = df_actions[df_actions[\"team_id\"] == away_team_id].shape[0]\n",
        "print('true values =', str(t))\n",
        "print('true non shot values =', str(t_n))\n",
        "print('all scores = ', str(c))"
      ],
      "metadata": {
        "colab": {
          "base_uri": "https://localhost:8080/"
        },
        "id": "wEuEBp14x9Us",
        "outputId": "32683ce9-caa5-4acc-ba65-b4d808856445"
      },
      "execution_count": null,
      "outputs": [
        {
          "output_type": "stream",
          "name": "stdout",
          "text": [
            "true values = 48\n",
            "true non shot values = 46\n",
            "all scores =  75\n"
          ]
        }
      ]
    },
    {
      "cell_type": "code",
      "source": [
        "binom_test(48, 75, .5, alternative='greater')"
      ],
      "metadata": {
        "colab": {
          "base_uri": "https://localhost:8080/"
        },
        "id": "rOhjy5sm0NFH",
        "outputId": "db484f14-c666-42ee-b017-764c5782221a"
      },
      "execution_count": null,
      "outputs": [
        {
          "output_type": "execute_result",
          "data": {
            "text/plain": [
              "0.010149203495053714"
            ]
          },
          "metadata": {},
          "execution_count": 155
        }
      ]
    },
    {
      "cell_type": "code",
      "source": [
        "n_x = 40\n",
        "model = NeuralNetwork(n_x).to(device)\n",
        "\n",
        "\n",
        "for n in range(5, 13):\n",
        "\n",
        "    t = 0\n",
        "    t_n = 0\n",
        "    c = 0\n",
        "    murder_by_numbers = 0\n",
        "\n",
        "    model_load_name = 'concede_model_y_f_' + str(n) + '.pt'\n",
        "    path = F\"./drive/MyDrive/master/models/{model_load_name}\"\n",
        "    model.load_state_dict(torch.load(path))\n",
        "\n",
        "    for match_id in ids_f_val:\n",
        "        match = matches_f[matches_f[\"match_id\"] == match_id]\n",
        "        home_score = match.iloc[0][\"home_score\"]\n",
        "        away_score = match.iloc[0][\"away_score\"]\n",
        "        if home_score != away_score:\n",
        "            c += 1\n",
        "            home_team_id = match[\"home_team\"].iloc[0][\"home_team_id\"]\n",
        "            away_team_id = match[\"away_team\"].iloc[0][\"away_team_id\"]\n",
        "            match_to_rate = transformer(matches_f, [match_id], loader)\n",
        "            match_to_rate['time_interval'] = classify_time(match_to_rate)\n",
        "            match_to_rate.drop(\"time_spent\", axis=1, inplace=True)\n",
        "            match_to_rate_enc = encoder.transform(match_to_rate[[\"type_name\", \"result_id\", \"bodypart_id\", \"time_interval\"]])\n",
        "            match_to_rate = match_to_rate.drop([\"type_name\", \"result_id\", \"bodypart_id\", \"time_interval\"], axis=1).join(pd.DataFrame.sparse.from_spmatrix(match_to_rate_enc)).to_numpy()\n",
        "            df_teams = loader.teams(match_id)\n",
        "            df_players = loader.players(match_id)\n",
        "            df_events = loader.events(match_id)\n",
        "            df_actions = spadl.statsbomb.convert_to_actions(df_events, home_team_id=home_team_id)\n",
        "            df_actions = (\n",
        "                spadl.add_names(df_actions)\n",
        "                .merge(loader.teams(game_id=match_id))\n",
        "                .merge(loader.players(game_id=match_id))\n",
        "            )\n",
        "            df_actions = df_actions.sort_values(by=['action_id'])\n",
        "            team_ids = df_actions[\"team_id\"]\n",
        "            match_to_rate_torch = torch.from_numpy(match_to_rate).type(torch.FloatTensor).to(device)\n",
        "            with torch.no_grad():\n",
        "                match_to_rate_pred=model(match_to_rate_torch).flatten()\n",
        "            match_to_rate_pred = match_to_rate_pred.cpu().numpy()\n",
        "            df_actions[\"antirating\"] = match_to_rate_pred\n",
        "            team_antiratings = df_actions[[\"team_id\", \"antirating\"]].groupby(\"team_id\").agg('mean')\n",
        "            team_non_shot_ratings = df_actions[df_actions[\"type_id\"] != 11][[\"team_id\", \"antirating\"]].groupby(\"team_id\").agg('mean')\n",
        "            if ((home_score > away_score) and (team_antiratings[\"antirating\"][home_team_id] < team_antiratings[\"antirating\"][away_team_id])) or ((home_score < away_score) and (team_antiratings[\"antirating\"][home_team_id] > team_antiratings[\"antirating\"][away_team_id])):\n",
        "                t += 1\n",
        "    print('n = ', str(n))\n",
        "    print('true values =', str(t))\n",
        "    print('true non shot values =', str(t_n))\n",
        "    print('all scores =', str(c))"
      ],
      "metadata": {
        "colab": {
          "base_uri": "https://localhost:8080/"
        },
        "id": "XH_PdXOC0ReB",
        "outputId": "992f4987-3469-4ac1-b2dc-897d5cd29a76"
      },
      "execution_count": null,
      "outputs": [
        {
          "output_type": "stream",
          "name": "stdout",
          "text": [
            "n =  5\n",
            "true values = 38\n",
            "true non shot values = 0\n",
            "all scores = 75\n",
            "n =  6\n",
            "true values = 37\n",
            "true non shot values = 0\n",
            "all scores = 75\n",
            "n =  7\n",
            "true values = 37\n",
            "true non shot values = 0\n",
            "all scores = 75\n",
            "n =  8\n",
            "true values = 36\n",
            "true non shot values = 0\n",
            "all scores = 75\n",
            "n =  9\n",
            "true values = 37\n",
            "true non shot values = 0\n",
            "all scores = 75\n",
            "n =  10\n",
            "true values = 33\n",
            "true non shot values = 0\n",
            "all scores = 75\n",
            "n =  11\n",
            "true values = 31\n",
            "true non shot values = 0\n",
            "all scores = 75\n",
            "n =  12\n",
            "true values = 31\n",
            "true non shot values = 0\n",
            "all scores = 75\n"
          ]
        }
      ]
    },
    {
      "cell_type": "code",
      "source": [
        "y_f_concede_train = pd.read_csv('./drive/MyDrive/master/dumps/y_concede_f_train_5.csv')\n",
        "\n",
        "y_concede_train = y_f_concede_train.astype(int).to_numpy()\n",
        "\n",
        "x_torch = torch.from_numpy(X_f_train_final).type(torch.FloatTensor).to(device)\n",
        "y_torch = torch.from_numpy(y_concede_train).type(torch.FloatTensor).reshape(-1, 1).to(device)\n",
        "\n",
        "model = NeuralNetwork(n_x).to(device)\n",
        "optimizer=torch.optim.SGD(model.parameters(),lr=0.0075)\n",
        "\n",
        "number_of_epochs=10000\n",
        "all_loss = []\n",
        "for epoch in range(number_of_epochs):\n",
        "    y_prediction=model(x_torch)\n",
        "    loss=criterion(y_prediction,y_torch)\n",
        "    loss.backward()\n",
        "    all_loss.append(loss.item())\n",
        "    optimizer.step()\n",
        "    optimizer.zero_grad()\n",
        "    if (epoch+1)%1000 == 0:\n",
        "        print('epoch:', epoch+1, ', loss=',loss.item())\n",
        "\n",
        "plt.figure()\n",
        "plt.plot(all_loss)\n",
        "plt.show()\n",
        "\n",
        "model_save_name = 'concede_model_y_f_extended_5.pt'\n",
        "path = F\"./drive/MyDrive/master/models/{model_save_name}\"\n",
        "torch.save(model.state_dict(), path)\n"
      ],
      "metadata": {
        "colab": {
          "base_uri": "https://localhost:8080/",
          "height": 435
        },
        "id": "S3TgEuhU40mm",
        "outputId": "d71e470a-044a-4d9d-851d-b81174fa74c3"
      },
      "execution_count": null,
      "outputs": [
        {
          "output_type": "stream",
          "name": "stdout",
          "text": [
            "epoch: 1000 , loss= 0.01410540472716093\n",
            "epoch: 2000 , loss= 0.013760527595877647\n",
            "epoch: 3000 , loss= 0.013567907735705376\n",
            "epoch: 4000 , loss= 0.01343559194356203\n",
            "epoch: 5000 , loss= 0.013329094275832176\n",
            "epoch: 6000 , loss= 0.01323531661182642\n",
            "epoch: 7000 , loss= 0.013148385100066662\n",
            "epoch: 8000 , loss= 0.013063936494290829\n",
            "epoch: 9000 , loss= 0.012981035746634007\n",
            "epoch: 10000 , loss= 0.012899703346192837\n"
          ]
        },
        {
          "output_type": "display_data",
          "data": {
            "image/png": "[encoded data removed]",
            "text/plain": [
              "<Figure size 432x288 with 1 Axes>"
            ]
          },
          "metadata": {
            "needs_background": "light"
          }
        }
      ]
    },
    {
      "cell_type": "code",
      "source": [
        "n_x = 40\n",
        "model = NeuralNetwork(n_x).to(device)\n",
        "\n",
        "t = 0\n",
        "t_n = 0\n",
        "c = 0\n",
        "murder_by_numbers = 0\n",
        "\n",
        "model_load_name = 'concede_model_y_f_extended_5.pt'\n",
        "path = F\"./drive/MyDrive/master/models/{model_load_name}\"\n",
        "model.load_state_dict(torch.load(path))\n",
        "\n",
        "for match_id in ids_f_val:\n",
        "    match = matches_f[matches_f[\"match_id\"] == match_id]\n",
        "    home_score = match.iloc[0][\"home_score\"]\n",
        "    away_score = match.iloc[0][\"away_score\"]\n",
        "    if home_score != away_score:\n",
        "        c += 1\n",
        "        home_team_id = match[\"home_team\"].iloc[0][\"home_team_id\"]\n",
        "        away_team_id = match[\"away_team\"].iloc[0][\"away_team_id\"]\n",
        "        match_to_rate = transformer(matches_f, [match_id], loader)\n",
        "        match_to_rate['time_interval'] = classify_time(match_to_rate)\n",
        "        match_to_rate.drop(\"time_spent\", axis=1, inplace=True)\n",
        "        match_to_rate_enc = encoder.transform(match_to_rate[[\"type_name\", \"result_id\", \"bodypart_id\", \"time_interval\"]])\n",
        "        match_to_rate = match_to_rate.drop([\"type_name\", \"result_id\", \"bodypart_id\", \"time_interval\"], axis=1).join(pd.DataFrame.sparse.from_spmatrix(match_to_rate_enc)).to_numpy()\n",
        "        df_teams = loader.teams(match_id)\n",
        "        df_players = loader.players(match_id)\n",
        "        df_events = loader.events(match_id)\n",
        "        df_actions = spadl.statsbomb.convert_to_actions(df_events, home_team_id=home_team_id)\n",
        "        df_actions = (\n",
        "            spadl.add_names(df_actions)\n",
        "            .merge(loader.teams(game_id=match_id))\n",
        "            .merge(loader.players(game_id=match_id))\n",
        "        )\n",
        "        df_actions = df_actions.sort_values(by=['action_id'])\n",
        "        team_ids = df_actions[\"team_id\"]\n",
        "        match_to_rate_torch = torch.from_numpy(match_to_rate).type(torch.FloatTensor).to(device)\n",
        "        with torch.no_grad():\n",
        "            match_to_rate_pred=model(match_to_rate_torch).flatten()\n",
        "        match_to_rate_pred = match_to_rate_pred.cpu().numpy()\n",
        "        df_actions[\"antirating\"] = match_to_rate_pred\n",
        "        team_antiratings = df_actions[[\"team_id\", \"antirating\"]].groupby(\"team_id\").agg('mean')\n",
        "        team_non_shot_ratings = df_actions[df_actions[\"type_id\"] != 11][[\"team_id\", \"antirating\"]].groupby(\"team_id\").agg('mean')\n",
        "        if ((home_score > away_score) and (team_antiratings[\"antirating\"][home_team_id] < team_antiratings[\"antirating\"][away_team_id])) or ((home_score < away_score) and (team_antiratings[\"antirating\"][home_team_id] > team_antiratings[\"antirating\"][away_team_id])):\n",
        "            t += 1\n",
        "        home_actions = df_actions[df_actions[\"team_id\"] == home_team_id].shape[0]\n",
        "        away_actions = df_actions[df_actions[\"team_id\"] == away_team_id].shape[0]\n",
        "        if ((home_score < away_score) and (home_actions > away_actions)) or ((home_score > away_score) and (home_actions < away_actions)):\n",
        "            murder_by_numbers += 1\n",
        "\n",
        "print('true values =', str(t))\n",
        "print('true non shot values =', str(t_n))\n",
        "print('all scores =', str(c))"
      ],
      "metadata": {
        "colab": {
          "base_uri": "https://localhost:8080/"
        },
        "id": "05S0Pz477H1y",
        "outputId": "c8ae0216-d660-43f7-cb6a-5bd3e5f96419"
      },
      "execution_count": null,
      "outputs": [
        {
          "output_type": "stream",
          "name": "stdout",
          "text": [
            "n =  12\n",
            "true values = 39\n",
            "true non shot values = 0\n",
            "all scores = 75\n",
            "victory by number of actions = 23\n"
          ]
        }
      ]
    },
    {
      "cell_type": "code",
      "source": [
        "binom_test(43, 75, .5, \"greater\")"
      ],
      "metadata": {
        "colab": {
          "base_uri": "https://localhost:8080/"
        },
        "id": "PW1sdFDC9rpX",
        "outputId": "2deade9a-88d6-42ec-f119-9d4b6c60e983"
      },
      "execution_count": null,
      "outputs": [
        {
          "output_type": "execute_result",
          "data": {
            "text/plain": [
              "0.12402287094626394"
            ]
          },
          "metadata": {},
          "execution_count": 184
        }
      ]
    },
    {
      "cell_type": "code",
      "source": [
        "y_f_concede_train = pd.read_csv('./drive/MyDrive/master/dumps/y_concede_f_train_5.csv')\n",
        "\n",
        "y_concede_train = y_f_concede_train.astype(int).to_numpy()\n",
        "\n",
        "x_torch = torch.from_numpy(X_f_train_final).type(torch.FloatTensor).to(device)\n",
        "y_torch = torch.from_numpy(y_concede_train).type(torch.FloatTensor).reshape(-1, 1).to(device)\n",
        "\n",
        "model = NeuralNetwork(n_x).to(device)\n",
        "optimizer=torch.optim.SGD(model.parameters(),lr=0.0075)\n",
        "\n",
        "number_of_epochs=5000\n",
        "all_loss = []\n",
        "for epoch in range(number_of_epochs):\n",
        "    y_prediction=model(x_torch)\n",
        "    loss=criterion(y_prediction,y_torch)\n",
        "    loss.backward()\n",
        "    all_loss.append(loss.item())\n",
        "    optimizer.step()\n",
        "    optimizer.zero_grad()\n",
        "    if (epoch+1)%1000 == 0:\n",
        "        print('epoch:', epoch+1, ', loss=',loss.item())\n",
        "\n",
        "plt.figure()\n",
        "plt.plot(all_loss)\n",
        "plt.show()\n",
        "\n",
        "model_save_name = 'concede_model_y_f_semi_extended_5.pt'\n",
        "path = F\"./drive/MyDrive/master/models/{model_save_name}\"\n",
        "torch.save(model.state_dict(), path)\n"
      ],
      "metadata": {
        "colab": {
          "base_uri": "https://localhost:8080/",
          "height": 350
        },
        "id": "GG6sq7pEKaQm",
        "outputId": "64943c23-2f58-42af-b9d8-49d15099dcae"
      },
      "execution_count": null,
      "outputs": [
        {
          "output_type": "stream",
          "name": "stdout",
          "text": [
            "epoch: 1000 , loss= 0.013511520810425282\n",
            "epoch: 2000 , loss= 0.013348427601158619\n",
            "epoch: 3000 , loss= 0.013219306245446205\n",
            "epoch: 4000 , loss= 0.013108264654874802\n",
            "epoch: 5000 , loss= 0.013015608303248882\n"
          ]
        },
        {
          "output_type": "display_data",
          "data": {
            "image/png": "[encoded data removed]",
            "text/plain": [
              "<Figure size 432x288 with 1 Axes>"
            ]
          },
          "metadata": {
            "needs_background": "light"
          }
        }
      ]
    },
    {
      "cell_type": "code",
      "source": [
        "n_x = 40\n",
        "model = NeuralNetwork(n_x).to(device)\n",
        "\n",
        "t = 0\n",
        "c = 0\n",
        "\n",
        "model_load_name = 'concede_model_y_f_semi_extended_5.pt'\n",
        "path = F\"./drive/MyDrive/master/models/{model_load_name}\"\n",
        "model.load_state_dict(torch.load(path))\n",
        "\n",
        "for match_id in ids_f_val:\n",
        "    match = matches_f[matches_f[\"match_id\"] == match_id]\n",
        "    home_score = match.iloc[0][\"home_score\"]\n",
        "    away_score = match.iloc[0][\"away_score\"]\n",
        "    if home_score != away_score:\n",
        "        c += 1\n",
        "        home_team_id = match[\"home_team\"].iloc[0][\"home_team_id\"]\n",
        "        away_team_id = match[\"away_team\"].iloc[0][\"away_team_id\"]\n",
        "        match_to_rate = transformer(matches_f, [match_id], loader)\n",
        "        match_to_rate['time_interval'] = classify_time(match_to_rate)\n",
        "        match_to_rate.drop(\"time_spent\", axis=1, inplace=True)\n",
        "        match_to_rate_enc = encoder.transform(match_to_rate[[\"type_name\", \"result_id\", \"bodypart_id\", \"time_interval\"]])\n",
        "        match_to_rate = match_to_rate.drop([\"type_name\", \"result_id\", \"bodypart_id\", \"time_interval\"], axis=1).join(pd.DataFrame.sparse.from_spmatrix(match_to_rate_enc)).to_numpy()\n",
        "        df_teams = loader.teams(match_id)\n",
        "        df_players = loader.players(match_id)\n",
        "        df_events = loader.events(match_id)\n",
        "        df_actions = spadl.statsbomb.convert_to_actions(df_events, home_team_id=home_team_id)\n",
        "        df_actions = (\n",
        "            spadl.add_names(df_actions)\n",
        "            .merge(loader.teams(game_id=match_id))\n",
        "            .merge(loader.players(game_id=match_id))\n",
        "        )\n",
        "        df_actions = df_actions.sort_values(by=['action_id'])\n",
        "        team_ids = df_actions[\"team_id\"]\n",
        "        match_to_rate_torch = torch.from_numpy(match_to_rate).type(torch.FloatTensor).to(device)\n",
        "        with torch.no_grad():\n",
        "            match_to_rate_pred=model(match_to_rate_torch).flatten()\n",
        "        match_to_rate_pred = match_to_rate_pred.cpu().numpy()\n",
        "        df_actions[\"antirating\"] = match_to_rate_pred\n",
        "        team_antiratings = df_actions[[\"team_id\", \"antirating\"]].groupby(\"team_id\").agg('mean')\n",
        "        team_non_shot_ratings = df_actions[df_actions[\"type_id\"] != 11][[\"team_id\", \"antirating\"]].groupby(\"team_id\").agg('mean')\n",
        "        if ((home_score > away_score) and (team_antiratings[\"antirating\"][home_team_id] < team_antiratings[\"antirating\"][away_team_id])) or ((home_score < away_score) and (team_antiratings[\"antirating\"][home_team_id] > team_antiratings[\"antirating\"][away_team_id])):\n",
        "            t += 1\n",
        "        home_actions = df_actions[df_actions[\"team_id\"] == home_team_id].shape[0]\n",
        "        away_actions = df_actions[df_actions[\"team_id\"] == away_team_id].shape[0]\n",
        "        if ((home_score < away_score) and (home_actions > away_actions)) or ((home_score > away_score) and (home_actions < away_actions)):\n",
        "            murder_by_numbers += 1\n",
        "\n",
        "print('true values =', str(t))\n",
        "print('all scores =', str(c))"
      ],
      "metadata": {
        "colab": {
          "base_uri": "https://localhost:8080/"
        },
        "id": "BVs9H0mWLN9C",
        "outputId": "3fd60cf0-1d12-4f95-92d1-50394fbc41e9"
      },
      "execution_count": null,
      "outputs": [
        {
          "output_type": "stream",
          "name": "stdout",
          "text": [
            "true values = 37\n",
            "all scores = 75\n"
          ]
        }
      ]
    },
    {
      "cell_type": "code",
      "source": [
        "y_f_concede_train = pd.read_csv('./drive/MyDrive/master/dumps/y_concede_f_train_6.csv')\n",
        "\n",
        "y_concede_train = y_f_concede_train.astype(int).to_numpy()\n",
        "\n",
        "x_torch = torch.from_numpy(X_f_train_final).type(torch.FloatTensor).to(device)\n",
        "y_torch = torch.from_numpy(y_concede_train).type(torch.FloatTensor).reshape(-1, 1).to(device)\n",
        "\n",
        "model = NeuralNetwork(n_x).to(device)\n",
        "optimizer=torch.optim.SGD(model.parameters(),lr=0.0075)\n",
        "\n",
        "number_of_epochs=10000\n",
        "all_loss = []\n",
        "for epoch in range(number_of_epochs):\n",
        "    y_prediction=model(x_torch)\n",
        "    loss=criterion(y_prediction,y_torch)\n",
        "    loss.backward()\n",
        "    all_loss.append(loss.item())\n",
        "    optimizer.step()\n",
        "    optimizer.zero_grad()\n",
        "    if (epoch+1)%1000 == 0:\n",
        "        print('epoch:', epoch+1, ', loss=',loss.item())\n",
        "\n",
        "plt.figure()\n",
        "plt.plot(all_loss)\n",
        "plt.show()\n",
        "\n",
        "model_save_name = 'concede_model_y_f_extended_6.pt'\n",
        "path = F\"./drive/MyDrive/master/models/{model_save_name}\"\n",
        "torch.save(model.state_dict(), path)\n"
      ],
      "metadata": {
        "colab": {
          "base_uri": "https://localhost:8080/",
          "height": 435
        },
        "id": "q088hF9hMMJp",
        "outputId": "425a0d2b-491b-44bc-aedc-6952e1482250"
      },
      "execution_count": null,
      "outputs": [
        {
          "output_type": "stream",
          "name": "stdout",
          "text": [
            "epoch: 1000 , loss= 0.01670580357313156\n",
            "epoch: 2000 , loss= 0.016402779147028923\n",
            "epoch: 3000 , loss= 0.016192087903618813\n",
            "epoch: 4000 , loss= 0.016026770696043968\n",
            "epoch: 5000 , loss= 0.01589841954410076\n",
            "epoch: 6000 , loss= 0.01577785052359104\n",
            "epoch: 7000 , loss= 0.01565822772681713\n",
            "epoch: 8000 , loss= 0.015536569058895111\n",
            "epoch: 9000 , loss= 0.015409138984978199\n",
            "epoch: 10000 , loss= 0.01528097316622734\n"
          ]
        },
        {
          "output_type": "display_data",
          "data": {
            "image/png": "[encoded data removed]",
            "text/plain": [
              "<Figure size 432x288 with 1 Axes>"
            ]
          },
          "metadata": {
            "needs_background": "light"
          }
        }
      ]
    },
    {
      "cell_type": "code",
      "source": [
        "n_x = 40\n",
        "model = NeuralNetwork(n_x).to(device)\n",
        "\n",
        "t = 0\n",
        "c = 0\n",
        "\n",
        "model_load_name = 'concede_model_y_f_extended_6.pt'\n",
        "path = F\"./drive/MyDrive/master/models/{model_load_name}\"\n",
        "model.load_state_dict(torch.load(path))\n",
        "\n",
        "for match_id in ids_f_val:\n",
        "    match = matches_f[matches_f[\"match_id\"] == match_id]\n",
        "    home_score = match.iloc[0][\"home_score\"]\n",
        "    away_score = match.iloc[0][\"away_score\"]\n",
        "    if home_score != away_score:\n",
        "        c += 1\n",
        "        home_team_id = match[\"home_team\"].iloc[0][\"home_team_id\"]\n",
        "        away_team_id = match[\"away_team\"].iloc[0][\"away_team_id\"]\n",
        "        match_to_rate = transformer(matches_f, [match_id], loader)\n",
        "        match_to_rate['time_interval'] = classify_time(match_to_rate)\n",
        "        match_to_rate.drop(\"time_spent\", axis=1, inplace=True)\n",
        "        match_to_rate_enc = encoder.transform(match_to_rate[[\"type_name\", \"result_id\", \"bodypart_id\", \"time_interval\"]])\n",
        "        match_to_rate = match_to_rate.drop([\"type_name\", \"result_id\", \"bodypart_id\", \"time_interval\"], axis=1).join(pd.DataFrame.sparse.from_spmatrix(match_to_rate_enc)).to_numpy()\n",
        "        df_teams = loader.teams(match_id)\n",
        "        df_players = loader.players(match_id)\n",
        "        df_events = loader.events(match_id)\n",
        "        df_actions = spadl.statsbomb.convert_to_actions(df_events, home_team_id=home_team_id)\n",
        "        df_actions = (\n",
        "            spadl.add_names(df_actions)\n",
        "            .merge(loader.teams(game_id=match_id))\n",
        "            .merge(loader.players(game_id=match_id))\n",
        "        )\n",
        "        df_actions = df_actions.sort_values(by=['action_id'])\n",
        "        team_ids = df_actions[\"team_id\"]\n",
        "        match_to_rate_torch = torch.from_numpy(match_to_rate).type(torch.FloatTensor).to(device)\n",
        "        with torch.no_grad():\n",
        "            match_to_rate_pred=model(match_to_rate_torch).flatten()\n",
        "        match_to_rate_pred = match_to_rate_pred.cpu().numpy()\n",
        "        df_actions[\"antirating\"] = match_to_rate_pred\n",
        "        team_antiratings = df_actions[[\"team_id\", \"antirating\"]].groupby(\"team_id\").agg('mean')\n",
        "        team_non_shot_ratings = df_actions[df_actions[\"type_id\"] != 11][[\"team_id\", \"antirating\"]].groupby(\"team_id\").agg('mean')\n",
        "        if ((home_score > away_score) and (team_antiratings[\"antirating\"][home_team_id] < team_antiratings[\"antirating\"][away_team_id])) or ((home_score < away_score) and (team_antiratings[\"antirating\"][home_team_id] > team_antiratings[\"antirating\"][away_team_id])):\n",
        "            t += 1\n",
        "        home_actions = df_actions[df_actions[\"team_id\"] == home_team_id].shape[0]\n",
        "        away_actions = df_actions[df_actions[\"team_id\"] == away_team_id].shape[0]\n",
        "        if ((home_score < away_score) and (home_actions > away_actions)) or ((home_score > away_score) and (home_actions < away_actions)):\n",
        "            murder_by_numbers += 1\n",
        "\n",
        "print('true values =', str(t))\n",
        "print('all scores =', str(c))"
      ],
      "metadata": {
        "colab": {
          "base_uri": "https://localhost:8080/"
        },
        "id": "oqmOsL0RM4w5",
        "outputId": "bcf68c26-13d2-41f2-ade7-a883fba0e03a"
      },
      "execution_count": null,
      "outputs": [
        {
          "output_type": "stream",
          "name": "stdout",
          "text": [
            "true values = 36\n",
            "all scores = 75\n"
          ]
        }
      ]
    },
    {
      "cell_type": "code",
      "source": [
        "y_f_concede_train = pd.read_csv('./drive/MyDrive/master/dumps/y_concede_f_train_6.csv')\n",
        "\n",
        "y_concede_train = y_f_concede_train.astype(int).to_numpy()\n",
        "\n",
        "x_torch = torch.from_numpy(X_f_train_final).type(torch.FloatTensor).to(device)\n",
        "y_torch = torch.from_numpy(y_concede_train).type(torch.FloatTensor).reshape(-1, 1).to(device)\n",
        "\n",
        "model = NeuralNetwork(n_x).to(device)\n",
        "optimizer=torch.optim.SGD(model.parameters(),lr=0.0075)\n",
        "\n",
        "number_of_epochs=2000\n",
        "all_loss = []\n",
        "for epoch in range(number_of_epochs):\n",
        "    y_prediction=model(x_torch)\n",
        "    loss=criterion(y_prediction,y_torch)\n",
        "    loss.backward()\n",
        "    all_loss.append(loss.item())\n",
        "    optimizer.step()\n",
        "    optimizer.zero_grad()\n",
        "    if (epoch+1)%1000 == 0:\n",
        "        print('epoch:', epoch+1, ', loss=',loss.item())\n",
        "\n",
        "plt.figure()\n",
        "plt.plot(all_loss)\n",
        "plt.show()\n",
        "\n",
        "model_save_name = 'concede_model_y_f_small_6.pt'\n",
        "path = F\"./drive/MyDrive/master/models/{model_save_name}\"\n",
        "torch.save(model.state_dict(), path)\n"
      ],
      "metadata": {
        "colab": {
          "base_uri": "https://localhost:8080/",
          "height": 299
        },
        "id": "uGeeKsiuNz6e",
        "outputId": "a2d821c2-ce4f-4aa0-cfe1-876f6523b92f"
      },
      "execution_count": null,
      "outputs": [
        {
          "output_type": "stream",
          "name": "stdout",
          "text": [
            "epoch: 1000 , loss= 0.016633132472634315\n",
            "epoch: 2000 , loss= 0.016422485932707787\n"
          ]
        },
        {
          "output_type": "display_data",
          "data": {
            "image/png": "[encoded data removed]",
            "text/plain": [
              "<Figure size 432x288 with 1 Axes>"
            ]
          },
          "metadata": {
            "needs_background": "light"
          }
        }
      ]
    },
    {
      "cell_type": "code",
      "source": [
        "n_x = 40\n",
        "model = NeuralNetwork(n_x).to(device)\n",
        "\n",
        "t = 0\n",
        "c = 0\n",
        "\n",
        "model_load_name = 'concede_model_y_f_small_6.pt'\n",
        "path = F\"./drive/MyDrive/master/models/{model_load_name}\"\n",
        "model.load_state_dict(torch.load(path))\n",
        "\n",
        "for match_id in ids_f_val:\n",
        "    match = matches_f[matches_f[\"match_id\"] == match_id]\n",
        "    home_score = match.iloc[0][\"home_score\"]\n",
        "    away_score = match.iloc[0][\"away_score\"]\n",
        "    if home_score != away_score:\n",
        "        c += 1\n",
        "        home_team_id = match[\"home_team\"].iloc[0][\"home_team_id\"]\n",
        "        away_team_id = match[\"away_team\"].iloc[0][\"away_team_id\"]\n",
        "        match_to_rate = transformer(matches_f, [match_id], loader)\n",
        "        match_to_rate['time_interval'] = classify_time(match_to_rate)\n",
        "        match_to_rate.drop(\"time_spent\", axis=1, inplace=True)\n",
        "        match_to_rate_enc = encoder.transform(match_to_rate[[\"type_name\", \"result_id\", \"bodypart_id\", \"time_interval\"]])\n",
        "        match_to_rate = match_to_rate.drop([\"type_name\", \"result_id\", \"bodypart_id\", \"time_interval\"], axis=1).join(pd.DataFrame.sparse.from_spmatrix(match_to_rate_enc)).to_numpy()\n",
        "        df_teams = loader.teams(match_id)\n",
        "        df_players = loader.players(match_id)\n",
        "        df_events = loader.events(match_id)\n",
        "        df_actions = spadl.statsbomb.convert_to_actions(df_events, home_team_id=home_team_id)\n",
        "        df_actions = (\n",
        "            spadl.add_names(df_actions)\n",
        "            .merge(loader.teams(game_id=match_id))\n",
        "            .merge(loader.players(game_id=match_id))\n",
        "        )\n",
        "        df_actions = df_actions.sort_values(by=['action_id'])\n",
        "        team_ids = df_actions[\"team_id\"]\n",
        "        match_to_rate_torch = torch.from_numpy(match_to_rate).type(torch.FloatTensor).to(device)\n",
        "        with torch.no_grad():\n",
        "            match_to_rate_pred=model(match_to_rate_torch).flatten()\n",
        "        match_to_rate_pred = match_to_rate_pred.cpu().numpy()\n",
        "        df_actions[\"antirating\"] = match_to_rate_pred\n",
        "        team_antiratings = df_actions[[\"team_id\", \"antirating\"]].groupby(\"team_id\").agg('mean')\n",
        "        team_non_shot_ratings = df_actions[df_actions[\"type_id\"] != 11][[\"team_id\", \"antirating\"]].groupby(\"team_id\").agg('mean')\n",
        "        if ((home_score > away_score) and (team_antiratings[\"antirating\"][home_team_id] < team_antiratings[\"antirating\"][away_team_id])) or ((home_score < away_score) and (team_antiratings[\"antirating\"][home_team_id] > team_antiratings[\"antirating\"][away_team_id])):\n",
        "            t += 1\n",
        "        home_actions = df_actions[df_actions[\"team_id\"] == home_team_id].shape[0]\n",
        "        away_actions = df_actions[df_actions[\"team_id\"] == away_team_id].shape[0]\n",
        "        if ((home_score < away_score) and (home_actions > away_actions)) or ((home_score > away_score) and (home_actions < away_actions)):\n",
        "            murder_by_numbers += 1\n",
        "\n",
        "print('true values =', str(t))\n",
        "print('all scores =', str(c))"
      ],
      "metadata": {
        "colab": {
          "base_uri": "https://localhost:8080/"
        },
        "id": "pkQ3t-pxN-jg",
        "outputId": "cfcb509f-5696-4f25-ac39-1ff65c991b76"
      },
      "execution_count": null,
      "outputs": [
        {
          "output_type": "stream",
          "name": "stdout",
          "text": [
            "true values = 40\n",
            "all scores = 75\n"
          ]
        }
      ]
    },
    {
      "cell_type": "code",
      "source": [
        "y_f_concede_train = pd.read_csv('./drive/MyDrive/master/dumps/y_concede_f_train_6.csv')\n",
        "\n",
        "y_concede_train = y_f_concede_train.astype(int).to_numpy()\n",
        "\n",
        "x_torch = torch.from_numpy(X_f_train_final).type(torch.FloatTensor).to(device)\n",
        "y_torch = torch.from_numpy(y_concede_train).type(torch.FloatTensor).reshape(-1, 1).to(device)\n",
        "\n",
        "model = NeuralNetwork(n_x).to(device)\n",
        "optimizer=torch.optim.SGD(model.parameters(),lr=0.0075)\n",
        "\n",
        "number_of_epochs=2500\n",
        "all_loss = []\n",
        "for epoch in range(number_of_epochs):\n",
        "    y_prediction=model(x_torch)\n",
        "    loss=criterion(y_prediction,y_torch)\n",
        "    loss.backward()\n",
        "    all_loss.append(loss.item())\n",
        "    optimizer.step()\n",
        "    optimizer.zero_grad()\n",
        "    if (epoch+1)%1000 == 0:\n",
        "        print('epoch:', epoch+1, ', loss=',loss.item())\n",
        "\n",
        "plt.figure()\n",
        "plt.plot(all_loss)\n",
        "plt.show()\n",
        "\n",
        "model_save_name = 'concede_model_y_f_middle_6.pt'\n",
        "path = F\"./drive/MyDrive/master/models/{model_save_name}\"\n",
        "torch.save(model.state_dict(), path)\n"
      ],
      "metadata": {
        "colab": {
          "base_uri": "https://localhost:8080/",
          "height": 299
        },
        "id": "_oUkP2PJpt7F",
        "outputId": "7bd56b3b-0c40-4e4c-990b-41350b2caac4"
      },
      "execution_count": null,
      "outputs": [
        {
          "output_type": "stream",
          "name": "stdout",
          "text": [
            "epoch: 1000 , loss= 0.017804177477955818\n",
            "epoch: 2000 , loss= 0.017566721886396408\n"
          ]
        },
        {
          "output_type": "display_data",
          "data": {
            "image/png": "[encoded data removed]",
            "text/plain": [
              "<Figure size 432x288 with 1 Axes>"
            ]
          },
          "metadata": {
            "needs_background": "light"
          }
        }
      ]
    },
    {
      "cell_type": "code",
      "source": [
        "n_x = 40\n",
        "model = NeuralNetwork(n_x).to(device)\n",
        "\n",
        "t = 0\n",
        "c = 0\n",
        "\n",
        "model_load_name = 'concede_model_y_f_middle_6.pt'\n",
        "path = F\"./drive/MyDrive/master/models/{model_load_name}\"\n",
        "model.load_state_dict(torch.load(path))\n",
        "\n",
        "for match_id in ids_f_val:\n",
        "    match = matches_f[matches_f[\"match_id\"] == match_id]\n",
        "    home_score = match.iloc[0][\"home_score\"]\n",
        "    away_score = match.iloc[0][\"away_score\"]\n",
        "    if home_score != away_score:\n",
        "        c += 1\n",
        "        home_team_id = match[\"home_team\"].iloc[0][\"home_team_id\"]\n",
        "        away_team_id = match[\"away_team\"].iloc[0][\"away_team_id\"]\n",
        "        match_to_rate = transformer(matches_f, [match_id], loader)\n",
        "        match_to_rate['time_interval'] = classify_time(match_to_rate)\n",
        "        match_to_rate.drop(\"time_spent\", axis=1, inplace=True)\n",
        "        match_to_rate_enc = encoder.transform(match_to_rate[[\"type_name\", \"result_id\", \"bodypart_id\", \"time_interval\"]])\n",
        "        match_to_rate = match_to_rate.drop([\"type_name\", \"result_id\", \"bodypart_id\", \"time_interval\"], axis=1).join(pd.DataFrame.sparse.from_spmatrix(match_to_rate_enc)).to_numpy()\n",
        "        df_teams = loader.teams(match_id)\n",
        "        df_players = loader.players(match_id)\n",
        "        df_events = loader.events(match_id)\n",
        "        df_actions = spadl.statsbomb.convert_to_actions(df_events, home_team_id=home_team_id)\n",
        "        df_actions = (\n",
        "            spadl.add_names(df_actions)\n",
        "            .merge(loader.teams(game_id=match_id))\n",
        "            .merge(loader.players(game_id=match_id))\n",
        "        )\n",
        "        df_actions = df_actions.sort_values(by=['action_id'])\n",
        "        team_ids = df_actions[\"team_id\"]\n",
        "        match_to_rate_torch = torch.from_numpy(match_to_rate).type(torch.FloatTensor).to(device)\n",
        "        with torch.no_grad():\n",
        "            match_to_rate_pred=model(match_to_rate_torch).flatten()\n",
        "        match_to_rate_pred = match_to_rate_pred.cpu().numpy()\n",
        "        df_actions[\"antirating\"] = match_to_rate_pred\n",
        "        team_antiratings = df_actions[[\"team_id\", \"antirating\"]].groupby(\"team_id\").agg('mean')\n",
        "        team_non_shot_ratings = df_actions[df_actions[\"type_id\"] != 11][[\"team_id\", \"antirating\"]].groupby(\"team_id\").agg('mean')\n",
        "        if ((home_score > away_score) and (team_antiratings[\"antirating\"][home_team_id] < team_antiratings[\"antirating\"][away_team_id])) or ((home_score < away_score) and (team_antiratings[\"antirating\"][home_team_id] > team_antiratings[\"antirating\"][away_team_id])):\n",
        "            t += 1\n",
        "        home_actions = df_actions[df_actions[\"team_id\"] == home_team_id].shape[0]\n",
        "        away_actions = df_actions[df_actions[\"team_id\"] == away_team_id].shape[0]\n",
        "        if ((home_score < away_score) and (home_actions > away_actions)) or ((home_score > away_score) and (home_actions < away_actions)):\n",
        "            murder_by_numbers += 1\n",
        "\n",
        "print('true values =', str(t))\n",
        "print('all scores =', str(c))"
      ],
      "metadata": {
        "colab": {
          "base_uri": "https://localhost:8080/"
        },
        "id": "6WcZFePgqBDY",
        "outputId": "60b9f374-0156-4e83-e28e-4359115a26a5"
      },
      "execution_count": null,
      "outputs": [
        {
          "output_type": "stream",
          "name": "stdout",
          "text": [
            "true values = 38\n",
            "all scores = 75\n"
          ]
        }
      ]
    },
    {
      "cell_type": "code",
      "source": [
        "y_f_concede_train = pd.read_csv('./drive/MyDrive/master/dumps/y_concede_f_train_5.csv')\n",
        "\n",
        "y_concede_train = y_f_concede_train.astype(int).to_numpy()\n",
        "\n",
        "x_torch = torch.from_numpy(X_f_train_final).type(torch.FloatTensor).to(device)\n",
        "y_torch = torch.from_numpy(y_concede_train).type(torch.FloatTensor).reshape(-1, 1).to(device)\n",
        "\n",
        "model = NeuralNetwork(n_x).to(device)\n",
        "optimizer=torch.optim.SGD(model.parameters(),lr=0.0075)\n",
        "\n",
        "number_of_epochs=2000\n",
        "all_loss = []\n",
        "for epoch in range(number_of_epochs):\n",
        "    y_prediction=model(x_torch)\n",
        "    loss=criterion(y_prediction,y_torch)\n",
        "    loss.backward()\n",
        "    all_loss.append(loss.item())\n",
        "    optimizer.step()\n",
        "    optimizer.zero_grad()\n",
        "    if (epoch+1)%1000 == 0:\n",
        "        print('epoch:', epoch+1, ', loss=',loss.item())\n",
        "\n",
        "plt.figure()\n",
        "plt.plot(all_loss)\n",
        "plt.show()\n",
        "\n",
        "model_save_name = 'concede_model_y_f_small_5.pt'\n",
        "path = F\"./drive/MyDrive/master/models/{model_save_name}\"\n",
        "torch.save(model.state_dict(), path)\n"
      ],
      "metadata": {
        "colab": {
          "base_uri": "https://localhost:8080/",
          "height": 299
        },
        "id": "RxrbP2RJOvTk",
        "outputId": "4a77733d-a49e-4ead-be40-8c881126b62c"
      },
      "execution_count": null,
      "outputs": [
        {
          "output_type": "stream",
          "name": "stdout",
          "text": [
            "epoch: 1000 , loss= 0.01352720707654953\n",
            "epoch: 2000 , loss= 0.013340218923985958\n"
          ]
        },
        {
          "output_type": "display_data",
          "data": {
            "image/png": "[encoded data removed]",
            "text/plain": [
              "<Figure size 432x288 with 1 Axes>"
            ]
          },
          "metadata": {
            "needs_background": "light"
          }
        }
      ]
    },
    {
      "cell_type": "code",
      "source": [
        "n_x = 40\n",
        "model = NeuralNetwork(n_x).to(device)\n",
        "\n",
        "t = 0\n",
        "c = 0\n",
        "\n",
        "model_load_name = 'concede_model_y_f_small_5.pt'\n",
        "path = F\"./drive/MyDrive/master/models/{model_load_name}\"\n",
        "model.load_state_dict(torch.load(path))\n",
        "\n",
        "for match_id in ids_f_val:\n",
        "    match = matches_f[matches_f[\"match_id\"] == match_id]\n",
        "    home_score = match.iloc[0][\"home_score\"]\n",
        "    away_score = match.iloc[0][\"away_score\"]\n",
        "    if home_score != away_score:\n",
        "        c += 1\n",
        "        home_team_id = match[\"home_team\"].iloc[0][\"home_team_id\"]\n",
        "        away_team_id = match[\"away_team\"].iloc[0][\"away_team_id\"]\n",
        "        match_to_rate = transformer(matches_f, [match_id], loader)\n",
        "        match_to_rate['time_interval'] = classify_time(match_to_rate)\n",
        "        match_to_rate.drop(\"time_spent\", axis=1, inplace=True)\n",
        "        match_to_rate_enc = encoder.transform(match_to_rate[[\"type_name\", \"result_id\", \"bodypart_id\", \"time_interval\"]])\n",
        "        match_to_rate = match_to_rate.drop([\"type_name\", \"result_id\", \"bodypart_id\", \"time_interval\"], axis=1).join(pd.DataFrame.sparse.from_spmatrix(match_to_rate_enc)).to_numpy()\n",
        "        df_teams = loader.teams(match_id)\n",
        "        df_players = loader.players(match_id)\n",
        "        df_events = loader.events(match_id)\n",
        "        df_actions = spadl.statsbomb.convert_to_actions(df_events, home_team_id=home_team_id)\n",
        "        df_actions = (\n",
        "            spadl.add_names(df_actions)\n",
        "            .merge(loader.teams(game_id=match_id))\n",
        "            .merge(loader.players(game_id=match_id))\n",
        "        )\n",
        "        df_actions = df_actions.sort_values(by=['action_id'])\n",
        "        team_ids = df_actions[\"team_id\"]\n",
        "        match_to_rate_torch = torch.from_numpy(match_to_rate).type(torch.FloatTensor).to(device)\n",
        "        with torch.no_grad():\n",
        "            match_to_rate_pred=model(match_to_rate_torch).flatten()\n",
        "        match_to_rate_pred = match_to_rate_pred.cpu().numpy()\n",
        "        df_actions[\"antirating\"] = match_to_rate_pred\n",
        "        team_antiratings = df_actions[[\"team_id\", \"antirating\"]].groupby(\"team_id\").agg('mean')\n",
        "        team_non_shot_ratings = df_actions[df_actions[\"type_id\"] != 11][[\"team_id\", \"antirating\"]].groupby(\"team_id\").agg('mean')\n",
        "        if ((home_score > away_score) and (team_antiratings[\"antirating\"][home_team_id] < team_antiratings[\"antirating\"][away_team_id])) or ((home_score < away_score) and (team_antiratings[\"antirating\"][home_team_id] > team_antiratings[\"antirating\"][away_team_id])):\n",
        "            t += 1\n",
        "        home_actions = df_actions[df_actions[\"team_id\"] == home_team_id].shape[0]\n",
        "        away_actions = df_actions[df_actions[\"team_id\"] == away_team_id].shape[0]\n",
        "        if ((home_score < away_score) and (home_actions > away_actions)) or ((home_score > away_score) and (home_actions < away_actions)):\n",
        "            murder_by_numbers += 1\n",
        "\n",
        "print('true values =', str(t))\n",
        "print('all scores =', str(c))"
      ],
      "metadata": {
        "colab": {
          "base_uri": "https://localhost:8080/"
        },
        "id": "fROxtKTsO1Bl",
        "outputId": "c1d80d52-a88e-4815-87b8-42b90df64f34"
      },
      "execution_count": null,
      "outputs": [
        {
          "output_type": "stream",
          "name": "stdout",
          "text": [
            "true values = 35\n",
            "all scores = 75\n"
          ]
        }
      ]
    },
    {
      "cell_type": "code",
      "source": [
        "y_f_concede_train = pd.read_csv('./drive/MyDrive/master/dumps/y_concede_f_train_7.csv')\n",
        "\n",
        "y_concede_train = y_f_concede_train.astype(int).to_numpy()\n",
        "\n",
        "x_torch = torch.from_numpy(X_f_train_final).type(torch.FloatTensor).to(device)\n",
        "y_torch = torch.from_numpy(y_concede_train).type(torch.FloatTensor).reshape(-1, 1).to(device)\n",
        "\n",
        "model = NeuralNetwork(n_x).to(device)\n",
        "optimizer=torch.optim.SGD(model.parameters(),lr=0.0075)\n",
        "\n",
        "number_of_epochs=2000\n",
        "all_loss = []\n",
        "for epoch in range(number_of_epochs):\n",
        "    y_prediction=model(x_torch)\n",
        "    loss=criterion(y_prediction,y_torch)\n",
        "    loss.backward()\n",
        "    all_loss.append(loss.item())\n",
        "    optimizer.step()\n",
        "    optimizer.zero_grad()\n",
        "    if (epoch+1)%1000 == 0:\n",
        "        print('epoch:', epoch+1, ', loss=',loss.item())\n",
        "\n",
        "plt.figure()\n",
        "plt.plot(all_loss)\n",
        "plt.show()\n",
        "\n",
        "model_save_name = 'concede_model_y_f_small_7.pt'\n",
        "path = F\"./drive/MyDrive/master/models/{model_save_name}\"\n",
        "torch.save(model.state_dict(), path)\n"
      ],
      "metadata": {
        "colab": {
          "base_uri": "https://localhost:8080/",
          "height": 299
        },
        "id": "DL_HolcmP1LS",
        "outputId": "b8609e17-ab49-4d3f-e3f0-e65a07b4c269"
      },
      "execution_count": null,
      "outputs": [
        {
          "output_type": "stream",
          "name": "stdout",
          "text": [
            "epoch: 1000 , loss= 0.020042050629854202\n",
            "epoch: 2000 , loss= 0.01977907493710518\n"
          ]
        },
        {
          "output_type": "display_data",
          "data": {
            "image/png": "[encoded data removed]",
            "text/plain": [
              "<Figure size 432x288 with 1 Axes>"
            ]
          },
          "metadata": {
            "needs_background": "light"
          }
        }
      ]
    },
    {
      "cell_type": "code",
      "source": [
        "n_x = 40\n",
        "model = NeuralNetwork(n_x).to(device)\n",
        "\n",
        "t = 0\n",
        "c = 0\n",
        "\n",
        "model_load_name = 'concede_model_y_f_small_7.pt'\n",
        "path = F\"./drive/MyDrive/master/models/{model_load_name}\"\n",
        "model.load_state_dict(torch.load(path))\n",
        "\n",
        "for match_id in ids_f_val:\n",
        "    match = matches_f[matches_f[\"match_id\"] == match_id]\n",
        "    home_score = match.iloc[0][\"home_score\"]\n",
        "    away_score = match.iloc[0][\"away_score\"]\n",
        "    if home_score != away_score:\n",
        "        c += 1\n",
        "        home_team_id = match[\"home_team\"].iloc[0][\"home_team_id\"]\n",
        "        away_team_id = match[\"away_team\"].iloc[0][\"away_team_id\"]\n",
        "        match_to_rate = transformer(matches_f, [match_id], loader)\n",
        "        match_to_rate['time_interval'] = classify_time(match_to_rate)\n",
        "        match_to_rate.drop(\"time_spent\", axis=1, inplace=True)\n",
        "        match_to_rate_enc = encoder.transform(match_to_rate[[\"type_name\", \"result_id\", \"bodypart_id\", \"time_interval\"]])\n",
        "        match_to_rate = match_to_rate.drop([\"type_name\", \"result_id\", \"bodypart_id\", \"time_interval\"], axis=1).join(pd.DataFrame.sparse.from_spmatrix(match_to_rate_enc)).to_numpy()\n",
        "        df_teams = loader.teams(match_id)\n",
        "        df_players = loader.players(match_id)\n",
        "        df_events = loader.events(match_id)\n",
        "        df_actions = spadl.statsbomb.convert_to_actions(df_events, home_team_id=home_team_id)\n",
        "        df_actions = (\n",
        "            spadl.add_names(df_actions)\n",
        "            .merge(loader.teams(game_id=match_id))\n",
        "            .merge(loader.players(game_id=match_id))\n",
        "        )\n",
        "        df_actions = df_actions.sort_values(by=['action_id'])\n",
        "        team_ids = df_actions[\"team_id\"]\n",
        "        match_to_rate_torch = torch.from_numpy(match_to_rate).type(torch.FloatTensor).to(device)\n",
        "        with torch.no_grad():\n",
        "            match_to_rate_pred=model(match_to_rate_torch).flatten()\n",
        "        match_to_rate_pred = match_to_rate_pred.cpu().numpy()\n",
        "        df_actions[\"antirating\"] = match_to_rate_pred\n",
        "        team_antiratings = df_actions[[\"team_id\", \"antirating\"]].groupby(\"team_id\").agg('mean')\n",
        "        team_non_shot_ratings = df_actions[df_actions[\"type_id\"] != 11][[\"team_id\", \"antirating\"]].groupby(\"team_id\").agg('mean')\n",
        "        if ((home_score > away_score) and (team_antiratings[\"antirating\"][home_team_id] < team_antiratings[\"antirating\"][away_team_id])) or ((home_score < away_score) and (team_antiratings[\"antirating\"][home_team_id] > team_antiratings[\"antirating\"][away_team_id])):\n",
        "            t += 1\n",
        "\n",
        "print('true values =', str(t))\n",
        "print('all scores =', str(c))"
      ],
      "metadata": {
        "colab": {
          "base_uri": "https://localhost:8080/"
        },
        "id": "azNcrMYHPl4J",
        "outputId": "ec7ca5b8-dd1e-4f49-8aa3-118046d14c42"
      },
      "execution_count": null,
      "outputs": [
        {
          "output_type": "stream",
          "name": "stdout",
          "text": [
            "true values = 38\n",
            "all scores = 75\n"
          ]
        }
      ]
    },
    {
      "cell_type": "code",
      "source": [
        "n_x = 40"
      ],
      "metadata": {
        "id": "o62VhHR-wZcr"
      },
      "execution_count": null,
      "outputs": []
    },
    {
      "cell_type": "code",
      "source": [
        "score_model = NeuralNetwork(n_x).to(device)\n",
        "model_load_name = 'score_model_y_f_extended_11.pt'\n",
        "path = F\"./drive/MyDrive/master/models/{model_load_name}\"\n",
        "score_model.load_state_dict(torch.load(path))\n",
        "\n",
        "concede_model = NeuralNetwork(n_x).to(device)\n",
        "model_load_name = 'concede_model_y_f_small_6.pt'\n",
        "path = F\"./drive/MyDrive/master/models/{model_load_name}\"\n",
        "concede_model.load_state_dict(torch.load(path))"
      ],
      "metadata": {
        "colab": {
          "base_uri": "https://localhost:8080/"
        },
        "id": "PYc31UUS9d7-",
        "outputId": "7958d827-7255-4f37-de02-39cb5435f79f"
      },
      "execution_count": null,
      "outputs": [
        {
          "output_type": "execute_result",
          "data": {
            "text/plain": [
              "<All keys matched successfully>"
            ]
          },
          "metadata": {},
          "execution_count": 33
        }
      ]
    },
    {
      "cell_type": "code",
      "source": [
        "t = 0\n",
        "t_n = 0\n",
        "c = 0\n",
        "\n",
        "for match_id in ids_f_val:\n",
        "    match = matches_f[matches_f[\"match_id\"] == match_id]\n",
        "    home_score = match.iloc[0][\"home_score\"]\n",
        "    away_score = match.iloc[0][\"away_score\"]\n",
        "    if home_score != away_score:\n",
        "        c += 1\n",
        "        home_team_id = match[\"home_team\"].iloc[0][\"home_team_id\"]\n",
        "        away_team_id = match[\"away_team\"].iloc[0][\"away_team_id\"]\n",
        "        match_to_rate = transformer(matches_f, [match_id], loader)\n",
        "        match_to_rate['time_interval'] = classify_time(match_to_rate)\n",
        "        match_to_rate.drop(\"time_spent\", axis=1, inplace=True)\n",
        "        match_to_rate_enc = encoder.transform(match_to_rate[[\"type_name\", \"result_id\", \"bodypart_id\", \"time_interval\"]])\n",
        "        match_to_rate = match_to_rate.drop([\"type_name\", \"result_id\", \"bodypart_id\", \"time_interval\"], axis=1).join(pd.DataFrame.sparse.from_spmatrix(match_to_rate_enc)).to_numpy()\n",
        "        df_teams = loader.teams(match_id)\n",
        "        df_players = loader.players(match_id)\n",
        "        df_events = loader.events(match_id)\n",
        "        df_actions = spadl.statsbomb.convert_to_actions(df_events, home_team_id=home_team_id)\n",
        "        df_actions = (\n",
        "            spadl.add_names(df_actions)\n",
        "            .merge(loader.teams(game_id=match_id))\n",
        "            .merge(loader.players(game_id=match_id))\n",
        "        )\n",
        "        df_actions = df_actions.sort_values(by=['action_id'])\n",
        "        team_ids = df_actions[\"team_id\"]\n",
        "        match_to_rate_torch = torch.from_numpy(match_to_rate).type(torch.FloatTensor).to(device)\n",
        "        with torch.no_grad():\n",
        "            match_to_rate_pred_score=score_model(match_to_rate_torch).flatten()\n",
        "        with torch.no_grad():\n",
        "            match_to_rate_pred_concede=concede_model(match_to_rate_torch).flatten()\n",
        "        match_to_rate_pred_score = match_to_rate_pred_score.cpu().numpy()\n",
        "        match_to_rate_pred_concede = match_to_rate_pred_concede.cpu().numpy()\n",
        "        df_actions[\"rating\"] = match_to_rate_pred_score - match_to_rate_pred_concede\n",
        "        team_ratings = df_actions[[\"team_id\", \"rating\"]].groupby(\"team_id\").agg('mean')\n",
        "        team_non_shot_ratings = df_actions[df_actions[\"type_id\"] != 11][[\"team_id\", \"rating\"]].groupby(\"team_id\").agg('mean')\n",
        "        if ((home_score > away_score) and (team_ratings[\"rating\"][home_team_id] > team_ratings[\"rating\"][away_team_id])) or ((home_score < away_score) and (team_ratings[\"rating\"][home_team_id] < team_ratings[\"rating\"][away_team_id])):\n",
        "            t += 1\n",
        "        if ((home_score > away_score) and (team_non_shot_ratings[\"rating\"][home_team_id] > team_non_shot_ratings[\"rating\"][away_team_id])) or ((home_score < away_score) and (team_non_shot_ratings[\"rating\"][home_team_id] < team_non_shot_ratings[\"rating\"][away_team_id])):\n",
        "            t_n += 1\n",
        "print('true values =', str(t))\n",
        "print('true non shot values =', str(t_n))\n",
        "print('all scores =', str(c))"
      ],
      "metadata": {
        "colab": {
          "base_uri": "https://localhost:8080/"
        },
        "id": "r2RPaDZ_8ew2",
        "outputId": "d9d7284f-1176-4e41-e9a3-3ddde6fe6731"
      },
      "execution_count": null,
      "outputs": [
        {
          "output_type": "stream",
          "name": "stdout",
          "text": [
            "true values = 44\n",
            "true non shot values = 41\n",
            "all scores = 75\n"
          ]
        }
      ]
    },
    {
      "cell_type": "code",
      "source": [
        "binom_test(46, 75, .5, \"greater\")"
      ],
      "metadata": {
        "colab": {
          "base_uri": "https://localhost:8080/"
        },
        "id": "quHTqzoDAoSf",
        "outputId": "5764b352-0b8b-472c-bed2-1ec66bde85ab"
      },
      "execution_count": null,
      "outputs": [
        {
          "output_type": "execute_result",
          "data": {
            "text/plain": [
              "0.031974958233533475"
            ]
          },
          "metadata": {},
          "execution_count": 165
        }
      ]
    },
    {
      "cell_type": "code",
      "source": [
        "binom_test(44, 75, .5, \"greater\")"
      ],
      "metadata": {
        "colab": {
          "base_uri": "https://localhost:8080/"
        },
        "id": "Mn1hMhQaclTz",
        "outputId": "ff901513-862d-4057-b063-1a18ab17dcd0"
      },
      "execution_count": null,
      "outputs": [
        {
          "output_type": "execute_result",
          "data": {
            "text/plain": [
              "0.08271397086212834"
            ]
          },
          "metadata": {},
          "execution_count": 3
        }
      ]
    },
    {
      "cell_type": "markdown",
      "source": [
        "**Rating with the new model**"
      ],
      "metadata": {
        "id": "4a-1sCsi0Qov"
      }
    },
    {
      "cell_type": "code",
      "source": [
        "avg_female_ratings = {\n",
        "    \"female_score\": {},\n",
        "    \"female_concede\": {}\n",
        "}"
      ],
      "metadata": {
        "id": "78TLIikfImqm"
      },
      "execution_count": null,
      "outputs": []
    },
    {
      "cell_type": "code",
      "source": [
        "ratings_file = open('./drive/MyDrive/master/dumps/avg_ratings.json', 'rb')\n",
        "avg_ratings = pickle.load(ratings_file) \n",
        "ratings_file.close()"
      ],
      "metadata": {
        "id": "qBPDyJrQJC-9"
      },
      "execution_count": null,
      "outputs": []
    },
    {
      "cell_type": "code",
      "source": [
        "passing_ratings_file = open('./drive/MyDrive/master/dumps/avg_passing_ratings.json', 'rb')\n",
        "avg_passing_ratings = pickle.load(passing_ratings_file) \n",
        "passing_ratings_file.close()"
      ],
      "metadata": {
        "id": "b66350neBDyo"
      },
      "execution_count": null,
      "outputs": []
    },
    {
      "cell_type": "code",
      "source": [
        "successful_passing_ratings_file = open('./drive/MyDrive/master/dumps/avg_successful_passing_ratings.json', 'rb')\n",
        "avg_successful_passing_ratings = pickle.load(successful_passing_ratings_file) \n",
        "successful_passing_ratings_file.close()"
      ],
      "metadata": {
        "id": "Oduz8ybKBYKw"
      },
      "execution_count": null,
      "outputs": []
    },
    {
      "cell_type": "code",
      "source": [
        "female_only_players_with_ratings_score = {}\n",
        "female_only_players_with_ratings_concede = {}\n",
        "female_only_players_with_ratings_score_passing = {}\n",
        "female_only_players_with_ratings_concede_passing = {}\n",
        "female_only_players_with_ratings_score_passing_success = {}\n",
        "female_only_players_with_ratings_concede_passing_success = {}\n",
        "c = 0\n",
        "t = 0\n",
        "t_s = 0\n",
        "t_c = 0\n",
        "t_p = 0\n",
        "t_p_s = 0\n",
        "t_p_c = 0\n",
        "t_s_p = 0\n",
        "t_s_p_s = 0\n",
        "t_s_p_c = 0\n",
        "for match_id in ids_f_test:\n",
        "    match = matches_f[matches_f[\"match_id\"] == match_id]\n",
        "    home_score = match.iloc[0][\"home_score\"]\n",
        "    away_score = match.iloc[0][\"away_score\"]\n",
        "    home_team_id = match[\"home_team\"].iloc[0][\"home_team_id\"]\n",
        "    away_team_id = match[\"away_team\"].iloc[0][\"away_team_id\"]\n",
        "    match_to_rate = transformer(matches_f, [match_id], loader)\n",
        "    match_to_rate['time_interval'] = classify_time(match_to_rate)\n",
        "    match_to_rate.drop(\"time_spent\", axis=1, inplace=True)\n",
        "    match_to_rate_enc = encoder.transform(match_to_rate[[\"type_name\", \"result_id\", \"bodypart_id\", \"time_interval\"]])\n",
        "    match_to_rate = match_to_rate.drop([\"type_name\", \"result_id\", \"bodypart_id\", \"time_interval\"], axis=1).join(pd.DataFrame.sparse.from_spmatrix(match_to_rate_enc)).to_numpy()\n",
        "    df_teams = loader.teams(match_id)\n",
        "    df_players = loader.players(match_id)\n",
        "    df_events = loader.events(match_id)\n",
        "    df_actions = spadl.statsbomb.convert_to_actions(df_events, home_team_id=home_team_id)\n",
        "    df_actions = (\n",
        "        spadl.add_names(df_actions)\n",
        "        .merge(loader.teams(game_id=match_id))\n",
        "        .merge(loader.players(game_id=match_id))\n",
        "    )\n",
        "    df_actions = df_actions.sort_values(by=['action_id'])\n",
        "    team_ids = df_actions[\"team_id\"]\n",
        "    match_to_rate_torch = torch.from_numpy(match_to_rate).type(torch.FloatTensor).to(device)\n",
        "    with torch.no_grad():\n",
        "        match_to_rate_pred_score=score_model(match_to_rate_torch).flatten()\n",
        "    with torch.no_grad():\n",
        "        match_to_rate_pred_concede=concede_model(match_to_rate_torch).flatten()\n",
        "    match_to_rate_pred_score = match_to_rate_pred_score.cpu().numpy()\n",
        "    match_to_rate_pred_concede = match_to_rate_pred_concede.cpu().numpy()\n",
        "    df_actions[\"score_rating\"] = match_to_rate_pred_score\n",
        "    df_actions[\"concede_rating\"] = match_to_rate_pred_concede\n",
        "    df_actions[\"rating\"] = match_to_rate_pred_score - match_to_rate_pred_concede\n",
        "    df_actions_passing = df_actions[df_actions[\"type_id\"] == 0]\n",
        "    df_actions_passing_success = df_actions_passing[df_actions_passing[\"result_id\"] == 1]\n",
        "    if home_score != away_score:\n",
        "        c += 1\n",
        "        team_score_ratings = df_actions[[\"team_id\", \"score_rating\"]].groupby(\"team_id\").agg('mean')\n",
        "        if ((home_score > away_score) and (team_score_ratings[\"score_rating\"][home_team_id] > team_score_ratings[\"score_rating\"][away_team_id])) or ((home_score < away_score) and (team_score_ratings[\"score_rating\"][home_team_id] < team_score_ratings[\"score_rating\"][away_team_id])):\n",
        "            t_s += 1\n",
        "        team_concede_ratings = df_actions[[\"team_id\", \"concede_rating\"]].groupby(\"team_id\").agg('mean')\n",
        "        if ((home_score > away_score) and (team_concede_ratings[\"concede_rating\"][home_team_id] < team_concede_ratings[\"concede_rating\"][away_team_id])) or ((home_score < away_score) and (team_concede_ratings[\"concede_rating\"][home_team_id] > team_concede_ratings[\"concede_rating\"][away_team_id])):\n",
        "            t_c += 1\n",
        "        team_ratings = df_actions[[\"team_id\", \"rating\"]].groupby(\"team_id\").agg('mean')\n",
        "        if ((home_score > away_score) and (team_ratings[\"rating\"][home_team_id] > team_ratings[\"rating\"][away_team_id])) or ((home_score < away_score) and (team_ratings[\"rating\"][home_team_id] < team_ratings[\"rating\"][away_team_id])):\n",
        "            t += 1\n",
        "\n",
        "        team_score_ratings = df_actions_passing[[\"team_id\", \"score_rating\"]].groupby(\"team_id\").agg('mean')\n",
        "        if ((home_score > away_score) and (team_score_ratings[\"score_rating\"][home_team_id] > team_score_ratings[\"score_rating\"][away_team_id])) or ((home_score < away_score) and (team_score_ratings[\"score_rating\"][home_team_id] < team_score_ratings[\"score_rating\"][away_team_id])):\n",
        "            t_p_s += 1\n",
        "        team_concede_ratings = df_actions_passing[[\"team_id\", \"concede_rating\"]].groupby(\"team_id\").agg('mean')\n",
        "        if ((home_score > away_score) and (team_concede_ratings[\"concede_rating\"][home_team_id] < team_concede_ratings[\"concede_rating\"][away_team_id])) or ((home_score < away_score) and (team_concede_ratings[\"concede_rating\"][home_team_id] > team_concede_ratings[\"concede_rating\"][away_team_id])):\n",
        "            t_p_c += 1\n",
        "        team_ratings = df_actions_passing[[\"team_id\", \"rating\"]].groupby(\"team_id\").agg('mean')\n",
        "        if ((home_score > away_score) and (team_ratings[\"rating\"][home_team_id] > team_ratings[\"rating\"][away_team_id])) or ((home_score < away_score) and (team_ratings[\"rating\"][home_team_id] < team_ratings[\"rating\"][away_team_id])):\n",
        "            t_p += 1\n",
        "\n",
        "        team_score_ratings = df_actions_passing_success[[\"team_id\", \"score_rating\"]].groupby(\"team_id\").agg('mean')\n",
        "        if ((home_score > away_score) and (team_score_ratings[\"score_rating\"][home_team_id] > team_score_ratings[\"score_rating\"][away_team_id])) or ((home_score < away_score) and (team_score_ratings[\"score_rating\"][home_team_id] < team_score_ratings[\"score_rating\"][away_team_id])):\n",
        "            t_s_p_s += 1\n",
        "        team_concede_ratings = df_actions_passing_success[[\"team_id\", \"concede_rating\"]].groupby(\"team_id\").agg('mean')\n",
        "        if ((home_score > away_score) and (team_concede_ratings[\"concede_rating\"][home_team_id] < team_concede_ratings[\"concede_rating\"][away_team_id])) or ((home_score < away_score) and (team_concede_ratings[\"concede_rating\"][home_team_id] > team_concede_ratings[\"concede_rating\"][away_team_id])):\n",
        "            t_s_p_c += 1\n",
        "        team_ratings = df_actions_passing_success[[\"team_id\", \"rating\"]].groupby(\"team_id\").agg('mean')\n",
        "        if ((home_score > away_score) and (team_ratings[\"rating\"][home_team_id] > team_ratings[\"rating\"][away_team_id])) or ((home_score < away_score) and (team_ratings[\"rating\"][home_team_id] < team_ratings[\"rating\"][away_team_id])):\n",
        "            t_s_p += 1\n",
        "\n",
        "    score_ratings = df_actions.groupby(\"player_id\").aggregate({'score_rating': 'mean'})\n",
        "    for i in range(len(score_ratings.index)):\n",
        "        if score_ratings.index[i] not in female_only_players_with_ratings_score:\n",
        "            female_only_players_with_ratings_score[score_ratings.index[i]] = [score_ratings.iloc[i][0]]\n",
        "        else:\n",
        "            female_only_players_with_ratings_score[score_ratings.index[i]].append(score_ratings.iloc[i][0])\n",
        "    concede_ratings = df_actions.groupby(\"player_id\").aggregate({'concede_rating': 'mean'})\n",
        "    for i in range(len(concede_ratings.index)):\n",
        "        if concede_ratings.index[i] not in female_only_players_with_ratings_concede:\n",
        "            female_only_players_with_ratings_concede[concede_ratings.index[i]] = [concede_ratings.iloc[i][0]]\n",
        "        else:\n",
        "            female_only_players_with_ratings_concede[concede_ratings.index[i]].append(concede_ratings.iloc[i][0])\n",
        "\n",
        "    score_ratings = df_actions_passing.groupby(\"player_id\").aggregate({'score_rating': 'mean'})\n",
        "    for i in range(len(score_ratings.index)):\n",
        "        if score_ratings.index[i] not in female_only_players_with_ratings_score_passing:\n",
        "            female_only_players_with_ratings_score_passing[score_ratings.index[i]] = [score_ratings.iloc[i][0]]\n",
        "        else:\n",
        "            female_only_players_with_ratings_score_passing[score_ratings.index[i]].append(score_ratings.iloc[i][0])\n",
        "    concede_ratings = df_actions.groupby(\"player_id\").aggregate({'concede_rating': 'mean'})\n",
        "    for i in range(len(concede_ratings.index)):\n",
        "        if concede_ratings.index[i] not in female_only_players_with_ratings_concede_passing:\n",
        "            female_only_players_with_ratings_concede_passing[concede_ratings.index[i]] = [concede_ratings.iloc[i][0]]\n",
        "        else:\n",
        "            female_only_players_with_ratings_concede_passing[concede_ratings.index[i]].append(concede_ratings.iloc[i][0])\n",
        "\n",
        "    score_ratings = df_actions.groupby(\"player_id\").aggregate({'score_rating': 'mean'})\n",
        "    for i in range(len(score_ratings.index)):\n",
        "        if score_ratings.index[i] not in female_only_players_with_ratings_score_passing_success:\n",
        "            female_only_players_with_ratings_score_passing_success[score_ratings.index[i]] = [score_ratings.iloc[i][0]]\n",
        "        else:\n",
        "            female_only_players_with_ratings_score_passing_success[score_ratings.index[i]].append(score_ratings.iloc[i][0])\n",
        "    concede_ratings = df_actions.groupby(\"player_id\").aggregate({'concede_rating': 'mean'})\n",
        "    for i in range(len(concede_ratings.index)):\n",
        "        if concede_ratings.index[i] not in female_only_players_with_ratings_concede_passing_success:\n",
        "            female_only_players_with_ratings_concede_passing_success[concede_ratings.index[i]] = [concede_ratings.iloc[i][0]]\n",
        "        else:\n",
        "            female_only_players_with_ratings_concede_passing_success[concede_ratings.index[i]].append(concede_ratings.iloc[i][0])\n",
        "\n",
        "print('true scoring values =', str(t_s))\n",
        "print('true conceding values =', str(t_c))\n",
        "print('true values =', str(t))\n",
        "print('true scoring values pass =', str(t_p_s))\n",
        "print('true conceding values pass =', str(t_p_c))\n",
        "print('true values pass =', str(t_p))\n",
        "print('true scoring values pass success =', str(t_s_p_s))\n",
        "print('true conceding values pass success =', str(t_s_p_c))\n",
        "print('true values pass success =', str(t_s_p))\n",
        "print('all scores =', str(c))"
      ],
      "metadata": {
        "colab": {
          "base_uri": "https://localhost:8080/"
        },
        "id": "bgkSeuuYBtW_",
        "outputId": "606a73d7-cc80-40ab-9133-b47fbdb86555"
      },
      "execution_count": null,
      "outputs": [
        {
          "output_type": "stream",
          "name": "stdout",
          "text": [
            "true scoring values = 37\n",
            "true conceding values = 32\n",
            "true values = 32\n",
            "true scoring values pass = 37\n",
            "true conceding values pass = 30\n",
            "true values pass = 32\n",
            "true scoring values pass success = 30\n",
            "true conceding values pass success = 26\n",
            "true values pass success = 26\n",
            "all scores = 58\n"
          ]
        }
      ]
    },
    {
      "cell_type": "code",
      "source": [
        "binom_test(37, 58, .5, \"greater\")"
      ],
      "metadata": {
        "colab": {
          "base_uri": "https://localhost:8080/"
        },
        "id": "Lz5jWt2ZFwrY",
        "outputId": "830a2b84-cea8-49dc-ae76-28045395939a"
      },
      "execution_count": null,
      "outputs": [
        {
          "output_type": "execute_result",
          "data": {
            "text/plain": [
              "0.02397016203583349"
            ]
          },
          "metadata": {},
          "execution_count": 174
        }
      ]
    },
    {
      "cell_type": "code",
      "source": [
        "binom_test(32, 58, .5, \"greater\")"
      ],
      "metadata": {
        "colab": {
          "base_uri": "https://localhost:8080/"
        },
        "id": "4JuNS-dPF2ts",
        "outputId": "1b200170-f8c0-40a3-9a89-d5e3a824b9e8"
      },
      "execution_count": null,
      "outputs": [
        {
          "output_type": "execute_result",
          "data": {
            "text/plain": [
              "0.2559211542190845"
            ]
          },
          "metadata": {},
          "execution_count": 198
        }
      ]
    },
    {
      "cell_type": "code",
      "source": [
        "binom_test(34, 58, .5, \"greater\")"
      ],
      "metadata": {
        "colab": {
          "base_uri": "https://localhost:8080/"
        },
        "id": "SqRCgVNsGF78",
        "outputId": "6f8de6ed-91dd-4768-8977-d18a6c68701f"
      },
      "execution_count": null,
      "outputs": [
        {
          "output_type": "execute_result",
          "data": {
            "text/plain": [
              "0.1185235573813598"
            ]
          },
          "metadata": {},
          "execution_count": 179
        }
      ]
    },
    {
      "cell_type": "code",
      "source": [
        "for key, value in female_only_players_with_ratings_score.items():\n",
        "    avg_female_ratings[\"female_score\"][key] = {\n",
        "        \"rating\": np.mean(value),\n",
        "        \"matches\": len(value)\n",
        "    }\n",
        "\n",
        "for key, value in female_only_players_with_ratings_concede.items():\n",
        "    avg_female_ratings[\"female_concede\"][key] = {\n",
        "        \"rating\": np.mean(value),\n",
        "        \"matches\": len(value)\n",
        "    }"
      ],
      "metadata": {
        "id": "BfwlbTZHI3yT"
      },
      "execution_count": null,
      "outputs": []
    },
    {
      "cell_type": "code",
      "source": [
        "female_ratings = [i[\"rating\"] for i in avg_ratings[\"female_score\"].values()]\n",
        "female_only_ratings = [i[\"rating\"] for i in avg_female_ratings[\"female_score\"].values()]"
      ],
      "metadata": {
        "id": "HPmIlnSOJe5k"
      },
      "execution_count": null,
      "outputs": []
    },
    {
      "cell_type": "code",
      "source": [
        "with open('./drive/MyDrive/master/dumps/avg_female_ratings.json', 'wb') as f:\n",
        "    pickle.dump(avg_female_ratings, f)"
      ],
      "metadata": {
        "id": "nOrNAejsuzso"
      },
      "execution_count": null,
      "outputs": []
    }
  ]
}